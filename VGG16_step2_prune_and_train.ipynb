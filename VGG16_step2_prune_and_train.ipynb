{
 "cells": [
  {
   "cell_type": "code",
   "execution_count": 34,
   "id": "1ba3d836",
   "metadata": {},
   "outputs": [],
   "source": [
    "import torch\n",
    "from torchvision.datasets import CIFAR10\n",
    "import torchvision.models as models\n",
    "from torchvision import transforms\n",
    "import torch.nn.functional as F\n",
    "import torch.nn as nn \n",
    "import numpy as np \n",
    "import argparse\n",
    "import torch\n",
    "import matplotlib.pyplot as plt\n",
    "import os"
   ]
  },
  {
   "cell_type": "code",
   "execution_count": 3,
   "id": "75b34612",
   "metadata": {},
   "outputs": [],
   "source": [
    "import Torch_Pruning.torch_pruning as tp"
   ]
  },
  {
   "cell_type": "code",
   "execution_count": 2,
   "id": "4e10a8e5",
   "metadata": {},
   "outputs": [],
   "source": [
    "class VGG(torch.nn.Module):\n",
    "    def __init__(self, vgg='vgg16_bn', data_set='CIFAR10', pretrained=False):\n",
    "        super(VGG, self).__init__()\n",
    "        self.features = models.__dict__[vgg](pretrained=pretrained).features\n",
    "        \n",
    "        classifier = []\n",
    "        if 'CIFAR' in data_set:\n",
    "            num_class = int(data_set.split(\"CIFAR\")[1])\n",
    "            \n",
    "            classifier.append(torch.nn.Linear(512, 512))\n",
    "            classifier.append(torch.nn.BatchNorm1d(512))\n",
    "            classifier.append(torch.nn.Linear(512, num_class))\n",
    "        else:\n",
    "            raise RuntimeError(\"Not expected data flag !!!\")\n",
    "\n",
    "        self.classifier = torch.nn.Sequential(*classifier)\n",
    "        \n",
    "    def forward(self, x):\n",
    "        x = self.features(x)\n",
    "        x = torch.flatten(x, 1)\n",
    "        x = self.classifier(x)\n",
    "        return x"
   ]
  },
  {
   "cell_type": "code",
   "execution_count": null,
   "id": "8b574980",
   "metadata": {},
   "outputs": [],
   "source": []
  },
  {
   "cell_type": "code",
   "execution_count": 4,
   "id": "a476602f",
   "metadata": {},
   "outputs": [],
   "source": [
    "def prune_model(model):\n",
    "    model.cpu()\n",
    "    DG = tp.DependencyGraph().build_dependency( model, torch.randn(1, 3, 32, 32) )\n",
    "    def prune_conv(conv, amount=0.2):\n",
    "        strategy = tp.strategy.L1Strategy()\n",
    "        pruning_index = strategy(conv.weight, amount=amount)\n",
    "        plan = DG.get_pruning_plan(conv, tp.prune_conv_out_channel, pruning_index)\n",
    "        plan.exec()\n",
    "    \n",
    "    block_prune_probs = [0.6, 0.1, 0.15, 0.1, 0.1, 0.15, 0.15, 0.2, 0.8, 0.8, 0.8, 0.4, 0.4]\n",
    "    conv_id = 0\n",
    "    for m in model.features:\n",
    "        if isinstance( m, torch.nn.Conv2d ):\n",
    "            print(conv_id, m)\n",
    "            prune_conv( m, block_prune_probs[conv_id] )\n",
    "            conv_id += 1\n",
    "    return model"
   ]
  },
  {
   "cell_type": "code",
   "execution_count": 5,
   "id": "e49f5288",
   "metadata": {},
   "outputs": [],
   "source": [
    "def get_dataloader():\n",
    "    train_loader = torch.utils.data.DataLoader(\n",
    "        CIFAR10('./data', train=True, transform=transforms.Compose([\n",
    "            transforms.RandomCrop(32, padding=4),\n",
    "            transforms.RandomHorizontalFlip(),\n",
    "            transforms.ToTensor(),\n",
    "        ]), download=True),batch_size=256, num_workers=2)\n",
    "    test_loader = torch.utils.data.DataLoader(\n",
    "        CIFAR10('./data', train=False, transform=transforms.Compose([\n",
    "            transforms.ToTensor(),\n",
    "        ]),download=True),batch_size=256, num_workers=2)\n",
    "    return train_loader, test_loader"
   ]
  },
  {
   "cell_type": "code",
   "execution_count": 6,
   "id": "bfb280ea",
   "metadata": {},
   "outputs": [],
   "source": [
    "def eval(model, test_loader):\n",
    "    correct = 0\n",
    "    total = 0\n",
    "    device = torch.device(\"cuda\" if torch.cuda.is_available() else \"cpu\")\n",
    "    model.to(device)\n",
    "    model.eval()\n",
    "    with torch.no_grad():\n",
    "        for i, (img, target) in enumerate(test_loader):\n",
    "            img = img.to(device)\n",
    "            out = model(img)\n",
    "            pred = out.max(1)[1].detach().cpu().numpy()\n",
    "            target = target.cpu().numpy()\n",
    "            correct += (pred==target).sum()\n",
    "            total += len(target)\n",
    "    return correct / total"
   ]
  },
  {
   "cell_type": "code",
   "execution_count": 7,
   "id": "12a5bd50",
   "metadata": {},
   "outputs": [],
   "source": [
    "def train_model(model, train_loader, test_loader, epochs, round_num):\n",
    "    \n",
    "    device = torch.device(\"cuda\" if torch.cuda.is_available() else \"cpu\")\n",
    "    optimizer = torch.optim.SGD(model.parameters(), lr=0.1, momentum=0.9, weight_decay=1e-4)\n",
    "    scheduler = torch.optim.lr_scheduler.StepLR(optimizer, 70, 0.1)\n",
    "    model.to(device)\n",
    "    acc_s = []\n",
    "    best_acc = -1\n",
    "    for epoch in range(epochs):\n",
    "        model.train()\n",
    "        for i, (img, target) in enumerate(train_loader):\n",
    "            img, target = img.to(device), target.to(device)\n",
    "            optimizer.zero_grad()\n",
    "            out = model(img)\n",
    "            loss = F.cross_entropy(out, target)\n",
    "            loss.backward()\n",
    "            optimizer.step()\n",
    "        model.eval()\n",
    "        acc = eval(model, test_loader)\n",
    "        acc_s.append(acc)\n",
    "        if best_acc<acc:\n",
    "            torch.save( model, 'resnet18-round%d.pth'%(round_num) )\n",
    "            best_acc=acc\n",
    "        scheduler.step()\n",
    "    return best_acc, np.mean(acc_s)"
   ]
  },
  {
   "cell_type": "code",
   "execution_count": 8,
   "id": "bbb14305",
   "metadata": {},
   "outputs": [
    {
     "name": "stdout",
     "output_type": "stream",
     "text": [
      "Files already downloaded and verified\n",
      "Files already downloaded and verified\n"
     ]
    }
   ],
   "source": [
    "train_loader, test_loader = get_dataloader()"
   ]
  },
  {
   "cell_type": "code",
   "execution_count": 9,
   "id": "a60053e0",
   "metadata": {},
   "outputs": [],
   "source": [
    "model = VGG('vgg16_bn', 'CIFAR10')"
   ]
  },
  {
   "cell_type": "code",
   "execution_count": 10,
   "id": "cf635c31",
   "metadata": {},
   "outputs": [
    {
     "name": "stdout",
     "output_type": "stream",
     "text": [
      "Number of Parameters: 15.0M\n"
     ]
    }
   ],
   "source": [
    "params = sum([np.prod(p.size()) for p in model.parameters()])\n",
    "print(\"Number of Parameters: %.1fM\"%(params/1e6))"
   ]
  },
  {
   "cell_type": "code",
   "execution_count": 11,
   "id": "01a7af32",
   "metadata": {},
   "outputs": [],
   "source": [
    "model_dict = {\n",
    "    'params': [],\n",
    "    'summary': [],\n",
    "    'best_acc': [],\n",
    "    'mean_acc': [],\n",
    "    'out_channels': [],\n",
    "    'size': []\n",
    "}"
   ]
  },
  {
   "cell_type": "code",
   "execution_count": 12,
   "id": "e0b77176",
   "metadata": {},
   "outputs": [
    {
     "name": "stdout",
     "output_type": "stream",
     "text": [
      "--- Round 0 ---\n",
      "Number of Parameters: 15.0M\n",
      "--- Round 1 ---\n",
      "0 Conv2d(3, 64, kernel_size=(3, 3), stride=(1, 1), padding=(1, 1))\n",
      "1 Conv2d(26, 64, kernel_size=(3, 3), stride=(1, 1), padding=(1, 1))\n",
      "2 Conv2d(58, 128, kernel_size=(3, 3), stride=(1, 1), padding=(1, 1))\n",
      "3 Conv2d(109, 128, kernel_size=(3, 3), stride=(1, 1), padding=(1, 1))\n",
      "4 Conv2d(116, 256, kernel_size=(3, 3), stride=(1, 1), padding=(1, 1))\n",
      "5 Conv2d(231, 256, kernel_size=(3, 3), stride=(1, 1), padding=(1, 1))\n",
      "6 Conv2d(218, 256, kernel_size=(3, 3), stride=(1, 1), padding=(1, 1))\n",
      "7 Conv2d(218, 512, kernel_size=(3, 3), stride=(1, 1), padding=(1, 1))\n",
      "8 Conv2d(410, 512, kernel_size=(3, 3), stride=(1, 1), padding=(1, 1))\n",
      "9 Conv2d(103, 512, kernel_size=(3, 3), stride=(1, 1), padding=(1, 1))\n",
      "10 Conv2d(103, 512, kernel_size=(3, 3), stride=(1, 1), padding=(1, 1))\n",
      "11 Conv2d(103, 512, kernel_size=(3, 3), stride=(1, 1), padding=(1, 1))\n",
      "12 Conv2d(308, 512, kernel_size=(3, 3), stride=(1, 1), padding=(1, 1))\n",
      "Number of Parameters: 4.0M\n",
      "--- Round 2 ---\n",
      "0 Conv2d(3, 26, kernel_size=(3, 3), stride=(1, 1), padding=(1, 1))\n",
      "1 Conv2d(11, 58, kernel_size=(3, 3), stride=(1, 1), padding=(1, 1))\n",
      "2 Conv2d(53, 109, kernel_size=(3, 3), stride=(1, 1), padding=(1, 1))\n",
      "3 Conv2d(93, 116, kernel_size=(3, 3), stride=(1, 1), padding=(1, 1))\n",
      "4 Conv2d(105, 231, kernel_size=(3, 3), stride=(1, 1), padding=(1, 1))\n",
      "5 Conv2d(208, 218, kernel_size=(3, 3), stride=(1, 1), padding=(1, 1))\n",
      "6 Conv2d(186, 218, kernel_size=(3, 3), stride=(1, 1), padding=(1, 1))\n",
      "7 Conv2d(186, 410, kernel_size=(3, 3), stride=(1, 1), padding=(1, 1))\n",
      "8 Conv2d(328, 103, kernel_size=(3, 3), stride=(1, 1), padding=(1, 1))\n",
      "9 Conv2d(21, 103, kernel_size=(3, 3), stride=(1, 1), padding=(1, 1))\n",
      "10 Conv2d(21, 103, kernel_size=(3, 3), stride=(1, 1), padding=(1, 1))\n",
      "11 Conv2d(21, 308, kernel_size=(3, 3), stride=(1, 1), padding=(1, 1))\n",
      "12 Conv2d(185, 308, kernel_size=(3, 3), stride=(1, 1), padding=(1, 1))\n",
      "Number of Parameters: 2.1M\n",
      "--- Round 3 ---\n",
      "0 Conv2d(3, 11, kernel_size=(3, 3), stride=(1, 1), padding=(1, 1))\n",
      "1 Conv2d(5, 53, kernel_size=(3, 3), stride=(1, 1), padding=(1, 1))\n",
      "2 Conv2d(48, 93, kernel_size=(3, 3), stride=(1, 1), padding=(1, 1))\n",
      "3 Conv2d(80, 105, kernel_size=(3, 3), stride=(1, 1), padding=(1, 1))\n",
      "4 Conv2d(95, 208, kernel_size=(3, 3), stride=(1, 1), padding=(1, 1))\n",
      "5 Conv2d(188, 186, kernel_size=(3, 3), stride=(1, 1), padding=(1, 1))\n",
      "6 Conv2d(159, 186, kernel_size=(3, 3), stride=(1, 1), padding=(1, 1))\n",
      "7 Conv2d(159, 328, kernel_size=(3, 3), stride=(1, 1), padding=(1, 1))\n",
      "8 Conv2d(263, 21, kernel_size=(3, 3), stride=(1, 1), padding=(1, 1))\n",
      "9 Conv2d(5, 21, kernel_size=(3, 3), stride=(1, 1), padding=(1, 1))\n",
      "10 Conv2d(5, 21, kernel_size=(3, 3), stride=(1, 1), padding=(1, 1))\n",
      "11 Conv2d(5, 185, kernel_size=(3, 3), stride=(1, 1), padding=(1, 1))\n",
      "12 Conv2d(111, 185, kernel_size=(3, 3), stride=(1, 1), padding=(1, 1))\n",
      "Number of Parameters: 1.3M\n",
      "--- Round 4 ---\n",
      "0 Conv2d(3, 5, kernel_size=(3, 3), stride=(1, 1), padding=(1, 1))\n",
      "1 Conv2d(2, 48, kernel_size=(3, 3), stride=(1, 1), padding=(1, 1))\n",
      "2 Conv2d(44, 80, kernel_size=(3, 3), stride=(1, 1), padding=(1, 1))\n",
      "3 Conv2d(68, 95, kernel_size=(3, 3), stride=(1, 1), padding=(1, 1))\n",
      "4 Conv2d(86, 188, kernel_size=(3, 3), stride=(1, 1), padding=(1, 1))\n",
      "5 Conv2d(170, 159, kernel_size=(3, 3), stride=(1, 1), padding=(1, 1))\n",
      "6 Conv2d(136, 159, kernel_size=(3, 3), stride=(1, 1), padding=(1, 1))\n",
      "7 Conv2d(136, 263, kernel_size=(3, 3), stride=(1, 1), padding=(1, 1))\n",
      "8 Conv2d(211, 5, kernel_size=(3, 3), stride=(1, 1), padding=(1, 1))\n",
      "9 Conv2d(1, 5, kernel_size=(3, 3), stride=(1, 1), padding=(1, 1))\n",
      "10 Conv2d(1, 5, kernel_size=(3, 3), stride=(1, 1), padding=(1, 1))\n",
      "11 Conv2d(1, 111, kernel_size=(3, 3), stride=(1, 1), padding=(1, 1))\n",
      "12 Conv2d(67, 111, kernel_size=(3, 3), stride=(1, 1), padding=(1, 1))\n",
      "Number of Parameters: 0.9M\n"
     ]
    }
   ],
   "source": [
    "for i in range(5):\n",
    "    print(f'--- Round {i} ---')\n",
    "    if i > 0:\n",
    "        model = prune_model(model)\n",
    "    params = sum([np.prod(p.size()) for p in model.parameters()])\n",
    "    print(\"Number of Parameters: %.1fM\"%(params/1e6))\n",
    "    model_dict['params'].append(params/1e6)\n",
    "    model_dict['summary'].append(model)\n",
    "    best_acc, mean_acc = train_model(model, train_loader, test_loader, 100 if i == 0 else 30, i)\n",
    "    model_dict['best_acc'].append(best_acc)\n",
    "    model_dict['mean_acc'].append(mean_acc)\n",
    "    \n",
    "    size = os.path.getsize('resnet18-round{x}.pth'.format(x=i)) / (1024 * 1024)\n",
    "    model_dict['size'].append(size)\n",
    "    \n",
    "    out_ch = []\n",
    "    for layer in model.features:\n",
    "    if isinstance(layer, torch.nn.Conv2d):\n",
    "        out_ch.append(layer.weight.data.cpu().numpy().shape[0])\n",
    "    model_dict['out_channels'].append(out_ch)"
   ]
  },
  {
   "cell_type": "code",
   "execution_count": null,
   "id": "841e0835",
   "metadata": {},
   "outputs": [],
   "source": []
  },
  {
   "cell_type": "code",
   "execution_count": 30,
   "id": "923e831d",
   "metadata": {},
   "outputs": [
    {
     "data": {
      "text/plain": [
       "(0.9126, 0.8669)"
      ]
     },
     "execution_count": 30,
     "metadata": {},
     "output_type": "execute_result"
    }
   ],
   "source": [
    "model_dict['best'][0], model_dict['best'][-1]"
   ]
  },
  {
   "cell_type": "code",
   "execution_count": 19,
   "id": "72c1ea9e",
   "metadata": {},
   "outputs": [
    {
     "data": {
      "image/png": "[encoded data removed]",
      "text/plain": [
       "<Figure size 432x288 with 1 Axes>"
      ]
     },
     "metadata": {
      "needs_background": "light"
     },
     "output_type": "display_data"
    }
   ],
   "source": [
    "plt.plot(model_dict['best'], label='Best Accuracy')\n",
    "plt.plot(model_dict['mean'], label='Mean Accuracy')\n",
    "plt.legend()\n",
    "plt.xlabel('Rounds')\n",
    "plt.ylabel('Accuracy Value')\n",
    "plt.title('Accuracy vs Pruning Rounds')\n",
    "plt.show()"
   ]
  },
  {
   "cell_type": "code",
   "execution_count": 32,
   "id": "ffa51465",
   "metadata": {},
   "outputs": [
    {
     "data": {
      "image/png": "[encoded data removed]",
      "text/plain": [
       "<Figure size 432x288 with 1 Axes>"
      ]
     },
     "metadata": {
      "needs_background": "light"
     },
     "output_type": "display_data"
    }
   ],
   "source": [
    "plt.bar(np.arange(5), model_dict['params'])\n",
    "plt.xlabel('Rounds')\n",
    "plt.ylabel('Number of Parameters (In millions)')\n",
    "plt.title('Number of Parameters vs Pruning Rounds')\n",
    "plt.show()"
   ]
  },
  {
   "cell_type": "code",
   "execution_count": 22,
   "id": "e3ecc55c",
   "metadata": {},
   "outputs": [
    {
     "name": "stdout",
     "output_type": "stream",
     "text": [
      "Model Size after round 0 = 57.3 MB\n",
      "Model Size after round 1 = 15.3 MB\n",
      "Model Size after round 2 = 7.9 MB\n",
      "Model Size after round 3 = 5.1 MB\n",
      "Model Size after round 4 = 3.6 MB\n"
     ]
    }
   ],
   "source": [
    "sizes = []\n",
    "for i in range(5):\n",
    "    \n",
    "    print(f\"Model Size after round {i} = \" +\n",
    "          f\"{size:.1f} MB\")"
   ]
  },
  {
   "cell_type": "code",
   "execution_count": 33,
   "id": "d913c288",
   "metadata": {},
   "outputs": [
    {
     "data": {
      "image/png": "[encoded data removed]",
      "text/plain": [
       "<Figure size 432x288 with 1 Axes>"
      ]
     },
     "metadata": {
      "needs_background": "light"
     },
     "output_type": "display_data"
    }
   ],
   "source": [
    "plt.bar(np.arange(5), sizes)\n",
    "plt.xlabel('Rounds')\n",
    "plt.ylabel('Model Size (in MB)')\n",
    "plt.title('Model Size vs Pruning Rounds')\n",
    "plt.show()"
   ]
  },
  {
   "cell_type": "code",
   "execution_count": null,
   "id": "16159c7b",
   "metadata": {},
   "outputs": [],
   "source": []
  }
 ],
 "metadata": {
  "kernelspec": {
   "display_name": "Python 3 (ipykernel)",
   "language": "python",
   "name": "python3"
  },
  "language_info": {
   "codemirror_mode": {
    "name": "ipython",
    "version": 3
   },
   "file_extension": ".py",
   "mimetype": "text/x-python",
   "name": "python",
   "nbconvert_exporter": "python",
   "pygments_lexer": "ipython3",
   "version": "3.9.12"
  }
 },
 "nbformat": 4,
 "nbformat_minor": 5
}
