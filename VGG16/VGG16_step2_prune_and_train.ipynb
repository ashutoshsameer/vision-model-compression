{
 "cells": [
  {
   "cell_type": "code",
   "execution_count": 1,
   "id": "1ba3d836",
   "metadata": {},
   "outputs": [],
   "source": [
    "# Imports\n",
    "import torch\n",
    "from torchvision.datasets import CIFAR10\n",
    "import torchvision.models as models\n",
    "from torchvision import transforms\n",
    "import torch.nn.functional as F\n",
    "import torch.nn as nn \n",
    "import numpy as np \n",
    "import argparse\n",
    "import torch\n",
    "import matplotlib.pyplot as plt\n",
    "import os\n",
    "import pandas as pd\n",
    "\n",
    "import Torch_Pruning.torch_pruning as tp"
   ]
  },
  {
   "cell_type": "code",
   "execution_count": 3,
   "id": "4e10a8e5",
   "metadata": {},
   "outputs": [],
   "source": [
    "# Create VGG architecture with custom classifier layers\n",
    "class VGG(torch.nn.Module):\n",
    "    def __init__(self, vgg='vgg16', data_set='CIFAR10', pretrained=False):\n",
    "        super(VGG, self).__init__()\n",
    "        self.features = models.__dict__[vgg](pretrained=pretrained).features\n",
    "        \n",
    "        classifier = []\n",
    "        if 'CIFAR' in data_set:\n",
    "            num_class = int(data_set.split(\"CIFAR\")[1])\n",
    "            \n",
    "            classifier.append(torch.nn.Linear(512, 512))\n",
    "            classifier.append(torch.nn.BatchNorm1d(512))\n",
    "            classifier.append(torch.nn.Linear(512, num_class))\n",
    "        else:\n",
    "            raise RuntimeError(\"Not expected data flag !!!\")\n",
    "\n",
    "        self.classifier = torch.nn.Sequential(*classifier)\n",
    "        \n",
    "    def forward(self, x):\n",
    "        x = self.features(x)\n",
    "        x = torch.flatten(x, 1)\n",
    "        x = self.classifier(x)\n",
    "        return x"
   ]
  },
  {
   "cell_type": "code",
   "execution_count": null,
   "id": "8b574980",
   "metadata": {},
   "outputs": [],
   "source": []
  },
  {
   "cell_type": "code",
   "execution_count": 34,
   "id": "a476602f",
   "metadata": {},
   "outputs": [],
   "source": [
    "# Code to prune model based on L1 norm of filter weights\n",
    "# Prunes 'amount' percentage of filters based on lowest L1 norm\n",
    "def prune_model(model):\n",
    "    model.cpu()\n",
    "    DG = tp.DependencyGraph().build_dependency( model, torch.randn(1, 3, 32, 32) )\n",
    "   \n",
    "    def prune_conv(conv, amount=0.2):\n",
    "        strategy = tp.strategy.L1Strategy()\n",
    "        pruning_index = strategy(conv.weight, amount=amount)\n",
    "        plan = DG.get_pruning_plan(conv, tp.prune_conv_out_channel, pruning_index)\n",
    "        plan.exec()\n",
    "    \n",
    "    # Define percentages by which filters in each layer will be pruned\n",
    "    block_prune_probs = [0.4, 0.2, 0.1, 0.05, 0.1, 0.5, 0.5, 0.6, 0.6, 0.6, 0.6, 0.6, 0.6]\n",
    "    conv_id = 0\n",
    "    for m in model.features:\n",
    "        if isinstance( m, torch.nn.Conv2d ):\n",
    "            prune_conv( m, block_prune_probs[conv_id] )\n",
    "            conv_id += 1\n",
    "    return model"
   ]
  },
  {
   "cell_type": "code",
   "execution_count": null,
   "id": "7c9f0270",
   "metadata": {},
   "outputs": [],
   "source": []
  },
  {
   "cell_type": "code",
   "execution_count": 35,
   "id": "e49f5288",
   "metadata": {},
   "outputs": [],
   "source": [
    "# Prepare dataloaders for CIFAR10\n",
    "def get_dataloader():\n",
    "    train_loader = torch.utils.data.DataLoader(\n",
    "        CIFAR10('./data', train=True, transform=transforms.Compose([\n",
    "            transforms.RandomCrop(32, padding=4),\n",
    "            transforms.RandomHorizontalFlip(),\n",
    "            transforms.ToTensor(),\n",
    "        ]), download=True),batch_size=256, num_workers=2)\n",
    "    test_loader = torch.utils.data.DataLoader(\n",
    "        CIFAR10('./data', train=False, transform=transforms.Compose([\n",
    "            transforms.ToTensor(),\n",
    "        ]),download=True),batch_size=256, num_workers=2)\n",
    "    return train_loader, test_loader"
   ]
  },
  {
   "cell_type": "code",
   "execution_count": 36,
   "id": "bfb280ea",
   "metadata": {},
   "outputs": [],
   "source": [
    "# Evaluate accuracy of model on test_loader\n",
    "def eval(model, test_loader):\n",
    "    correct = 0\n",
    "    total = 0\n",
    "    device = torch.device(\"cuda\" if torch.cuda.is_available() else \"cpu\")\n",
    "    model.to(device)\n",
    "    model.eval()\n",
    "    with torch.no_grad():\n",
    "        for i, (img, target) in enumerate(test_loader):\n",
    "            img = img.to(device)\n",
    "            out = model(img)\n",
    "            pred = out.max(1)[1].detach().cpu().numpy()\n",
    "            target = target.cpu().numpy()\n",
    "            correct += (pred==target).sum()\n",
    "            total += len(target)\n",
    "    return correct / total"
   ]
  },
  {
   "cell_type": "code",
   "execution_count": 37,
   "id": "12a5bd50",
   "metadata": {},
   "outputs": [],
   "source": [
    "# Train model on train_loader for given epochs and evaluate on test_loader\n",
    "def train_model(model, train_loader, test_loader, epochs, round_num):\n",
    "    \n",
    "    device = torch.device(\"cuda\" if torch.cuda.is_available() else \"cpu\")\n",
    "    optimizer = torch.optim.SGD(model.parameters(), lr=0.1, momentum=0.9, weight_decay=1e-4)\n",
    "    scheduler = torch.optim.lr_scheduler.StepLR(optimizer, 70, 0.1)\n",
    "    model.to(device)\n",
    "    acc_s = []\n",
    "    best_acc = -1\n",
    "    \n",
    "    for epoch in range(epochs):\n",
    "        model.train()\n",
    "        \n",
    "        for i, (img, target) in enumerate(train_loader):\n",
    "            img, target = img.to(device), target.to(device)\n",
    "            optimizer.zero_grad()\n",
    "            out = model(img)\n",
    "            loss = F.cross_entropy(out, target)\n",
    "            loss.backward()\n",
    "            optimizer.step()\n",
    "        model.eval()\n",
    "        acc = eval(model, test_loader)\n",
    "        acc_s.append(acc)\n",
    "        \n",
    "        # Save model if it is better than previous checkpoint\n",
    "        if best_acc<acc:\n",
    "            torch.save( model, 'vgg16-round%d.pth'%(round_num) )\n",
    "            best_acc=acc\n",
    "        scheduler.step()\n",
    "        \n",
    "    return best_acc, np.mean(acc_s)"
   ]
  },
  {
   "cell_type": "code",
   "execution_count": 38,
   "id": "bbb14305",
   "metadata": {},
   "outputs": [
    {
     "name": "stdout",
     "output_type": "stream",
     "text": [
      "Files already downloaded and verified\n",
      "Files already downloaded and verified\n"
     ]
    }
   ],
   "source": [
    "# Download dataset and create train and test dataloaders\n",
    "train_loader, test_loader = get_dataloader()"
   ]
  },
  {
   "cell_type": "code",
   "execution_count": 39,
   "id": "a60053e0",
   "metadata": {},
   "outputs": [],
   "source": [
    "# Create baseline model\n",
    "model = VGG('vgg16', 'CIFAR10')"
   ]
  },
  {
   "cell_type": "code",
   "execution_count": 40,
   "id": "cf635c31",
   "metadata": {},
   "outputs": [
    {
     "name": "stdout",
     "output_type": "stream",
     "text": [
      "Number of Parameters: 15.0M\n"
     ]
    }
   ],
   "source": [
    "params = sum([np.prod(p.size()) for p in model.parameters()])\n",
    "print(\"Number of Parameters: %.1fM\"%(params/1e6))"
   ]
  },
  {
   "cell_type": "code",
   "execution_count": 41,
   "id": "01a7af32",
   "metadata": {},
   "outputs": [],
   "source": [
    "model_dict = {\n",
    "    'params': [],\n",
    "    'summary': [],\n",
    "    'best_acc': [],\n",
    "    'mean_acc': [],\n",
    "    'out_channels': [],\n",
    "    'size': [],\n",
    "    'macs_params': []\n",
    "}"
   ]
  },
  {
   "cell_type": "code",
   "execution_count": 42,
   "id": "b6d6b6af",
   "metadata": {},
   "outputs": [
    {
     "name": "stdout",
     "output_type": "stream",
     "text": [
      "--- Round 0 ---\n",
      "Number of Parameters: 15.0 M\n",
      "Model Size: 57.178 MB\n",
      "--- Round 1 ---\n",
      "Number of Parameters: 3.1 M\n",
      "Model Size: 11.882 MB\n",
      "--- Round 2 ---\n",
      "Number of Parameters: 0.9 M\n",
      "Model Size: 3.578 MB\n",
      "--- Round 3 ---\n",
      "Number of Parameters: 0.5 M\n",
      "Model Size: 1.787 MB\n",
      "--- Round 4 ---\n",
      "Number of Parameters: 0.3 M\n",
      "Model Size: 1.243 MB\n"
     ]
    }
   ],
   "source": [
    "# Iteratively prune and finetune network \n",
    "for i in range(5):\n",
    "    print(f'--- Round {i} ---')\n",
    "    \n",
    "    # Prune only after 1st step since 1st step is baseline model\n",
    "    if i > 0:\n",
    "        model = prune_model(model)\n",
    "    \n",
    "    # Compute metrics after pruning to evaluate performance\n",
    "    params = sum([np.prod(p.size()) for p in model.parameters()])\n",
    "    model_dict['params'].append(params/1e6)\n",
    "    model_dict['summary'].append(model)\n",
    "    \n",
    "    # Train model for 100 epochs in 1st step to create baseline model, else 30 epochs to finetune it\n",
    "    best_acc, mean_acc = train_model(model, train_loader, test_loader, 100 if i == 0 else 30, i)\n",
    "    model_dict['best_acc'].append(best_acc)\n",
    "    model_dict['mean_acc'].append(mean_acc)\n",
    "    model_dict['macs_params'].append(tp.utils.count_macs_and_params(model.cpu(), (1,3,32,32)))\n",
    "    \n",
    "    size = os.path.getsize('vgg16-round{x}.pth'.format(x=i)) / (1024 * 1024)\n",
    "    model_dict['size'].append(size)\n",
    "    print(\"Number of Parameters: %.1f M\"%(params/1e6))\n",
    "    print(f\"Model Size: {size:.3f} MB\")\n",
    "    \n",
    "    # Store number of out_channels in each conv layer\n",
    "    out_ch = []\n",
    "    for layer in model.features:\n",
    "        if isinstance(layer, torch.nn.Conv2d):\n",
    "            out_ch.append(layer.weight.data.cpu().numpy().shape[0])\n",
    "    model_dict['out_channels'].append(out_ch)"
   ]
  },
  {
   "cell_type": "code",
   "execution_count": 43,
   "id": "f88c88b1",
   "metadata": {},
   "outputs": [
    {
     "data": {
      "text/plain": [
       "VGG(\n",
       "  (features): Sequential(\n",
       "    (0): Conv2d(3, 9, kernel_size=(3, 3), stride=(1, 1), padding=(1, 1))\n",
       "    (1): ReLU(inplace=True)\n",
       "    (2): Conv2d(9, 28, kernel_size=(3, 3), stride=(1, 1), padding=(1, 1))\n",
       "    (3): ReLU(inplace=True)\n",
       "    (4): MaxPool2d(kernel_size=2, stride=2, padding=0, dilation=1, ceil_mode=False)\n",
       "    (5): Conv2d(28, 86, kernel_size=(3, 3), stride=(1, 1), padding=(1, 1))\n",
       "    (6): ReLU(inplace=True)\n",
       "    (7): Conv2d(86, 106, kernel_size=(3, 3), stride=(1, 1), padding=(1, 1))\n",
       "    (8): ReLU(inplace=True)\n",
       "    (9): MaxPool2d(kernel_size=2, stride=2, padding=0, dilation=1, ceil_mode=False)\n",
       "    (10): Conv2d(106, 170, kernel_size=(3, 3), stride=(1, 1), padding=(1, 1))\n",
       "    (11): ReLU(inplace=True)\n",
       "    (12): Conv2d(170, 16, kernel_size=(3, 3), stride=(1, 1), padding=(1, 1))\n",
       "    (13): ReLU(inplace=True)\n",
       "    (14): Conv2d(16, 16, kernel_size=(3, 3), stride=(1, 1), padding=(1, 1))\n",
       "    (15): ReLU(inplace=True)\n",
       "    (16): MaxPool2d(kernel_size=2, stride=2, padding=0, dilation=1, ceil_mode=False)\n",
       "    (17): Conv2d(16, 14, kernel_size=(3, 3), stride=(1, 1), padding=(1, 1))\n",
       "    (18): ReLU(inplace=True)\n",
       "    (19): Conv2d(14, 14, kernel_size=(3, 3), stride=(1, 1), padding=(1, 1))\n",
       "    (20): ReLU(inplace=True)\n",
       "    (21): Conv2d(14, 14, kernel_size=(3, 3), stride=(1, 1), padding=(1, 1))\n",
       "    (22): ReLU(inplace=True)\n",
       "    (23): MaxPool2d(kernel_size=2, stride=2, padding=0, dilation=1, ceil_mode=False)\n",
       "    (24): Conv2d(14, 14, kernel_size=(3, 3), stride=(1, 1), padding=(1, 1))\n",
       "    (25): ReLU(inplace=True)\n",
       "    (26): Conv2d(14, 14, kernel_size=(3, 3), stride=(1, 1), padding=(1, 1))\n",
       "    (27): ReLU(inplace=True)\n",
       "    (28): Conv2d(14, 14, kernel_size=(3, 3), stride=(1, 1), padding=(1, 1))\n",
       "    (29): ReLU(inplace=True)\n",
       "    (30): MaxPool2d(kernel_size=2, stride=2, padding=0, dilation=1, ceil_mode=False)\n",
       "  )\n",
       "  (classifier): Sequential(\n",
       "    (0): Linear(in_features=14, out_features=512, bias=True)\n",
       "    (1): BatchNorm1d(512, eps=1e-05, momentum=0.1, affine=True, track_running_stats=True)\n",
       "    (2): Linear(in_features=512, out_features=10, bias=True)\n",
       "  )\n",
       ")"
      ]
     },
     "execution_count": 43,
     "metadata": {},
     "output_type": "execute_result"
    }
   ],
   "source": [
    "model"
   ]
  },
  {
   "cell_type": "code",
   "execution_count": null,
   "id": "841e0835",
   "metadata": {},
   "outputs": [],
   "source": []
  },
  {
   "cell_type": "code",
   "execution_count": 46,
   "id": "51074ad2",
   "metadata": {
    "scrolled": false
   },
   "outputs": [
    {
     "data": {
      "text/plain": [
       "{'params': [14.983498, 3.109124, 0.932431, 0.462918, 0.320376],\n",
       " 'summary': [VGG(\n",
       "    (features): Sequential(\n",
       "      (0): Conv2d(3, 9, kernel_size=(3, 3), stride=(1, 1), padding=(1, 1))\n",
       "      (1): ReLU(inplace=True)\n",
       "      (2): Conv2d(9, 28, kernel_size=(3, 3), stride=(1, 1), padding=(1, 1))\n",
       "      (3): ReLU(inplace=True)\n",
       "      (4): MaxPool2d(kernel_size=2, stride=2, padding=0, dilation=1, ceil_mode=False)\n",
       "      (5): Conv2d(28, 86, kernel_size=(3, 3), stride=(1, 1), padding=(1, 1))\n",
       "      (6): ReLU(inplace=True)\n",
       "      (7): Conv2d(86, 106, kernel_size=(3, 3), stride=(1, 1), padding=(1, 1))\n",
       "      (8): ReLU(inplace=True)\n",
       "      (9): MaxPool2d(kernel_size=2, stride=2, padding=0, dilation=1, ceil_mode=False)\n",
       "      (10): Conv2d(106, 170, kernel_size=(3, 3), stride=(1, 1), padding=(1, 1))\n",
       "      (11): ReLU(inplace=True)\n",
       "      (12): Conv2d(170, 16, kernel_size=(3, 3), stride=(1, 1), padding=(1, 1))\n",
       "      (13): ReLU(inplace=True)\n",
       "      (14): Conv2d(16, 16, kernel_size=(3, 3), stride=(1, 1), padding=(1, 1))\n",
       "      (15): ReLU(inplace=True)\n",
       "      (16): MaxPool2d(kernel_size=2, stride=2, padding=0, dilation=1, ceil_mode=False)\n",
       "      (17): Conv2d(16, 14, kernel_size=(3, 3), stride=(1, 1), padding=(1, 1))\n",
       "      (18): ReLU(inplace=True)\n",
       "      (19): Conv2d(14, 14, kernel_size=(3, 3), stride=(1, 1), padding=(1, 1))\n",
       "      (20): ReLU(inplace=True)\n",
       "      (21): Conv2d(14, 14, kernel_size=(3, 3), stride=(1, 1), padding=(1, 1))\n",
       "      (22): ReLU(inplace=True)\n",
       "      (23): MaxPool2d(kernel_size=2, stride=2, padding=0, dilation=1, ceil_mode=False)\n",
       "      (24): Conv2d(14, 14, kernel_size=(3, 3), stride=(1, 1), padding=(1, 1))\n",
       "      (25): ReLU(inplace=True)\n",
       "      (26): Conv2d(14, 14, kernel_size=(3, 3), stride=(1, 1), padding=(1, 1))\n",
       "      (27): ReLU(inplace=True)\n",
       "      (28): Conv2d(14, 14, kernel_size=(3, 3), stride=(1, 1), padding=(1, 1))\n",
       "      (29): ReLU(inplace=True)\n",
       "      (30): MaxPool2d(kernel_size=2, stride=2, padding=0, dilation=1, ceil_mode=False)\n",
       "    )\n",
       "    (classifier): Sequential(\n",
       "      (0): Linear(in_features=14, out_features=512, bias=True)\n",
       "      (1): BatchNorm1d(512, eps=1e-05, momentum=0.1, affine=True, track_running_stats=True)\n",
       "      (2): Linear(in_features=512, out_features=10, bias=True)\n",
       "    )\n",
       "  ),\n",
       "  VGG(\n",
       "    (features): Sequential(\n",
       "      (0): Conv2d(3, 9, kernel_size=(3, 3), stride=(1, 1), padding=(1, 1))\n",
       "      (1): ReLU(inplace=True)\n",
       "      (2): Conv2d(9, 28, kernel_size=(3, 3), stride=(1, 1), padding=(1, 1))\n",
       "      (3): ReLU(inplace=True)\n",
       "      (4): MaxPool2d(kernel_size=2, stride=2, padding=0, dilation=1, ceil_mode=False)\n",
       "      (5): Conv2d(28, 86, kernel_size=(3, 3), stride=(1, 1), padding=(1, 1))\n",
       "      (6): ReLU(inplace=True)\n",
       "      (7): Conv2d(86, 106, kernel_size=(3, 3), stride=(1, 1), padding=(1, 1))\n",
       "      (8): ReLU(inplace=True)\n",
       "      (9): MaxPool2d(kernel_size=2, stride=2, padding=0, dilation=1, ceil_mode=False)\n",
       "      (10): Conv2d(106, 170, kernel_size=(3, 3), stride=(1, 1), padding=(1, 1))\n",
       "      (11): ReLU(inplace=True)\n",
       "      (12): Conv2d(170, 16, kernel_size=(3, 3), stride=(1, 1), padding=(1, 1))\n",
       "      (13): ReLU(inplace=True)\n",
       "      (14): Conv2d(16, 16, kernel_size=(3, 3), stride=(1, 1), padding=(1, 1))\n",
       "      (15): ReLU(inplace=True)\n",
       "      (16): MaxPool2d(kernel_size=2, stride=2, padding=0, dilation=1, ceil_mode=False)\n",
       "      (17): Conv2d(16, 14, kernel_size=(3, 3), stride=(1, 1), padding=(1, 1))\n",
       "      (18): ReLU(inplace=True)\n",
       "      (19): Conv2d(14, 14, kernel_size=(3, 3), stride=(1, 1), padding=(1, 1))\n",
       "      (20): ReLU(inplace=True)\n",
       "      (21): Conv2d(14, 14, kernel_size=(3, 3), stride=(1, 1), padding=(1, 1))\n",
       "      (22): ReLU(inplace=True)\n",
       "      (23): MaxPool2d(kernel_size=2, stride=2, padding=0, dilation=1, ceil_mode=False)\n",
       "      (24): Conv2d(14, 14, kernel_size=(3, 3), stride=(1, 1), padding=(1, 1))\n",
       "      (25): ReLU(inplace=True)\n",
       "      (26): Conv2d(14, 14, kernel_size=(3, 3), stride=(1, 1), padding=(1, 1))\n",
       "      (27): ReLU(inplace=True)\n",
       "      (28): Conv2d(14, 14, kernel_size=(3, 3), stride=(1, 1), padding=(1, 1))\n",
       "      (29): ReLU(inplace=True)\n",
       "      (30): MaxPool2d(kernel_size=2, stride=2, padding=0, dilation=1, ceil_mode=False)\n",
       "    )\n",
       "    (classifier): Sequential(\n",
       "      (0): Linear(in_features=14, out_features=512, bias=True)\n",
       "      (1): BatchNorm1d(512, eps=1e-05, momentum=0.1, affine=True, track_running_stats=True)\n",
       "      (2): Linear(in_features=512, out_features=10, bias=True)\n",
       "    )\n",
       "  ),\n",
       "  VGG(\n",
       "    (features): Sequential(\n",
       "      (0): Conv2d(3, 9, kernel_size=(3, 3), stride=(1, 1), padding=(1, 1))\n",
       "      (1): ReLU(inplace=True)\n",
       "      (2): Conv2d(9, 28, kernel_size=(3, 3), stride=(1, 1), padding=(1, 1))\n",
       "      (3): ReLU(inplace=True)\n",
       "      (4): MaxPool2d(kernel_size=2, stride=2, padding=0, dilation=1, ceil_mode=False)\n",
       "      (5): Conv2d(28, 86, kernel_size=(3, 3), stride=(1, 1), padding=(1, 1))\n",
       "      (6): ReLU(inplace=True)\n",
       "      (7): Conv2d(86, 106, kernel_size=(3, 3), stride=(1, 1), padding=(1, 1))\n",
       "      (8): ReLU(inplace=True)\n",
       "      (9): MaxPool2d(kernel_size=2, stride=2, padding=0, dilation=1, ceil_mode=False)\n",
       "      (10): Conv2d(106, 170, kernel_size=(3, 3), stride=(1, 1), padding=(1, 1))\n",
       "      (11): ReLU(inplace=True)\n",
       "      (12): Conv2d(170, 16, kernel_size=(3, 3), stride=(1, 1), padding=(1, 1))\n",
       "      (13): ReLU(inplace=True)\n",
       "      (14): Conv2d(16, 16, kernel_size=(3, 3), stride=(1, 1), padding=(1, 1))\n",
       "      (15): ReLU(inplace=True)\n",
       "      (16): MaxPool2d(kernel_size=2, stride=2, padding=0, dilation=1, ceil_mode=False)\n",
       "      (17): Conv2d(16, 14, kernel_size=(3, 3), stride=(1, 1), padding=(1, 1))\n",
       "      (18): ReLU(inplace=True)\n",
       "      (19): Conv2d(14, 14, kernel_size=(3, 3), stride=(1, 1), padding=(1, 1))\n",
       "      (20): ReLU(inplace=True)\n",
       "      (21): Conv2d(14, 14, kernel_size=(3, 3), stride=(1, 1), padding=(1, 1))\n",
       "      (22): ReLU(inplace=True)\n",
       "      (23): MaxPool2d(kernel_size=2, stride=2, padding=0, dilation=1, ceil_mode=False)\n",
       "      (24): Conv2d(14, 14, kernel_size=(3, 3), stride=(1, 1), padding=(1, 1))\n",
       "      (25): ReLU(inplace=True)\n",
       "      (26): Conv2d(14, 14, kernel_size=(3, 3), stride=(1, 1), padding=(1, 1))\n",
       "      (27): ReLU(inplace=True)\n",
       "      (28): Conv2d(14, 14, kernel_size=(3, 3), stride=(1, 1), padding=(1, 1))\n",
       "      (29): ReLU(inplace=True)\n",
       "      (30): MaxPool2d(kernel_size=2, stride=2, padding=0, dilation=1, ceil_mode=False)\n",
       "    )\n",
       "    (classifier): Sequential(\n",
       "      (0): Linear(in_features=14, out_features=512, bias=True)\n",
       "      (1): BatchNorm1d(512, eps=1e-05, momentum=0.1, affine=True, track_running_stats=True)\n",
       "      (2): Linear(in_features=512, out_features=10, bias=True)\n",
       "    )\n",
       "  ),\n",
       "  VGG(\n",
       "    (features): Sequential(\n",
       "      (0): Conv2d(3, 9, kernel_size=(3, 3), stride=(1, 1), padding=(1, 1))\n",
       "      (1): ReLU(inplace=True)\n",
       "      (2): Conv2d(9, 28, kernel_size=(3, 3), stride=(1, 1), padding=(1, 1))\n",
       "      (3): ReLU(inplace=True)\n",
       "      (4): MaxPool2d(kernel_size=2, stride=2, padding=0, dilation=1, ceil_mode=False)\n",
       "      (5): Conv2d(28, 86, kernel_size=(3, 3), stride=(1, 1), padding=(1, 1))\n",
       "      (6): ReLU(inplace=True)\n",
       "      (7): Conv2d(86, 106, kernel_size=(3, 3), stride=(1, 1), padding=(1, 1))\n",
       "      (8): ReLU(inplace=True)\n",
       "      (9): MaxPool2d(kernel_size=2, stride=2, padding=0, dilation=1, ceil_mode=False)\n",
       "      (10): Conv2d(106, 170, kernel_size=(3, 3), stride=(1, 1), padding=(1, 1))\n",
       "      (11): ReLU(inplace=True)\n",
       "      (12): Conv2d(170, 16, kernel_size=(3, 3), stride=(1, 1), padding=(1, 1))\n",
       "      (13): ReLU(inplace=True)\n",
       "      (14): Conv2d(16, 16, kernel_size=(3, 3), stride=(1, 1), padding=(1, 1))\n",
       "      (15): ReLU(inplace=True)\n",
       "      (16): MaxPool2d(kernel_size=2, stride=2, padding=0, dilation=1, ceil_mode=False)\n",
       "      (17): Conv2d(16, 14, kernel_size=(3, 3), stride=(1, 1), padding=(1, 1))\n",
       "      (18): ReLU(inplace=True)\n",
       "      (19): Conv2d(14, 14, kernel_size=(3, 3), stride=(1, 1), padding=(1, 1))\n",
       "      (20): ReLU(inplace=True)\n",
       "      (21): Conv2d(14, 14, kernel_size=(3, 3), stride=(1, 1), padding=(1, 1))\n",
       "      (22): ReLU(inplace=True)\n",
       "      (23): MaxPool2d(kernel_size=2, stride=2, padding=0, dilation=1, ceil_mode=False)\n",
       "      (24): Conv2d(14, 14, kernel_size=(3, 3), stride=(1, 1), padding=(1, 1))\n",
       "      (25): ReLU(inplace=True)\n",
       "      (26): Conv2d(14, 14, kernel_size=(3, 3), stride=(1, 1), padding=(1, 1))\n",
       "      (27): ReLU(inplace=True)\n",
       "      (28): Conv2d(14, 14, kernel_size=(3, 3), stride=(1, 1), padding=(1, 1))\n",
       "      (29): ReLU(inplace=True)\n",
       "      (30): MaxPool2d(kernel_size=2, stride=2, padding=0, dilation=1, ceil_mode=False)\n",
       "    )\n",
       "    (classifier): Sequential(\n",
       "      (0): Linear(in_features=14, out_features=512, bias=True)\n",
       "      (1): BatchNorm1d(512, eps=1e-05, momentum=0.1, affine=True, track_running_stats=True)\n",
       "      (2): Linear(in_features=512, out_features=10, bias=True)\n",
       "    )\n",
       "  ),\n",
       "  VGG(\n",
       "    (features): Sequential(\n",
       "      (0): Conv2d(3, 9, kernel_size=(3, 3), stride=(1, 1), padding=(1, 1))\n",
       "      (1): ReLU(inplace=True)\n",
       "      (2): Conv2d(9, 28, kernel_size=(3, 3), stride=(1, 1), padding=(1, 1))\n",
       "      (3): ReLU(inplace=True)\n",
       "      (4): MaxPool2d(kernel_size=2, stride=2, padding=0, dilation=1, ceil_mode=False)\n",
       "      (5): Conv2d(28, 86, kernel_size=(3, 3), stride=(1, 1), padding=(1, 1))\n",
       "      (6): ReLU(inplace=True)\n",
       "      (7): Conv2d(86, 106, kernel_size=(3, 3), stride=(1, 1), padding=(1, 1))\n",
       "      (8): ReLU(inplace=True)\n",
       "      (9): MaxPool2d(kernel_size=2, stride=2, padding=0, dilation=1, ceil_mode=False)\n",
       "      (10): Conv2d(106, 170, kernel_size=(3, 3), stride=(1, 1), padding=(1, 1))\n",
       "      (11): ReLU(inplace=True)\n",
       "      (12): Conv2d(170, 16, kernel_size=(3, 3), stride=(1, 1), padding=(1, 1))\n",
       "      (13): ReLU(inplace=True)\n",
       "      (14): Conv2d(16, 16, kernel_size=(3, 3), stride=(1, 1), padding=(1, 1))\n",
       "      (15): ReLU(inplace=True)\n",
       "      (16): MaxPool2d(kernel_size=2, stride=2, padding=0, dilation=1, ceil_mode=False)\n",
       "      (17): Conv2d(16, 14, kernel_size=(3, 3), stride=(1, 1), padding=(1, 1))\n",
       "      (18): ReLU(inplace=True)\n",
       "      (19): Conv2d(14, 14, kernel_size=(3, 3), stride=(1, 1), padding=(1, 1))\n",
       "      (20): ReLU(inplace=True)\n",
       "      (21): Conv2d(14, 14, kernel_size=(3, 3), stride=(1, 1), padding=(1, 1))\n",
       "      (22): ReLU(inplace=True)\n",
       "      (23): MaxPool2d(kernel_size=2, stride=2, padding=0, dilation=1, ceil_mode=False)\n",
       "      (24): Conv2d(14, 14, kernel_size=(3, 3), stride=(1, 1), padding=(1, 1))\n",
       "      (25): ReLU(inplace=True)\n",
       "      (26): Conv2d(14, 14, kernel_size=(3, 3), stride=(1, 1), padding=(1, 1))\n",
       "      (27): ReLU(inplace=True)\n",
       "      (28): Conv2d(14, 14, kernel_size=(3, 3), stride=(1, 1), padding=(1, 1))\n",
       "      (29): ReLU(inplace=True)\n",
       "      (30): MaxPool2d(kernel_size=2, stride=2, padding=0, dilation=1, ceil_mode=False)\n",
       "    )\n",
       "    (classifier): Sequential(\n",
       "      (0): Linear(in_features=14, out_features=512, bias=True)\n",
       "      (1): BatchNorm1d(512, eps=1e-05, momentum=0.1, affine=True, track_running_stats=True)\n",
       "      (2): Linear(in_features=512, out_features=10, bias=True)\n",
       "    )\n",
       "  )],\n",
       " 'best_acc': [0.8571, 0.8374, 0.8597, 0.8551, 0.847],\n",
       " 'mean_acc': [0.62881,\n",
       "  0.8059866666666667,\n",
       "  0.82114,\n",
       "  0.8260533333333332,\n",
       "  0.8043933333333333],\n",
       " 'out_channels': [[64,\n",
       "   64,\n",
       "   128,\n",
       "   128,\n",
       "   256,\n",
       "   256,\n",
       "   256,\n",
       "   512,\n",
       "   512,\n",
       "   512,\n",
       "   512,\n",
       "   512,\n",
       "   512],\n",
       "  [39, 52, 116, 122, 231, 128, 128, 205, 205, 205, 205, 205, 205],\n",
       "  [24, 42, 105, 116, 208, 64, 64, 82, 82, 82, 82, 82, 82],\n",
       "  [15, 34, 95, 111, 188, 32, 32, 33, 33, 33, 33, 33, 33],\n",
       "  [9, 28, 86, 106, 170, 16, 16, 14, 14, 14, 14, 14, 14]],\n",
       " 'size': [57.178462982177734,\n",
       "  11.881643295288086,\n",
       "  3.578420639038086,\n",
       "  1.787160873413086,\n",
       "  1.243276596069336],\n",
       " 'macs_params': [(313465856.0, 14983498.0),\n",
       "  (129506028.0, 3109124.0),\n",
       "  (75568944.0, 932431.0),\n",
       "  (53534860.0, 462918.0),\n",
       "  (41340464.0, 320376.0)]}"
      ]
     },
     "execution_count": 46,
     "metadata": {},
     "output_type": "execute_result"
    }
   ],
   "source": [
    "model_dict"
   ]
  },
  {
   "cell_type": "code",
   "execution_count": null,
   "id": "393a9ab7",
   "metadata": {},
   "outputs": [],
   "source": []
  },
  {
   "cell_type": "code",
   "execution_count": null,
   "id": "7fa49564",
   "metadata": {},
   "outputs": [],
   "source": [
    "# Plot all evaluation metrics against baseline model with successive rounds of pruning"
   ]
  },
  {
   "cell_type": "code",
   "execution_count": 47,
   "id": "ffa51465",
   "metadata": {},
   "outputs": [
    {
     "data": {
      "image/png": "[encoded data removed]",
      "text/plain": [
       "<Figure size 576x432 with 1 Axes>"
      ]
     },
     "metadata": {
      "needs_background": "light"
     },
     "output_type": "display_data"
    }
   ],
   "source": [
    "plt.figure(figsize=(8,6))\n",
    "plt.bar(np.arange(1, 6), model_dict['params'])\n",
    "plt.xlabel('Rounds')\n",
    "plt.ylabel('Number of Parameters (In millions)')\n",
    "plt.title('Number of Parameters vs Pruning Rounds')\n",
    "plt.show()"
   ]
  },
  {
   "cell_type": "code",
   "execution_count": 48,
   "id": "1e90e078",
   "metadata": {},
   "outputs": [
    {
     "name": "stdout",
     "output_type": "stream",
     "text": [
      "Round 1: Parameters = 14.98 M\n",
      "Round 2: Parameters = 3.11 M\n",
      "Round 3: Parameters = 0.93 M\n",
      "Round 4: Parameters = 0.46 M\n",
      "Round 5: Parameters = 0.32 M\n"
     ]
    }
   ],
   "source": [
    "for i, params in enumerate(model_dict['params']):\n",
    "    print(f'Round {i+1}: Parameters = {params :.2f} M')"
   ]
  },
  {
   "cell_type": "code",
   "execution_count": null,
   "id": "76c383a7",
   "metadata": {},
   "outputs": [],
   "source": []
  },
  {
   "cell_type": "code",
   "execution_count": 49,
   "id": "690513d4",
   "metadata": {},
   "outputs": [
    {
     "data": {
      "image/png": "[encoded data removed]",
      "text/plain": [
       "<Figure size 576x432 with 1 Axes>"
      ]
     },
     "metadata": {
      "needs_background": "light"
     },
     "output_type": "display_data"
    }
   ],
   "source": [
    "plt.figure(figsize=(8,6))\n",
    "plt.bar(np.arange(1, 6), model_dict['size'])\n",
    "plt.xlabel('Rounds')\n",
    "plt.ylabel('Model Size (in MB)')\n",
    "plt.title('Model Size vs Pruning Rounds')\n",
    "plt.show()"
   ]
  },
  {
   "cell_type": "code",
   "execution_count": 50,
   "id": "7a917486",
   "metadata": {},
   "outputs": [
    {
     "name": "stdout",
     "output_type": "stream",
     "text": [
      "Round 1: Model Size = 57.18 MB\n",
      "Round 2: Model Size = 11.88 MB\n",
      "Round 3: Model Size = 3.58 MB\n",
      "Round 4: Model Size = 1.79 MB\n",
      "Round 5: Model Size = 1.24 MB\n"
     ]
    }
   ],
   "source": [
    "for i, sz in enumerate(model_dict['size']):\n",
    "    print(f'Round {i+1}: Model Size = {sz :.2f} MB')"
   ]
  },
  {
   "cell_type": "code",
   "execution_count": null,
   "id": "b8a14994",
   "metadata": {},
   "outputs": [],
   "source": []
  },
  {
   "cell_type": "code",
   "execution_count": 51,
   "id": "b2110575",
   "metadata": {},
   "outputs": [
    {
     "data": {
      "image/png": "[encoded data removed]",
      "text/plain": [
       "<Figure size 576x432 with 1 Axes>"
      ]
     },
     "metadata": {
      "needs_background": "light"
     },
     "output_type": "display_data"
    }
   ],
   "source": [
    "plt.figure(figsize=(8,6))\n",
    "plt.bar(np.arange(1, 6) - 0.2, model_dict['best_acc'], 0.4, label='Best Accuracy')\n",
    "plt.bar(np.arange(1, 6) + 0.2, model_dict['mean_acc'], 0.4, label='Mean Accuracy')\n",
    "plt.ylim(0.0, 1.1)\n",
    "plt.legend()\n",
    "plt.xlabel('Rounds')\n",
    "plt.ylabel('Accuracy Value')\n",
    "plt.title('Accuracy vs Pruning Rounds')\n",
    "plt.show()"
   ]
  },
  {
   "cell_type": "code",
   "execution_count": 52,
   "id": "72c1ea9e",
   "metadata": {},
   "outputs": [
    {
     "data": {
      "image/png": "[encoded data removed]",
      "text/plain": [
       "<Figure size 576x432 with 1 Axes>"
      ]
     },
     "metadata": {
      "needs_background": "light"
     },
     "output_type": "display_data"
    }
   ],
   "source": [
    "plt.figure(figsize=(8,6))\n",
    "plt.plot(model_dict['best_acc'], label='Best Accuracy')\n",
    "plt.plot(model_dict['mean_acc'], label='Mean Accuracy')\n",
    "plt.legend()\n",
    "plt.xlabel('Rounds')\n",
    "plt.ylabel('Accuracy Value')\n",
    "plt.title('Accuracy vs Pruning Rounds')\n",
    "plt.show()"
   ]
  },
  {
   "cell_type": "code",
   "execution_count": 53,
   "id": "923e831d",
   "metadata": {},
   "outputs": [
    {
     "name": "stdout",
     "output_type": "stream",
     "text": [
      "Round 1: Best Test Accuracy = 85.71%\n",
      "Round 2: Best Test Accuracy = 83.74%\n",
      "Round 3: Best Test Accuracy = 85.97%\n",
      "Round 4: Best Test Accuracy = 85.51%\n",
      "Round 5: Best Test Accuracy = 84.70%\n"
     ]
    }
   ],
   "source": [
    "for i, acc in enumerate(model_dict['best_acc']):\n",
    "    print(f'Round {i+1}: Best Test Accuracy = {acc :.2%}')"
   ]
  },
  {
   "cell_type": "code",
   "execution_count": 54,
   "id": "c5aff8f6",
   "metadata": {},
   "outputs": [
    {
     "name": "stdout",
     "output_type": "stream",
     "text": [
      "Round 1: Mean Test Accuracy = 62.88%\n",
      "Round 2: Mean Test Accuracy = 80.60%\n",
      "Round 3: Mean Test Accuracy = 82.11%\n",
      "Round 4: Mean Test Accuracy = 82.61%\n",
      "Round 5: Mean Test Accuracy = 80.44%\n"
     ]
    }
   ],
   "source": [
    "for i, acc in enumerate(model_dict['mean_acc']):\n",
    "    print(f'Round {i+1}: Mean Test Accuracy = {acc :.2%}')"
   ]
  },
  {
   "cell_type": "code",
   "execution_count": null,
   "id": "465eeccb",
   "metadata": {},
   "outputs": [],
   "source": []
  },
  {
   "cell_type": "code",
   "execution_count": 55,
   "id": "3fb631ac",
   "metadata": {},
   "outputs": [
    {
     "data": {
      "image/png": "[encoded data removed]",
      "text/plain": [
       "<Figure size 576x432 with 1 Axes>"
      ]
     },
     "metadata": {
      "needs_background": "light"
     },
     "output_type": "display_data"
    }
   ],
   "source": [
    "plt.figure(figsize=(8,6))\n",
    "plt.bar(np.arange(1, 6), [a[0]/1e6 for a in model_dict['macs_params']])\n",
    "plt.xlabel('Rounds')\n",
    "plt.ylabel('MACs (in Millions)')\n",
    "plt.title('MACs vs Pruning Rounds')\n",
    "plt.show()"
   ]
  },
  {
   "cell_type": "code",
   "execution_count": 56,
   "id": "d8db5ab2",
   "metadata": {},
   "outputs": [
    {
     "name": "stdout",
     "output_type": "stream",
     "text": [
      "Round 1: MACs = 313.47M, Parameters = 14.98M\n",
      "Round 2: MACs = 129.51M, Parameters = 3.11M\n",
      "Round 3: MACs = 75.57M, Parameters = 0.93M\n",
      "Round 4: MACs = 53.53M, Parameters = 0.46M\n",
      "Round 5: MACs = 41.34M, Parameters = 0.32M\n"
     ]
    }
   ],
   "source": [
    "for i, tup in enumerate(model_dict['macs_params']):\n",
    "    print(f'Round {i+1}: MACs = {tup[0]/1e6 :.2f}M, Parameters = {tup[1]/1e6 :.2f}M')"
   ]
  },
  {
   "cell_type": "code",
   "execution_count": null,
   "id": "56489ad2",
   "metadata": {},
   "outputs": [],
   "source": []
  },
  {
   "cell_type": "code",
   "execution_count": 57,
   "id": "02349f50",
   "metadata": {},
   "outputs": [
    {
     "data": {
      "image/png": "[encoded data removed]",
      "text/plain": [
       "<Figure size 864x576 with 1 Axes>"
      ]
     },
     "metadata": {
      "needs_background": "light"
     },
     "output_type": "display_data"
    }
   ],
   "source": [
    "X = np.arange(1, 14)\n",
    "plt.figure(figsize=(12, 8))\n",
    "\n",
    "deltas = [-0.2, -0.1, 0, 0.1, 0.2]\n",
    "for i in range(len(model_dict['out_channels'][0])):\n",
    "    x = [a[i] for a in model_dict['out_channels']]\n",
    "    for j in range(len(deltas)):\n",
    "        plt.bar(X[i] + deltas[j], x[j], 0.1)\n",
    "\n",
    "plt.xticks(X)\n",
    "plt.xlabel('Conv Layer Number')\n",
    "plt.ylabel('Number of Filters')\n",
    "plt.title('Round-wise Drop in Filters after Pruning for Each Conv Layer')\n",
    "plt.show()"
   ]
  },
  {
   "cell_type": "code",
   "execution_count": 58,
   "id": "cc2104c4",
   "metadata": {},
   "outputs": [],
   "source": [
    "cols = [f'Conv Layer {i+1}' for i in range(len(model_dict['out_channels'][0]))]\n",
    "idxs = [f'Round {i+1}' for i in range(len(model_dict['out_channels']))]"
   ]
  },
  {
   "cell_type": "code",
   "execution_count": 59,
   "id": "aa308699",
   "metadata": {},
   "outputs": [
    {
     "data": {
      "text/html": [
       "<div>\n",
       "<style scoped>\n",
       "    .dataframe tbody tr th:only-of-type {\n",
       "        vertical-align: middle;\n",
       "    }\n",
       "\n",
       "    .dataframe tbody tr th {\n",
       "        vertical-align: top;\n",
       "    }\n",
       "\n",
       "    .dataframe thead th {\n",
       "        text-align: right;\n",
       "    }\n",
       "</style>\n",
       "<table border=\"1\" class=\"dataframe\">\n",
       "  <thead>\n",
       "    <tr style=\"text-align: right;\">\n",
       "      <th></th>\n",
       "      <th>Round 1</th>\n",
       "      <th>Round 2</th>\n",
       "      <th>Round 3</th>\n",
       "      <th>Round 4</th>\n",
       "      <th>Round 5</th>\n",
       "    </tr>\n",
       "  </thead>\n",
       "  <tbody>\n",
       "    <tr>\n",
       "      <th>Conv Layer 1</th>\n",
       "      <td>64</td>\n",
       "      <td>39</td>\n",
       "      <td>24</td>\n",
       "      <td>15</td>\n",
       "      <td>9</td>\n",
       "    </tr>\n",
       "    <tr>\n",
       "      <th>Conv Layer 2</th>\n",
       "      <td>64</td>\n",
       "      <td>52</td>\n",
       "      <td>42</td>\n",
       "      <td>34</td>\n",
       "      <td>28</td>\n",
       "    </tr>\n",
       "    <tr>\n",
       "      <th>Conv Layer 3</th>\n",
       "      <td>128</td>\n",
       "      <td>116</td>\n",
       "      <td>105</td>\n",
       "      <td>95</td>\n",
       "      <td>86</td>\n",
       "    </tr>\n",
       "    <tr>\n",
       "      <th>Conv Layer 4</th>\n",
       "      <td>128</td>\n",
       "      <td>122</td>\n",
       "      <td>116</td>\n",
       "      <td>111</td>\n",
       "      <td>106</td>\n",
       "    </tr>\n",
       "    <tr>\n",
       "      <th>Conv Layer 5</th>\n",
       "      <td>256</td>\n",
       "      <td>231</td>\n",
       "      <td>208</td>\n",
       "      <td>188</td>\n",
       "      <td>170</td>\n",
       "    </tr>\n",
       "    <tr>\n",
       "      <th>Conv Layer 6</th>\n",
       "      <td>256</td>\n",
       "      <td>128</td>\n",
       "      <td>64</td>\n",
       "      <td>32</td>\n",
       "      <td>16</td>\n",
       "    </tr>\n",
       "    <tr>\n",
       "      <th>Conv Layer 7</th>\n",
       "      <td>256</td>\n",
       "      <td>128</td>\n",
       "      <td>64</td>\n",
       "      <td>32</td>\n",
       "      <td>16</td>\n",
       "    </tr>\n",
       "    <tr>\n",
       "      <th>Conv Layer 8</th>\n",
       "      <td>512</td>\n",
       "      <td>205</td>\n",
       "      <td>82</td>\n",
       "      <td>33</td>\n",
       "      <td>14</td>\n",
       "    </tr>\n",
       "    <tr>\n",
       "      <th>Conv Layer 9</th>\n",
       "      <td>512</td>\n",
       "      <td>205</td>\n",
       "      <td>82</td>\n",
       "      <td>33</td>\n",
       "      <td>14</td>\n",
       "    </tr>\n",
       "    <tr>\n",
       "      <th>Conv Layer 10</th>\n",
       "      <td>512</td>\n",
       "      <td>205</td>\n",
       "      <td>82</td>\n",
       "      <td>33</td>\n",
       "      <td>14</td>\n",
       "    </tr>\n",
       "    <tr>\n",
       "      <th>Conv Layer 11</th>\n",
       "      <td>512</td>\n",
       "      <td>205</td>\n",
       "      <td>82</td>\n",
       "      <td>33</td>\n",
       "      <td>14</td>\n",
       "    </tr>\n",
       "    <tr>\n",
       "      <th>Conv Layer 12</th>\n",
       "      <td>512</td>\n",
       "      <td>205</td>\n",
       "      <td>82</td>\n",
       "      <td>33</td>\n",
       "      <td>14</td>\n",
       "    </tr>\n",
       "    <tr>\n",
       "      <th>Conv Layer 13</th>\n",
       "      <td>512</td>\n",
       "      <td>205</td>\n",
       "      <td>82</td>\n",
       "      <td>33</td>\n",
       "      <td>14</td>\n",
       "    </tr>\n",
       "  </tbody>\n",
       "</table>\n",
       "</div>"
      ],
      "text/plain": [
       "               Round 1  Round 2  Round 3  Round 4  Round 5\n",
       "Conv Layer 1        64       39       24       15        9\n",
       "Conv Layer 2        64       52       42       34       28\n",
       "Conv Layer 3       128      116      105       95       86\n",
       "Conv Layer 4       128      122      116      111      106\n",
       "Conv Layer 5       256      231      208      188      170\n",
       "Conv Layer 6       256      128       64       32       16\n",
       "Conv Layer 7       256      128       64       32       16\n",
       "Conv Layer 8       512      205       82       33       14\n",
       "Conv Layer 9       512      205       82       33       14\n",
       "Conv Layer 10      512      205       82       33       14\n",
       "Conv Layer 11      512      205       82       33       14\n",
       "Conv Layer 12      512      205       82       33       14\n",
       "Conv Layer 13      512      205       82       33       14"
      ]
     },
     "execution_count": 59,
     "metadata": {},
     "output_type": "execute_result"
    }
   ],
   "source": [
    "pd.DataFrame(model_dict['out_channels'], columns = cols, index=idxs).transpose().head(20)"
   ]
  },
  {
   "cell_type": "code",
   "execution_count": 60,
   "id": "ff9f57ee",
   "metadata": {},
   "outputs": [
    {
     "data": {
      "text/plain": [
       "[[64, 64, 128, 128, 256, 256, 256, 512, 512, 512, 512, 512, 512],\n",
       " [39, 52, 116, 122, 231, 128, 128, 205, 205, 205, 205, 205, 205],\n",
       " [24, 42, 105, 116, 208, 64, 64, 82, 82, 82, 82, 82, 82],\n",
       " [15, 34, 95, 111, 188, 32, 32, 33, 33, 33, 33, 33, 33],\n",
       " [9, 28, 86, 106, 170, 16, 16, 14, 14, 14, 14, 14, 14]]"
      ]
     },
     "execution_count": 60,
     "metadata": {},
     "output_type": "execute_result"
    }
   ],
   "source": [
    "model_dict['out_channels']"
   ]
  },
  {
   "cell_type": "code",
   "execution_count": 61,
   "id": "659a6271",
   "metadata": {},
   "outputs": [
    {
     "name": "stdout",
     "output_type": "stream",
     "text": [
      "Number of Filters in Layer 1 in each round: 64 => 39 => 24 => 15 => 9\n",
      "Number of Filters in Layer 2 in each round: 64 => 52 => 42 => 34 => 28\n",
      "Number of Filters in Layer 3 in each round: 128 => 116 => 105 => 95 => 86\n",
      "Number of Filters in Layer 4 in each round: 128 => 122 => 116 => 111 => 106\n",
      "Number of Filters in Layer 5 in each round: 256 => 231 => 208 => 188 => 170\n",
      "Number of Filters in Layer 6 in each round: 256 => 128 => 64 => 32 => 16\n",
      "Number of Filters in Layer 7 in each round: 256 => 128 => 64 => 32 => 16\n",
      "Number of Filters in Layer 8 in each round: 512 => 205 => 82 => 33 => 14\n",
      "Number of Filters in Layer 9 in each round: 512 => 205 => 82 => 33 => 14\n",
      "Number of Filters in Layer 10 in each round: 512 => 205 => 82 => 33 => 14\n",
      "Number of Filters in Layer 11 in each round: 512 => 205 => 82 => 33 => 14\n",
      "Number of Filters in Layer 12 in each round: 512 => 205 => 82 => 33 => 14\n",
      "Number of Filters in Layer 13 in each round: 512 => 205 => 82 => 33 => 14\n"
     ]
    }
   ],
   "source": [
    "for i in range(len(model_dict['out_channels'][0])):\n",
    "    filters = [a[i] for a in model_dict['out_channels']]\n",
    "    print(f'Number of Filters in Layer {i+1} in each round: ', end='')\n",
    "    for x, j in enumerate(filters):\n",
    "        print(str(j), end='')\n",
    "        if x != len(model_dict['out_channels']) - 1:\n",
    "            print(\" => \", end='')\n",
    "    print()"
   ]
  },
  {
   "cell_type": "code",
   "execution_count": null,
   "id": "01335470",
   "metadata": {},
   "outputs": [],
   "source": []
  }
 ],
 "metadata": {
  "kernelspec": {
   "display_name": "Python 3 (ipykernel)",
   "language": "python",
   "name": "python3"
  },
  "language_info": {
   "codemirror_mode": {
    "name": "ipython",
    "version": 3
   },
   "file_extension": ".py",
   "mimetype": "text/x-python",
   "name": "python",
   "nbconvert_exporter": "python",
   "pygments_lexer": "ipython3",
   "version": "3.9.13"
  }
 },
 "nbformat": 4,
 "nbformat_minor": 5
}
