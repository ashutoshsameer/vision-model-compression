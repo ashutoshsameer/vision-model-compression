{
 "cells": [
  {
   "cell_type": "code",
   "execution_count": 3,
   "id": "84327590",
   "metadata": {},
   "outputs": [],
   "source": [
    "import numpy as np\n",
    "import torch\n",
    "import torch.nn as nn\n",
    "import torchvision\n",
    "from torch.utils.data import DataLoader\n",
    "from torchvision import datasets\n",
    "\n",
    "import torchvision.transforms as transforms\n",
    "from torchvision import datasets, transforms\n",
    "import torch.nn.functional as F\n",
    "import torchvision.models as models\n",
    "\n",
    "import os\n",
    "import time\n",
    "import sys\n",
    "import torch.quantization\n",
    "import matplotlib.pyplot as plt"
   ]
  },
  {
   "cell_type": "code",
   "execution_count": 2,
   "id": "be45a5ac",
   "metadata": {},
   "outputs": [],
   "source": [
    "class VGG(torch.nn.Module):\n",
    "    def __init__(self, vgg='vgg16', data_set='CIFAR10', pretrained=False):\n",
    "        super(VGG, self).__init__()\n",
    "        self.features = models.__dict__[vgg](pretrained=pretrained).features\n",
    "        \n",
    "        classifier = []\n",
    "        if 'CIFAR' in data_set:\n",
    "            num_class = int(data_set.split(\"CIFAR\")[1])\n",
    "            \n",
    "            classifier.append(nn.Linear(512, 512))\n",
    "            # classifier.append(nn.ReLU())\n",
    "            classifier.append(nn.Dropout(p=0.2))\n",
    "            # classifier.append(nn.Linear(512, 256))\n",
    "            # classifier.append(nn.ReLU())\n",
    "            # classifier.append(nn.Dropout(p=0.2))\n",
    "            classifier.append(nn.Linear(512, num_class))\n",
    "            \n",
    "            self.quant = torch.quantization.QuantStub()\n",
    "            self.dequant = torch.quantization.DeQuantStub()\n",
    "        else:\n",
    "            raise RuntimeError(\"Not expected data flag !!!\")\n",
    "\n",
    "        self.classifier = torch.nn.Sequential(*classifier)\n",
    "        \n",
    "    def forward(self, x):\n",
    "        x = self.quant(x)\n",
    "        x = self.features(x)\n",
    "        x = torch.flatten(x, 1)\n",
    "        x = self.classifier(x)\n",
    "        x = self.dequant(x)\n",
    "        return x"
   ]
  },
  {
   "cell_type": "code",
   "execution_count": 3,
   "id": "0cdfcef8",
   "metadata": {},
   "outputs": [],
   "source": [
    "# class VGG(nn.Module):\n",
    "#     def __init__(self, features, num_classes=10,init_weights=False):\n",
    "#         super(VGG, self).__init__()\n",
    "#         self.features = features\n",
    "#         self.avgpool = nn.AdaptiveAvgPool2d((7, 7))\n",
    "#         self.classifier = nn.Sequential(\n",
    "#             nn.Linear(512*7*7, 512),\n",
    "#             nn.ReLU(),\n",
    "#             nn.Dropout(p=0.5),\n",
    "#             nn.Linear(512, 512),\n",
    "#             nn.ReLU(),\n",
    "#             nn.Dropout(p=0.5),\n",
    "#             nn.Linear(512, num_classes)\n",
    "#         )\n",
    "#         # add the quantize part\n",
    "# #         self.quant = torch.quantization.QuantStub()\n",
    "# #         self.dequant = torch.quantization.DeQuantStub()\n",
    "\n",
    "#         if init_weights:\n",
    "#             self._initialize_weights()\n",
    "\n",
    "#     def forward(self,x):\n",
    "# #         x = self.quant(x)\n",
    "#         x = self.features(x)\n",
    "#         x = self.avgpool(x)\n",
    "#         x = torch.flatten(x,start_dim=1)\n",
    "#         # x = x.mean([2, 3])\n",
    "#         x = self.classifier(x)\n",
    "# #         x = self.dequant(x)\n",
    "#         return x\n",
    "\n",
    "#     def _initialize_weights(self):\n",
    "#         for module in self.modules():\n",
    "#             if isinstance(module, nn.Conv2d):\n",
    "#                 # nn.init.kaiming_normal_(m.weight, mode='fan_out', nonlinearity='relu')\n",
    "#                 nn.init.xavier_uniform_(module.weight)\n",
    "#                 if module.bias is not None:\n",
    "#                     nn.init.constant_(module.bias,0)\n",
    "#             elif isinstance(module,nn.Linear):\n",
    "#                 nn.init.xavier_uniform_(module.weight)\n",
    "#                 # nn.init.normal_(m.weight, 0, 0.01)\n",
    "#                 nn.init.constant_(module.bias,0)"
   ]
  },
  {
   "cell_type": "code",
   "execution_count": 4,
   "id": "d14ec89f",
   "metadata": {},
   "outputs": [],
   "source": [
    "# cfgs = {\n",
    "#     'vgg11':[64,'M',128,'M',256,256,'M',512,512,'M',512,512,'M'],\n",
    "#     'vgg13':[64,64,'M',128,128,'M',256,256,'M',512,512,'M',512,512,'M'],\n",
    "#     'vgg16':[64,64,'M',128,128,'M',256,256,256,'M',512,512,512,'M',512,512,512,'M'],\n",
    "#     'vgg19':[64,64,'M',128,128,'M',256,256,256,256,'M',512,512,512,512,'M',512,512,512,512,'M'],\n",
    "# }"
   ]
  },
  {
   "cell_type": "code",
   "execution_count": 5,
   "id": "e630d15c",
   "metadata": {},
   "outputs": [],
   "source": [
    "# def make_features(cfg:list):\n",
    "#     layers = []\n",
    "#     in_channels = 3\n",
    "#     for v in cfg:\n",
    "#         if v == 'M':\n",
    "#             layers += [nn.MaxPool2d(kernel_size=2,stride=2)]\n",
    "#         else:\n",
    "#             conv2d = nn.Conv2d(in_channels,v,kernel_size=3,padding=1)\n",
    "#             layers += [conv2d,nn.ReLU(True)]\n",
    "#             in_channels = v\n",
    "#     return nn.Sequential(*layers)"
   ]
  },
  {
   "cell_type": "code",
   "execution_count": 6,
   "id": "d5f6b118",
   "metadata": {},
   "outputs": [],
   "source": [
    "# def vgg(model_name='vgg16',**kwargs):\n",
    "#     try:\n",
    "#         cfg = cfgs[model_name]\n",
    "#     except:\n",
    "#         print(\"Warning: model number {} not in cfgs dict!\".format(model_name))\n",
    "#         exit(-1)\n",
    "#     model = VGG(make_features(cfg),**kwargs)\n",
    "#     return model"
   ]
  },
  {
   "cell_type": "code",
   "execution_count": 69,
   "id": "60183e3e",
   "metadata": {},
   "outputs": [],
   "source": [
    "class AverageMeter(object):\n",
    "    \"\"\"Computes and stores the average and current value\"\"\"\n",
    "    def __init__(self, name, fmt=':f'):\n",
    "        self.name = name\n",
    "        self.fmt = fmt\n",
    "        self.reset()\n",
    "\n",
    "    def reset(self):\n",
    "        self.val = 0\n",
    "        self.avg = 0\n",
    "        self.sum = 0\n",
    "        self.count = 0\n",
    "\n",
    "    def update(self, val, n=1):\n",
    "        self.val = val\n",
    "        self.sum += val * n\n",
    "        self.count += n\n",
    "        self.avg = self.sum / self.count\n",
    "\n",
    "    def __str__(self):\n",
    "        fmtstr = '{name} {val' + self.fmt + '} ({avg' + self.fmt + '})'\n",
    "        return fmtstr.format(**self.__dict__)\n",
    "\n",
    "\n",
    "def accuracy(output, target, topk=(1,)):\n",
    "    \"\"\"Computes the accuracy over the k top predictions for the specified values of k\"\"\"\n",
    "    with torch.no_grad():\n",
    "        maxk = max(topk)\n",
    "        batch_size = target.size(0)\n",
    "\n",
    "        _, pred = output.topk(maxk, 1, True, True)\n",
    "        pred = pred.t()\n",
    "        correct = pred.eq(target.view(1, -1).expand_as(pred))\n",
    "\n",
    "        res = []\n",
    "        for k in topk:\n",
    "            correct_k = correct[:k].reshape(-1).float().sum(0, keepdim=True)\n",
    "            res.append(correct_k.mul_(100.0 / batch_size))\n",
    "        return res\n",
    "\n",
    "\n",
    "def evaluate(model, criterion, data_loader, neval_batches):\n",
    "    model.eval()\n",
    "    top1 = AverageMeter('Acc@1', ':6.2f')\n",
    "    top5 = AverageMeter('Acc@5', ':6.2f')\n",
    "    cnt = 0\n",
    "    with torch.no_grad():\n",
    "        for image, target in data_loader:\n",
    "            output = model(image)\n",
    "            loss = criterion(output, target)\n",
    "            cnt += 1\n",
    "            acc1, acc5 = accuracy(output, target, topk=(1, 5))\n",
    "            print('.', end = '')\n",
    "            top1.update(acc1[0], image.size(0))\n",
    "            top5.update(acc5[0], image.size(0))\n",
    "            if cnt >= neval_batches:\n",
    "                 return top1, top5\n",
    "\n",
    "    return top1, top5\n",
    "\n",
    "\n",
    "def run_benchmark(model_file, img_loader):\n",
    "    elapsed = 0\n",
    "    model = torch.jit.load(model_file)\n",
    "    model.eval()\n",
    "    num_batches = 5\n",
    "    # Run the scripted model on a few batches of images\n",
    "    for i, (images, target) in enumerate(img_loader):\n",
    "        if i < num_batches:\n",
    "            start = time.time()\n",
    "            output = model(images)\n",
    "            end = time.time()\n",
    "            elapsed = elapsed + (end-start)\n",
    "        else:\n",
    "            break\n",
    "    num_images = images.size()[0] * num_batches\n",
    "    \n",
    "    print('Elapsed time: %3.2f ms' % (elapsed/num_images*1000))\n",
    "    return elapsed/num_images*1000\n",
    "\n",
    "def print_size_of_model(model):\n",
    "    torch.save(model.state_dict(), \"temp.p\")\n",
    "    size = os.path.getsize(\"temp.p\")/1e6\n",
    "    os.remove('temp.p')\n",
    "    return size"
   ]
  },
  {
   "cell_type": "code",
   "execution_count": 8,
   "id": "633380f1",
   "metadata": {},
   "outputs": [],
   "source": [
    "# def load_model(model_file=None):\n",
    "#     model_name = \"vgg16\"\n",
    "#     model = vgg(model_name=model_name, num_classes=10, init_weights=False)\n",
    "#     if model_file is not None:\n",
    "#         state_dict = torch.load(model_file)\n",
    "#         model.load_state_dict(state_dict)\n",
    "# #     model.to('cpu')\n",
    "#     return model"
   ]
  },
  {
   "cell_type": "code",
   "execution_count": 9,
   "id": "4ae432cc",
   "metadata": {},
   "outputs": [],
   "source": [
    "def prepare_data_loaders(batch_size=128, data_root='./data', train=True, val=True):    \n",
    "    dataset = datasets.CIFAR10(\n",
    "                root=data_root, train=True, download=True,\n",
    "                transform=transforms.Compose([\n",
    "                    transforms.RandomCrop(32, padding=4),\n",
    "                    transforms.RandomHorizontalFlip(),\n",
    "                    transforms.ToTensor()\n",
    "                ])\n",
    "            )\n",
    "    train_loader = torch.utils.data.DataLoader(\n",
    "        dataset=dataset,\n",
    "        batch_size=batch_size)\n",
    "    \n",
    "    dataset_test = datasets.CIFAR10(\n",
    "                    root=data_root, train=False, download=True,\n",
    "                    transform=transforms.Compose([\n",
    "                        transforms.ToTensor()\n",
    "                    ])\n",
    "                )\n",
    "    test_loader = torch.utils.data.DataLoader(\n",
    "        dataset=dataset_test,\n",
    "        batch_size=batch_size)\n",
    "\n",
    "    return train_loader, test_loader"
   ]
  },
  {
   "cell_type": "code",
   "execution_count": 10,
   "id": "83dbe3af",
   "metadata": {},
   "outputs": [],
   "source": [
    "# def prepare_data_loaders_old(data_path):\n",
    "#     traindir = os.path.join(data_path, 'train')\n",
    "#     valdir = os.path.join(data_path, 'val')\n",
    "#     normalize = transforms.Normalize(mean=[0.485, 0.456, 0.406],\n",
    "#                                      std=[0.229, 0.224, 0.225])\n",
    "\n",
    "#     dataset = torchvision.datasets.ImageFolder(\n",
    "#         traindir,\n",
    "#         transforms.Compose([\n",
    "#             transforms.RandomResizedCrop(224),\n",
    "#             transforms.RandomHorizontalFlip(),\n",
    "#             transforms.ToTensor(),\n",
    "#             normalize,\n",
    "#         ]))\n",
    "#     print(\"dataset_train : %d\" % (len(dataset)))\n",
    "\n",
    "#     dataset_test = torchvision.datasets.ImageFolder(\n",
    "#         valdir,\n",
    "#         transforms.Compose([\n",
    "#             transforms.Resize(256),\n",
    "#             transforms.CenterCrop(224),\n",
    "#             transforms.ToTensor(),\n",
    "#             normalize,\n",
    "#         ]))\n",
    "#     print(\"dataset_test : %d\" % (len(dataset_test)))\n",
    "\n",
    "#     train_sampler = torch.utils.data.RandomSampler(dataset)\n",
    "#     test_sampler = torch.utils.data.SequentialSampler(dataset_test)\n",
    "\n",
    "#     data_loader = torch.utils.data.DataLoader(\n",
    "#         dataset, batch_size=train_batch_size,\n",
    "#         sampler=train_sampler)\n",
    "\n",
    "#     data_loader_test = torch.utils.data.DataLoader(\n",
    "#         dataset_test, batch_size=eval_batch_size,\n",
    "#         sampler=test_sampler)\n",
    "\n",
    "#     return data_loader, data_loader_test"
   ]
  },
  {
   "cell_type": "code",
   "execution_count": 11,
   "id": "6c090ac4",
   "metadata": {},
   "outputs": [],
   "source": [
    "def evaluate2(model, test_loader):\n",
    "    correct = 0\n",
    "    total = 0\n",
    "    device = torch.device(\"cuda\" if torch.cuda.is_available() else \"cpu\")\n",
    "    model.to(device)\n",
    "    model.eval()\n",
    "    with torch.no_grad():\n",
    "        for i, (img, target) in enumerate(test_loader):\n",
    "            img = img.to(device)\n",
    "            out = model(img)\n",
    "            pred = out.max(1)[1].detach().cpu().numpy()\n",
    "            target = target.cpu().numpy()\n",
    "            correct += (pred==target).sum()\n",
    "            total += len(target)\n",
    "    return correct / total"
   ]
  },
  {
   "cell_type": "code",
   "execution_count": 12,
   "id": "2e751b9b",
   "metadata": {},
   "outputs": [],
   "source": [
    "def train_model(model, epochs, train_loader, test_loader):\n",
    "    device = torch.device(\"cuda\" if torch.cuda.is_available() else \"cpu\")\n",
    "    optimizer = torch.optim.SGD(model.parameters(), lr=0.05, momentum=0.9, weight_decay=1e-4)\n",
    "    scheduler = torch.optim.lr_scheduler.StepLR(optimizer, 70, 0.1)\n",
    "    model.to(device)\n",
    "\n",
    "    best_acc = -1\n",
    "    for epoch in range(epochs):\n",
    "        model.train()\n",
    "        for i, (img, target) in enumerate(train_loader):\n",
    "            img, target = img.to(device), target.to(device)\n",
    "            optimizer.zero_grad()\n",
    "            out = model(img)\n",
    "            loss = F.cross_entropy(out, target)\n",
    "            loss.backward()\n",
    "            optimizer.step()\n",
    "            \n",
    "            if i%100==0:\n",
    "                print(\"Epoch %d/%d, iter %d/%d, loss=%.4f\"%(epoch, epochs, i, len(train_loader), loss.item()))\n",
    "        \n",
    "        model.eval()\n",
    "        acc = evaluate2(model, test_loader)\n",
    "        print(\"Epoch %d/%d, Acc = %.4f\"%(epoch, epochs, acc))\n",
    "        \n",
    "        if best_acc < acc:\n",
    "#             torch.save( model, saved_model_dir + float_model_file )\n",
    "            torch.save( model, saved_model_dir + quantized_base_model_file )\n",
    "            best_acc = acc\n",
    "        \n",
    "        scheduler.step()\n",
    "    print(\"Best Acc = %.4f\"%(best_acc))"
   ]
  },
  {
   "cell_type": "code",
   "execution_count": 13,
   "id": "9034d67b",
   "metadata": {},
   "outputs": [
    {
     "data": {
      "text/plain": [
       "<torch._C.Generator at 0x7f8e6effb2b0>"
      ]
     },
     "execution_count": 13,
     "metadata": {},
     "output_type": "execute_result"
    }
   ],
   "source": [
    "torch.manual_seed(191009)"
   ]
  },
  {
   "cell_type": "code",
   "execution_count": 14,
   "id": "3c2a993f",
   "metadata": {},
   "outputs": [],
   "source": [
    "saved_model_dir = 'model/'\n",
    "quantized_base_model_file = 'vgg16_quantized_base.pth'\n",
    "scripted_float_model_file = 'vgg16_quantization_scripted.pth'\n",
    "scripted_default_quantized_model_file = 'vgg16_quantization_scripted_default_quantized.pth'\n",
    "scripted_optimal_quantized_model_file = 'vgg16_quantization_scripted_optimal_quantized.pth'"
   ]
  },
  {
   "cell_type": "code",
   "execution_count": 15,
   "id": "448970c1",
   "metadata": {},
   "outputs": [],
   "source": [
    "# train_batch_size = 30\n",
    "# eval_batch_size = 30"
   ]
  },
  {
   "cell_type": "code",
   "execution_count": 16,
   "id": "d1cea0f0",
   "metadata": {},
   "outputs": [
    {
     "name": "stdout",
     "output_type": "stream",
     "text": [
      "Files already downloaded and verified\n",
      "Files already downloaded and verified\n"
     ]
    }
   ],
   "source": [
    "data_loader, data_loader_test = prepare_data_loaders()\n",
    "criterion = nn.CrossEntropyLoss()"
   ]
  },
  {
   "cell_type": "code",
   "execution_count": 17,
   "id": "057dcfc2",
   "metadata": {},
   "outputs": [],
   "source": [
    "model = VGG()\n",
    "device = torch.device(\"cuda\" if torch.cuda.is_available() else \"cpu\")\n",
    "model = model.to(device)"
   ]
  },
  {
   "cell_type": "code",
   "execution_count": 19,
   "id": "7ce87749",
   "metadata": {},
   "outputs": [
    {
     "name": "stdout",
     "output_type": "stream",
     "text": [
      "Epoch 0/20, iter 0/391, loss=2.2997\n",
      "Epoch 0/20, iter 100/391, loss=2.3014\n",
      "Epoch 0/20, iter 200/391, loss=2.3049\n",
      "Epoch 0/20, iter 300/391, loss=2.2416\n",
      "Epoch 0/20, Acc = 0.1735\n",
      "Epoch 1/20, iter 0/391, loss=2.1124\n",
      "Epoch 1/20, iter 100/391, loss=1.8449\n",
      "Epoch 1/20, iter 200/391, loss=2.0281\n",
      "Epoch 1/20, iter 300/391, loss=1.8623\n",
      "Epoch 1/20, Acc = 0.2992\n",
      "Epoch 2/20, iter 0/391, loss=1.7094\n",
      "Epoch 2/20, iter 100/391, loss=1.7246\n",
      "Epoch 2/20, iter 200/391, loss=1.6914\n",
      "Epoch 2/20, iter 300/391, loss=1.5469\n",
      "Epoch 2/20, Acc = 0.4145\n",
      "Epoch 3/20, iter 0/391, loss=1.5210\n",
      "Epoch 3/20, iter 100/391, loss=1.4635\n",
      "Epoch 3/20, iter 200/391, loss=1.4404\n",
      "Epoch 3/20, iter 300/391, loss=1.2986\n",
      "Epoch 3/20, Acc = 0.5246\n",
      "Epoch 4/20, iter 0/391, loss=1.2559\n",
      "Epoch 4/20, iter 100/391, loss=1.2189\n",
      "Epoch 4/20, iter 200/391, loss=1.2113\n",
      "Epoch 4/20, iter 300/391, loss=1.1249\n",
      "Epoch 4/20, Acc = 0.5980\n",
      "Epoch 5/20, iter 0/391, loss=1.1163\n",
      "Epoch 5/20, iter 100/391, loss=0.9269\n",
      "Epoch 5/20, iter 200/391, loss=1.1807\n",
      "Epoch 5/20, iter 300/391, loss=0.9518\n",
      "Epoch 5/20, Acc = 0.6571\n",
      "Epoch 6/20, iter 0/391, loss=1.0440\n",
      "Epoch 6/20, iter 100/391, loss=0.8818\n",
      "Epoch 6/20, iter 200/391, loss=1.0388\n",
      "Epoch 6/20, iter 300/391, loss=0.8953\n",
      "Epoch 6/20, Acc = 0.6697\n",
      "Epoch 7/20, iter 0/391, loss=0.8736\n",
      "Epoch 7/20, iter 100/391, loss=0.7455\n",
      "Epoch 7/20, iter 200/391, loss=0.8397\n",
      "Epoch 7/20, iter 300/391, loss=0.7779\n",
      "Epoch 7/20, Acc = 0.7297\n",
      "Epoch 8/20, iter 0/391, loss=0.6646\n",
      "Epoch 8/20, iter 100/391, loss=0.7654\n",
      "Epoch 8/20, iter 200/391, loss=0.8726\n",
      "Epoch 8/20, iter 300/391, loss=0.6942\n",
      "Epoch 8/20, Acc = 0.7595\n",
      "Epoch 9/20, iter 0/391, loss=0.5623\n",
      "Epoch 9/20, iter 100/391, loss=0.6999\n",
      "Epoch 9/20, iter 200/391, loss=0.6119\n",
      "Epoch 9/20, iter 300/391, loss=0.6376\n",
      "Epoch 9/20, Acc = 0.7627\n",
      "Epoch 10/20, iter 0/391, loss=0.6784\n",
      "Epoch 10/20, iter 100/391, loss=0.5834\n",
      "Epoch 10/20, iter 200/391, loss=0.7004\n",
      "Epoch 10/20, iter 300/391, loss=0.5979\n",
      "Epoch 10/20, Acc = 0.7677\n",
      "Epoch 11/20, iter 0/391, loss=0.5664\n",
      "Epoch 11/20, iter 100/391, loss=0.4887\n",
      "Epoch 11/20, iter 200/391, loss=0.6884\n",
      "Epoch 11/20, iter 300/391, loss=0.6067\n",
      "Epoch 11/20, Acc = 0.7652\n",
      "Epoch 12/20, iter 0/391, loss=0.5008\n",
      "Epoch 12/20, iter 100/391, loss=0.5300\n",
      "Epoch 12/20, iter 200/391, loss=0.8704\n",
      "Epoch 12/20, iter 300/391, loss=0.5352\n",
      "Epoch 12/20, Acc = 0.8046\n",
      "Epoch 13/20, iter 0/391, loss=0.6453\n",
      "Epoch 13/20, iter 100/391, loss=0.4598\n",
      "Epoch 13/20, iter 200/391, loss=0.5418\n",
      "Epoch 13/20, iter 300/391, loss=0.5325\n",
      "Epoch 13/20, Acc = 0.8078\n",
      "Epoch 14/20, iter 0/391, loss=0.4220\n",
      "Epoch 14/20, iter 100/391, loss=0.4507\n",
      "Epoch 14/20, iter 200/391, loss=0.5708\n",
      "Epoch 14/20, iter 300/391, loss=0.5083\n",
      "Epoch 14/20, Acc = 0.8067\n",
      "Epoch 15/20, iter 0/391, loss=0.5079\n",
      "Epoch 15/20, iter 100/391, loss=0.4497\n",
      "Epoch 15/20, iter 200/391, loss=0.5012\n",
      "Epoch 15/20, iter 300/391, loss=0.4418\n",
      "Epoch 15/20, Acc = 0.8052\n",
      "Epoch 16/20, iter 0/391, loss=0.5637\n",
      "Epoch 16/20, iter 100/391, loss=0.3793\n",
      "Epoch 16/20, iter 200/391, loss=0.5434\n",
      "Epoch 16/20, iter 300/391, loss=0.5094\n",
      "Epoch 16/20, Acc = 0.8169\n",
      "Epoch 17/20, iter 0/391, loss=0.3985\n",
      "Epoch 17/20, iter 100/391, loss=0.4561\n",
      "Epoch 17/20, iter 200/391, loss=0.6701\n",
      "Epoch 17/20, iter 300/391, loss=0.5378\n",
      "Epoch 17/20, Acc = 0.8280\n",
      "Epoch 18/20, iter 0/391, loss=0.3737\n",
      "Epoch 18/20, iter 100/391, loss=0.3572\n",
      "Epoch 18/20, iter 200/391, loss=0.4353\n",
      "Epoch 18/20, iter 300/391, loss=0.4925\n",
      "Epoch 18/20, Acc = 0.8379\n",
      "Epoch 19/20, iter 0/391, loss=0.3832\n",
      "Epoch 19/20, iter 100/391, loss=0.4189\n",
      "Epoch 19/20, iter 200/391, loss=0.5064\n",
      "Epoch 19/20, iter 300/391, loss=0.4418\n",
      "Epoch 19/20, Acc = 0.8289\n",
      "Best Acc = 0.8379\n"
     ]
    }
   ],
   "source": [
    "train_model(model, 20, data_loader, data_loader_test)"
   ]
  },
  {
   "cell_type": "code",
   "execution_count": 21,
   "id": "ec4b2526",
   "metadata": {},
   "outputs": [],
   "source": [
    "def load_model(path):\n",
    "    return torch.load(path)"
   ]
  },
  {
   "cell_type": "code",
   "execution_count": 22,
   "id": "ca9fa126",
   "metadata": {},
   "outputs": [
    {
     "name": "stdout",
     "output_type": "stream",
     "text": [
      "\n",
      " Before quantization: \n",
      " VGG(\n",
      "  (features): Sequential(\n",
      "    (0): Conv2d(3, 64, kernel_size=(3, 3), stride=(1, 1), padding=(1, 1))\n",
      "    (1): ReLU(inplace=True)\n",
      "    (2): Conv2d(64, 64, kernel_size=(3, 3), stride=(1, 1), padding=(1, 1))\n",
      "    (3): ReLU(inplace=True)\n",
      "    (4): MaxPool2d(kernel_size=2, stride=2, padding=0, dilation=1, ceil_mode=False)\n",
      "    (5): Conv2d(64, 128, kernel_size=(3, 3), stride=(1, 1), padding=(1, 1))\n",
      "    (6): ReLU(inplace=True)\n",
      "    (7): Conv2d(128, 128, kernel_size=(3, 3), stride=(1, 1), padding=(1, 1))\n",
      "    (8): ReLU(inplace=True)\n",
      "    (9): MaxPool2d(kernel_size=2, stride=2, padding=0, dilation=1, ceil_mode=False)\n",
      "    (10): Conv2d(128, 256, kernel_size=(3, 3), stride=(1, 1), padding=(1, 1))\n",
      "    (11): ReLU(inplace=True)\n",
      "    (12): Conv2d(256, 256, kernel_size=(3, 3), stride=(1, 1), padding=(1, 1))\n",
      "    (13): ReLU(inplace=True)\n",
      "    (14): Conv2d(256, 256, kernel_size=(3, 3), stride=(1, 1), padding=(1, 1))\n",
      "    (15): ReLU(inplace=True)\n",
      "    (16): MaxPool2d(kernel_size=2, stride=2, padding=0, dilation=1, ceil_mode=False)\n",
      "    (17): Conv2d(256, 512, kernel_size=(3, 3), stride=(1, 1), padding=(1, 1))\n",
      "    (18): ReLU(inplace=True)\n",
      "    (19): Conv2d(512, 512, kernel_size=(3, 3), stride=(1, 1), padding=(1, 1))\n",
      "    (20): ReLU(inplace=True)\n",
      "    (21): Conv2d(512, 512, kernel_size=(3, 3), stride=(1, 1), padding=(1, 1))\n",
      "    (22): ReLU(inplace=True)\n",
      "    (23): MaxPool2d(kernel_size=2, stride=2, padding=0, dilation=1, ceil_mode=False)\n",
      "    (24): Conv2d(512, 512, kernel_size=(3, 3), stride=(1, 1), padding=(1, 1))\n",
      "    (25): ReLU(inplace=True)\n",
      "    (26): Conv2d(512, 512, kernel_size=(3, 3), stride=(1, 1), padding=(1, 1))\n",
      "    (27): ReLU(inplace=True)\n",
      "    (28): Conv2d(512, 512, kernel_size=(3, 3), stride=(1, 1), padding=(1, 1))\n",
      "    (29): ReLU(inplace=True)\n",
      "    (30): MaxPool2d(kernel_size=2, stride=2, padding=0, dilation=1, ceil_mode=False)\n",
      "  )\n",
      "  (quant): QuantStub()\n",
      "  (dequant): DeQuantStub()\n",
      "  (classifier): Sequential(\n",
      "    (0): Linear(in_features=512, out_features=512, bias=True)\n",
      "    (1): Dropout(p=0.2, inplace=False)\n",
      "    (2): Linear(in_features=512, out_features=10, bias=True)\n",
      "  )\n",
      ")\n"
     ]
    },
    {
     "data": {
      "text/plain": [
       "VGG(\n",
       "  (features): Sequential(\n",
       "    (0): Conv2d(3, 64, kernel_size=(3, 3), stride=(1, 1), padding=(1, 1))\n",
       "    (1): ReLU(inplace=True)\n",
       "    (2): Conv2d(64, 64, kernel_size=(3, 3), stride=(1, 1), padding=(1, 1))\n",
       "    (3): ReLU(inplace=True)\n",
       "    (4): MaxPool2d(kernel_size=2, stride=2, padding=0, dilation=1, ceil_mode=False)\n",
       "    (5): Conv2d(64, 128, kernel_size=(3, 3), stride=(1, 1), padding=(1, 1))\n",
       "    (6): ReLU(inplace=True)\n",
       "    (7): Conv2d(128, 128, kernel_size=(3, 3), stride=(1, 1), padding=(1, 1))\n",
       "    (8): ReLU(inplace=True)\n",
       "    (9): MaxPool2d(kernel_size=2, stride=2, padding=0, dilation=1, ceil_mode=False)\n",
       "    (10): Conv2d(128, 256, kernel_size=(3, 3), stride=(1, 1), padding=(1, 1))\n",
       "    (11): ReLU(inplace=True)\n",
       "    (12): Conv2d(256, 256, kernel_size=(3, 3), stride=(1, 1), padding=(1, 1))\n",
       "    (13): ReLU(inplace=True)\n",
       "    (14): Conv2d(256, 256, kernel_size=(3, 3), stride=(1, 1), padding=(1, 1))\n",
       "    (15): ReLU(inplace=True)\n",
       "    (16): MaxPool2d(kernel_size=2, stride=2, padding=0, dilation=1, ceil_mode=False)\n",
       "    (17): Conv2d(256, 512, kernel_size=(3, 3), stride=(1, 1), padding=(1, 1))\n",
       "    (18): ReLU(inplace=True)\n",
       "    (19): Conv2d(512, 512, kernel_size=(3, 3), stride=(1, 1), padding=(1, 1))\n",
       "    (20): ReLU(inplace=True)\n",
       "    (21): Conv2d(512, 512, kernel_size=(3, 3), stride=(1, 1), padding=(1, 1))\n",
       "    (22): ReLU(inplace=True)\n",
       "    (23): MaxPool2d(kernel_size=2, stride=2, padding=0, dilation=1, ceil_mode=False)\n",
       "    (24): Conv2d(512, 512, kernel_size=(3, 3), stride=(1, 1), padding=(1, 1))\n",
       "    (25): ReLU(inplace=True)\n",
       "    (26): Conv2d(512, 512, kernel_size=(3, 3), stride=(1, 1), padding=(1, 1))\n",
       "    (27): ReLU(inplace=True)\n",
       "    (28): Conv2d(512, 512, kernel_size=(3, 3), stride=(1, 1), padding=(1, 1))\n",
       "    (29): ReLU(inplace=True)\n",
       "    (30): MaxPool2d(kernel_size=2, stride=2, padding=0, dilation=1, ceil_mode=False)\n",
       "  )\n",
       "  (quant): QuantStub()\n",
       "  (dequant): DeQuantStub()\n",
       "  (classifier): Sequential(\n",
       "    (0): Linear(in_features=512, out_features=512, bias=True)\n",
       "    (1): Dropout(p=0.2, inplace=False)\n",
       "    (2): Linear(in_features=512, out_features=10, bias=True)\n",
       "  )\n",
       ")"
      ]
     },
     "execution_count": 22,
     "metadata": {},
     "output_type": "execute_result"
    }
   ],
   "source": [
    "float_model = load_model(saved_model_dir + quantized_base_model_file).to('cpu')\n",
    "\n",
    "print('\\n Before quantization: \\n', float_model)\n",
    "float_model.eval()"
   ]
  },
  {
   "cell_type": "code",
   "execution_count": 51,
   "id": "91c3d480",
   "metadata": {},
   "outputs": [],
   "source": [
    "sizes = []\n",
    "infs = []\n",
    "top1_accs = []\n",
    "top5_accs = []"
   ]
  },
  {
   "cell_type": "code",
   "execution_count": 52,
   "id": "dfa0cf89",
   "metadata": {},
   "outputs": [
    {
     "name": "stdout",
     "output_type": "stream",
     "text": [
      "Size of baseline model = 59.94 MB\n"
     ]
    }
   ],
   "source": [
    "num_eval_batches = 10\n",
    "batch_size = 128\n",
    "\n",
    "print(f\"Size of baseline model = {print_size_of_model(float_model) :.2f} MB\")\n",
    "sizes.append(print_size_of_model(float_model))"
   ]
  },
  {
   "cell_type": "code",
   "execution_count": null,
   "id": "b77fdec2",
   "metadata": {},
   "outputs": [],
   "source": []
  },
  {
   "cell_type": "code",
   "execution_count": 53,
   "id": "4ece4141",
   "metadata": {},
   "outputs": [
    {
     "name": "stdout",
     "output_type": "stream",
     "text": [
      "..........\n",
      "Top-1 Evaluation accuracy on 1280 images, 84.38%\n",
      "Top-5 Evaluation accuracy on 1280 images, 99.14%\n"
     ]
    }
   ],
   "source": [
    "top1, top5 = evaluate(float_model, criterion, data_loader_test, neval_batches=num_eval_batches)\n",
    "print()\n",
    "print('Top-1 Evaluation accuracy on %d images, %2.2f%%'%(num_eval_batches * batch_size, top1.avg))\n",
    "print('Top-5 Evaluation accuracy on %d images, %2.2f%%'%(num_eval_batches * batch_size, top5.avg))\n",
    "top1_accs.append(top1.avg)\n",
    "top5_accs.append(top5.avg)"
   ]
  },
  {
   "cell_type": "code",
   "execution_count": 54,
   "id": "8308b4f2",
   "metadata": {},
   "outputs": [],
   "source": [
    "torch.jit.save(torch.jit.script(float_model), saved_model_dir + scripted_float_model_file) # save un_quantized model"
   ]
  },
  {
   "cell_type": "code",
   "execution_count": 55,
   "id": "ef6a7df2",
   "metadata": {},
   "outputs": [
    {
     "data": {
      "text/plain": [
       "VGG(\n",
       "  (features): Sequential(\n",
       "    (0): Conv2d(3, 64, kernel_size=(3, 3), stride=(1, 1), padding=(1, 1))\n",
       "    (1): ReLU(inplace=True)\n",
       "    (2): Conv2d(64, 64, kernel_size=(3, 3), stride=(1, 1), padding=(1, 1))\n",
       "    (3): ReLU(inplace=True)\n",
       "    (4): MaxPool2d(kernel_size=2, stride=2, padding=0, dilation=1, ceil_mode=False)\n",
       "    (5): Conv2d(64, 128, kernel_size=(3, 3), stride=(1, 1), padding=(1, 1))\n",
       "    (6): ReLU(inplace=True)\n",
       "    (7): Conv2d(128, 128, kernel_size=(3, 3), stride=(1, 1), padding=(1, 1))\n",
       "    (8): ReLU(inplace=True)\n",
       "    (9): MaxPool2d(kernel_size=2, stride=2, padding=0, dilation=1, ceil_mode=False)\n",
       "    (10): Conv2d(128, 256, kernel_size=(3, 3), stride=(1, 1), padding=(1, 1))\n",
       "    (11): ReLU(inplace=True)\n",
       "    (12): Conv2d(256, 256, kernel_size=(3, 3), stride=(1, 1), padding=(1, 1))\n",
       "    (13): ReLU(inplace=True)\n",
       "    (14): Conv2d(256, 256, kernel_size=(3, 3), stride=(1, 1), padding=(1, 1))\n",
       "    (15): ReLU(inplace=True)\n",
       "    (16): MaxPool2d(kernel_size=2, stride=2, padding=0, dilation=1, ceil_mode=False)\n",
       "    (17): Conv2d(256, 512, kernel_size=(3, 3), stride=(1, 1), padding=(1, 1))\n",
       "    (18): ReLU(inplace=True)\n",
       "    (19): Conv2d(512, 512, kernel_size=(3, 3), stride=(1, 1), padding=(1, 1))\n",
       "    (20): ReLU(inplace=True)\n",
       "    (21): Conv2d(512, 512, kernel_size=(3, 3), stride=(1, 1), padding=(1, 1))\n",
       "    (22): ReLU(inplace=True)\n",
       "    (23): MaxPool2d(kernel_size=2, stride=2, padding=0, dilation=1, ceil_mode=False)\n",
       "    (24): Conv2d(512, 512, kernel_size=(3, 3), stride=(1, 1), padding=(1, 1))\n",
       "    (25): ReLU(inplace=True)\n",
       "    (26): Conv2d(512, 512, kernel_size=(3, 3), stride=(1, 1), padding=(1, 1))\n",
       "    (27): ReLU(inplace=True)\n",
       "    (28): Conv2d(512, 512, kernel_size=(3, 3), stride=(1, 1), padding=(1, 1))\n",
       "    (29): ReLU(inplace=True)\n",
       "    (30): MaxPool2d(kernel_size=2, stride=2, padding=0, dilation=1, ceil_mode=False)\n",
       "  )\n",
       "  (quant): QuantStub()\n",
       "  (dequant): DeQuantStub()\n",
       "  (classifier): Sequential(\n",
       "    (0): Linear(in_features=512, out_features=512, bias=True)\n",
       "    (1): Dropout(p=0.2, inplace=False)\n",
       "    (2): Linear(in_features=512, out_features=10, bias=True)\n",
       "  )\n",
       ")"
      ]
     },
     "execution_count": 55,
     "metadata": {},
     "output_type": "execute_result"
    }
   ],
   "source": [
    "num_calibration_batches = 10\n",
    "\n",
    "myModel = load_model(saved_model_dir + quantized_base_model_file).to('cpu')\n",
    "myModel.eval()"
   ]
  },
  {
   "cell_type": "code",
   "execution_count": 56,
   "id": "7670b89e",
   "metadata": {},
   "outputs": [
    {
     "name": "stdout",
     "output_type": "stream",
     "text": [
      "QConfig(activation=functools.partial(<class 'torch.ao.quantization.observer.MinMaxObserver'>, reduce_range=True){}, weight=functools.partial(<class 'torch.ao.quantization.observer.MinMaxObserver'>, dtype=torch.qint8, qscheme=torch.per_tensor_symmetric){})\n"
     ]
    },
    {
     "data": {
      "text/plain": [
       "VGG(\n",
       "  (features): Sequential(\n",
       "    (0): Conv2d(\n",
       "      3, 64, kernel_size=(3, 3), stride=(1, 1), padding=(1, 1)\n",
       "      (activation_post_process): MinMaxObserver(min_val=inf, max_val=-inf)\n",
       "    )\n",
       "    (1): ReLU(inplace=True)\n",
       "    (2): Conv2d(\n",
       "      64, 64, kernel_size=(3, 3), stride=(1, 1), padding=(1, 1)\n",
       "      (activation_post_process): MinMaxObserver(min_val=inf, max_val=-inf)\n",
       "    )\n",
       "    (3): ReLU(inplace=True)\n",
       "    (4): MaxPool2d(kernel_size=2, stride=2, padding=0, dilation=1, ceil_mode=False)\n",
       "    (5): Conv2d(\n",
       "      64, 128, kernel_size=(3, 3), stride=(1, 1), padding=(1, 1)\n",
       "      (activation_post_process): MinMaxObserver(min_val=inf, max_val=-inf)\n",
       "    )\n",
       "    (6): ReLU(inplace=True)\n",
       "    (7): Conv2d(\n",
       "      128, 128, kernel_size=(3, 3), stride=(1, 1), padding=(1, 1)\n",
       "      (activation_post_process): MinMaxObserver(min_val=inf, max_val=-inf)\n",
       "    )\n",
       "    (8): ReLU(inplace=True)\n",
       "    (9): MaxPool2d(kernel_size=2, stride=2, padding=0, dilation=1, ceil_mode=False)\n",
       "    (10): Conv2d(\n",
       "      128, 256, kernel_size=(3, 3), stride=(1, 1), padding=(1, 1)\n",
       "      (activation_post_process): MinMaxObserver(min_val=inf, max_val=-inf)\n",
       "    )\n",
       "    (11): ReLU(inplace=True)\n",
       "    (12): Conv2d(\n",
       "      256, 256, kernel_size=(3, 3), stride=(1, 1), padding=(1, 1)\n",
       "      (activation_post_process): MinMaxObserver(min_val=inf, max_val=-inf)\n",
       "    )\n",
       "    (13): ReLU(inplace=True)\n",
       "    (14): Conv2d(\n",
       "      256, 256, kernel_size=(3, 3), stride=(1, 1), padding=(1, 1)\n",
       "      (activation_post_process): MinMaxObserver(min_val=inf, max_val=-inf)\n",
       "    )\n",
       "    (15): ReLU(inplace=True)\n",
       "    (16): MaxPool2d(kernel_size=2, stride=2, padding=0, dilation=1, ceil_mode=False)\n",
       "    (17): Conv2d(\n",
       "      256, 512, kernel_size=(3, 3), stride=(1, 1), padding=(1, 1)\n",
       "      (activation_post_process): MinMaxObserver(min_val=inf, max_val=-inf)\n",
       "    )\n",
       "    (18): ReLU(inplace=True)\n",
       "    (19): Conv2d(\n",
       "      512, 512, kernel_size=(3, 3), stride=(1, 1), padding=(1, 1)\n",
       "      (activation_post_process): MinMaxObserver(min_val=inf, max_val=-inf)\n",
       "    )\n",
       "    (20): ReLU(inplace=True)\n",
       "    (21): Conv2d(\n",
       "      512, 512, kernel_size=(3, 3), stride=(1, 1), padding=(1, 1)\n",
       "      (activation_post_process): MinMaxObserver(min_val=inf, max_val=-inf)\n",
       "    )\n",
       "    (22): ReLU(inplace=True)\n",
       "    (23): MaxPool2d(kernel_size=2, stride=2, padding=0, dilation=1, ceil_mode=False)\n",
       "    (24): Conv2d(\n",
       "      512, 512, kernel_size=(3, 3), stride=(1, 1), padding=(1, 1)\n",
       "      (activation_post_process): MinMaxObserver(min_val=inf, max_val=-inf)\n",
       "    )\n",
       "    (25): ReLU(inplace=True)\n",
       "    (26): Conv2d(\n",
       "      512, 512, kernel_size=(3, 3), stride=(1, 1), padding=(1, 1)\n",
       "      (activation_post_process): MinMaxObserver(min_val=inf, max_val=-inf)\n",
       "    )\n",
       "    (27): ReLU(inplace=True)\n",
       "    (28): Conv2d(\n",
       "      512, 512, kernel_size=(3, 3), stride=(1, 1), padding=(1, 1)\n",
       "      (activation_post_process): MinMaxObserver(min_val=inf, max_val=-inf)\n",
       "    )\n",
       "    (29): ReLU(inplace=True)\n",
       "    (30): MaxPool2d(kernel_size=2, stride=2, padding=0, dilation=1, ceil_mode=False)\n",
       "  )\n",
       "  (quant): QuantStub(\n",
       "    (activation_post_process): MinMaxObserver(min_val=inf, max_val=-inf)\n",
       "  )\n",
       "  (dequant): DeQuantStub()\n",
       "  (classifier): Sequential(\n",
       "    (0): Linear(\n",
       "      in_features=512, out_features=512, bias=True\n",
       "      (activation_post_process): MinMaxObserver(min_val=inf, max_val=-inf)\n",
       "    )\n",
       "    (1): Dropout(p=0.2, inplace=False)\n",
       "    (2): Linear(\n",
       "      in_features=512, out_features=10, bias=True\n",
       "      (activation_post_process): MinMaxObserver(min_val=inf, max_val=-inf)\n",
       "    )\n",
       "  )\n",
       ")"
      ]
     },
     "execution_count": 56,
     "metadata": {},
     "output_type": "execute_result"
    }
   ],
   "source": [
    "# Specify quantization configuration\n",
    "# Start with simple min/max range estimation and per-tensor quantization of weights\n",
    "myModel.qconfig = torch.quantization.default_qconfig\n",
    "print(myModel.qconfig)\n",
    "torch.quantization.prepare(myModel, inplace=True)"
   ]
  },
  {
   "cell_type": "code",
   "execution_count": 57,
   "id": "16df5ae1",
   "metadata": {},
   "outputs": [
    {
     "name": "stdout",
     "output_type": "stream",
     "text": [
      "\n",
      "Post Training Quantization Prepare: Inserting Observers by Calibrate\n",
      "..........Calibrate done\n"
     ]
    }
   ],
   "source": [
    "# Calibrate with the training set\n",
    "print('\\nPost Training Quantization Prepare: Inserting Observers by Calibrate')\n",
    "evaluate(myModel, criterion, data_loader, neval_batches=num_calibration_batches)\n",
    "print(\"Calibrate done\")"
   ]
  },
  {
   "cell_type": "code",
   "execution_count": 58,
   "id": "5c3564bc",
   "metadata": {},
   "outputs": [
    {
     "name": "stdout",
     "output_type": "stream",
     "text": [
      "Post Training Quantization: Convert done\n"
     ]
    }
   ],
   "source": [
    "# Convert to quantized model\n",
    "torch.quantization.convert(myModel, inplace=True)\n",
    "print('Post Training Quantization: Convert done')"
   ]
  },
  {
   "cell_type": "code",
   "execution_count": 59,
   "id": "917cc32a",
   "metadata": {
    "scrolled": false
   },
   "outputs": [
    {
     "name": "stdout",
     "output_type": "stream",
     "text": [
      "\n",
      " After quantization: \n",
      " VGG(\n",
      "  (features): Sequential(\n",
      "    (0): QuantizedConv2d(3, 64, kernel_size=(3, 3), stride=(1, 1), scale=0.09904821217060089, zero_point=49, padding=(1, 1))\n",
      "    (1): ReLU(inplace=True)\n",
      "    (2): QuantizedConv2d(64, 64, kernel_size=(3, 3), stride=(1, 1), scale=0.4555126428604126, zero_point=85, padding=(1, 1))\n",
      "    (3): ReLU(inplace=True)\n",
      "    (4): MaxPool2d(kernel_size=2, stride=2, padding=0, dilation=1, ceil_mode=False)\n",
      "    (5): QuantizedConv2d(64, 128, kernel_size=(3, 3), stride=(1, 1), scale=0.6358559131622314, zero_point=82, padding=(1, 1))\n",
      "    (6): ReLU(inplace=True)\n",
      "    (7): QuantizedConv2d(128, 128, kernel_size=(3, 3), stride=(1, 1), scale=0.7569528222084045, zero_point=71, padding=(1, 1))\n",
      "    (8): ReLU(inplace=True)\n",
      "    (9): MaxPool2d(kernel_size=2, stride=2, padding=0, dilation=1, ceil_mode=False)\n",
      "    (10): QuantizedConv2d(128, 256, kernel_size=(3, 3), stride=(1, 1), scale=1.3964283466339111, zero_point=62, padding=(1, 1))\n",
      "    (11): ReLU(inplace=True)\n",
      "    (12): QuantizedConv2d(256, 256, kernel_size=(3, 3), stride=(1, 1), scale=1.3923784494400024, zero_point=75, padding=(1, 1))\n",
      "    (13): ReLU(inplace=True)\n",
      "    (14): QuantizedConv2d(256, 256, kernel_size=(3, 3), stride=(1, 1), scale=1.4405853748321533, zero_point=68, padding=(1, 1))\n",
      "    (15): ReLU(inplace=True)\n",
      "    (16): MaxPool2d(kernel_size=2, stride=2, padding=0, dilation=1, ceil_mode=False)\n",
      "    (17): QuantizedConv2d(256, 512, kernel_size=(3, 3), stride=(1, 1), scale=1.5487353801727295, zero_point=63, padding=(1, 1))\n",
      "    (18): ReLU(inplace=True)\n",
      "    (19): QuantizedConv2d(512, 512, kernel_size=(3, 3), stride=(1, 1), scale=1.2848392724990845, zero_point=70, padding=(1, 1))\n",
      "    (20): ReLU(inplace=True)\n",
      "    (21): QuantizedConv2d(512, 512, kernel_size=(3, 3), stride=(1, 1), scale=0.679796040058136, zero_point=60, padding=(1, 1))\n",
      "    (22): ReLU(inplace=True)\n",
      "    (23): MaxPool2d(kernel_size=2, stride=2, padding=0, dilation=1, ceil_mode=False)\n",
      "    (24): QuantizedConv2d(512, 512, kernel_size=(3, 3), stride=(1, 1), scale=0.4561661183834076, zero_point=68, padding=(1, 1))\n",
      "    (25): ReLU(inplace=True)\n",
      "    (26): QuantizedConv2d(512, 512, kernel_size=(3, 3), stride=(1, 1), scale=0.22676719725131989, zero_point=69, padding=(1, 1))\n",
      "    (27): ReLU(inplace=True)\n",
      "    (28): QuantizedConv2d(512, 512, kernel_size=(3, 3), stride=(1, 1), scale=0.19865666329860687, zero_point=64, padding=(1, 1))\n",
      "    (29): ReLU(inplace=True)\n",
      "    (30): MaxPool2d(kernel_size=2, stride=2, padding=0, dilation=1, ceil_mode=False)\n",
      "  )\n",
      "  (quant): Quantize(scale=tensor([0.0079]), zero_point=tensor([0]), dtype=torch.quint8)\n",
      "  (dequant): DeQuantize()\n",
      "  (classifier): Sequential(\n",
      "    (0): QuantizedLinear(in_features=512, out_features=512, scale=0.0677788108587265, zero_point=58, qscheme=torch.per_tensor_affine)\n",
      "    (1): Dropout(p=0.2, inplace=False)\n",
      "    (2): QuantizedLinear(in_features=512, out_features=10, scale=0.5812567472457886, zero_point=40, qscheme=torch.per_tensor_affine)\n",
      "  )\n",
      ")\n",
      "Size of model after quantization = 15.02 MB\n"
     ]
    }
   ],
   "source": [
    "print('\\n After quantization: \\n',myModel)\n",
    "\n",
    "print(f\"Size of model after quantization = {print_size_of_model(myModel) :.2f} MB\")\n",
    "sizes.append(print_size_of_model(myModel))"
   ]
  },
  {
   "cell_type": "code",
   "execution_count": 60,
   "id": "02d56dd2",
   "metadata": {},
   "outputs": [
    {
     "name": "stdout",
     "output_type": "stream",
     "text": [
      "..........\n",
      "Top-1 Evaluation accuracy on 1280 images, 83.44%\n",
      "Top-5 Evaluation accuracy on 1280 images, 99.14%\n"
     ]
    }
   ],
   "source": [
    "top1, top5 = evaluate(myModel, criterion, data_loader_test, neval_batches=num_eval_batches)\n",
    "\n",
    "print()\n",
    "print('Top-1 Evaluation accuracy on %d images, %2.2f%%'%(num_eval_batches * batch_size, top1.avg))\n",
    "print('Top-5 Evaluation accuracy on %d images, %2.2f%%'%(num_eval_batches * batch_size, top5.avg))\n",
    "top1_accs.append(top1.avg)\n",
    "top5_accs.append(top5.avg)"
   ]
  },
  {
   "cell_type": "code",
   "execution_count": 61,
   "id": "a13c29ce",
   "metadata": {},
   "outputs": [],
   "source": [
    "torch.jit.save(torch.jit.script(myModel), saved_model_dir + scripted_default_quantized_model_file) # save default_quantized model"
   ]
  },
  {
   "cell_type": "code",
   "execution_count": null,
   "id": "9f76d43c",
   "metadata": {},
   "outputs": [],
   "source": []
  },
  {
   "cell_type": "code",
   "execution_count": 62,
   "id": "e24aaf24",
   "metadata": {},
   "outputs": [],
   "source": [
    "per_channel_quantized_model = load_model(saved_model_dir + quantized_base_model_file).to('cpu')\n",
    "per_channel_quantized_model.eval()\n",
    "per_channel_quantized_model.qconfig = torch.quantization.get_default_qconfig('fbgemm') # set the quantize config"
   ]
  },
  {
   "cell_type": "code",
   "execution_count": 63,
   "id": "e109bb97",
   "metadata": {},
   "outputs": [
    {
     "name": "stdout",
     "output_type": "stream",
     "text": [
      "\n",
      " optimal quantize config: \n",
      "QConfig(activation=functools.partial(<class 'torch.ao.quantization.observer.HistogramObserver'>, reduce_range=True){}, weight=functools.partial(<class 'torch.ao.quantization.observer.PerChannelMinMaxObserver'>, dtype=torch.qint8, qscheme=torch.per_channel_symmetric){})\n"
     ]
    }
   ],
   "source": [
    "print('\\n optimal quantize config: ')\n",
    "print(per_channel_quantized_model.qconfig)"
   ]
  },
  {
   "cell_type": "code",
   "execution_count": 64,
   "id": "68ca6101",
   "metadata": {},
   "outputs": [
    {
     "name": "stdout",
     "output_type": "stream",
     "text": [
      "..........Calibrate done\n"
     ]
    }
   ],
   "source": [
    "torch.quantization.prepare(per_channel_quantized_model, inplace=True) # execute the quantize config\n",
    "evaluate(per_channel_quantized_model, criterion, data_loader, num_calibration_batches) # calibrate\n",
    "print(\"Calibrate done\")"
   ]
  },
  {
   "cell_type": "code",
   "execution_count": 65,
   "id": "bda885e2",
   "metadata": {},
   "outputs": [
    {
     "name": "stdout",
     "output_type": "stream",
     "text": [
      "Post Training Optimal Quantization: Convert done\n"
     ]
    }
   ],
   "source": [
    "torch.quantization.convert(per_channel_quantized_model, inplace=True) # convert to quantize model\n",
    "print('Post Training Optimal Quantization: Convert done')"
   ]
  },
  {
   "cell_type": "code",
   "execution_count": 66,
   "id": "5a3498f2",
   "metadata": {},
   "outputs": [
    {
     "name": "stdout",
     "output_type": "stream",
     "text": [
      "Size of model after optimal quantization = 15.10 MB\n"
     ]
    }
   ],
   "source": [
    "print(f\"Size of model after optimal quantization = {print_size_of_model(per_channel_quantized_model) :.2f} MB\")\n",
    "sizes.append(print_size_of_model(per_channel_quantized_model))"
   ]
  },
  {
   "cell_type": "code",
   "execution_count": 67,
   "id": "e97287ff",
   "metadata": {},
   "outputs": [
    {
     "name": "stdout",
     "output_type": "stream",
     "text": [
      "..........\n",
      "Top-1 Evaluation accuracy on 1280 images, 84.45%\n",
      "Top-5 Evaluation accuracy on 1280 images, 99.14%\n"
     ]
    }
   ],
   "source": [
    "top1, top5 = evaluate(per_channel_quantized_model, criterion, data_loader_test, neval_batches=num_eval_batches) # test acc\n",
    "\n",
    "print()\n",
    "print('Top-1 Evaluation accuracy on %d images, %2.2f%%'%(num_eval_batches * batch_size, top1.avg))\n",
    "print('Top-5 Evaluation accuracy on %d images, %2.2f%%'%(num_eval_batches * batch_size, top5.avg))\n",
    "top1_accs.append(top1.avg)\n",
    "top5_accs.append(top5.avg)"
   ]
  },
  {
   "cell_type": "code",
   "execution_count": 68,
   "id": "fb4c4264",
   "metadata": {},
   "outputs": [],
   "source": [
    "torch.jit.save(torch.jit.script(per_channel_quantized_model), saved_model_dir + scripted_optimal_quantized_model_file) # save quantized model"
   ]
  },
  {
   "cell_type": "code",
   "execution_count": 70,
   "id": "9189c9fd",
   "metadata": {},
   "outputs": [
    {
     "name": "stdout",
     "output_type": "stream",
     "text": [
      "\n",
      "Inference time compare: \n",
      "Elapsed time: 1.79 ms\n",
      "Elapsed time: 3.29 ms\n",
      "Elapsed time: 3.26 ms\n"
     ]
    }
   ],
   "source": [
    "print(\"\\nInference time compare: \")\n",
    "infs.append(run_benchmark(saved_model_dir + scripted_float_model_file, data_loader_test))\n",
    "infs.append(run_benchmark(saved_model_dir + scripted_default_quantized_model_file, data_loader_test))\n",
    "infs.append(run_benchmark(saved_model_dir + scripted_optimal_quantized_model_file, data_loader_test))"
   ]
  },
  {
   "cell_type": "code",
   "execution_count": null,
   "id": "378f03a7",
   "metadata": {},
   "outputs": [],
   "source": []
  },
  {
   "cell_type": "markdown",
   "id": "1637424c",
   "metadata": {},
   "source": [
    "   | Parameters | Original Model | Default Quantized Model | Optimal Quantized Model |\n",
    "   |:-:|:-:|:-:|:-:|\n",
    "   | Model Size           |    59.94 MB      |         15.02 MB          |        15.10 MB    |     \n",
    "   | Top-1 Test Accuracy  |    84.37 %       |         83.43 %           |        84.45 %     |    \n",
    "   | Top-5 Test Accuracy  |    99.14 %       |         99.14 %           |        99.14 %     |    \n",
    "   | Inference Time       |    1.79 ms       |         3.29 ms           |        3.26 ms     |\n"
   ]
  },
  {
   "cell_type": "markdown",
   "id": "abbf35db",
   "metadata": {},
   "source": [
    "    -----------------------------------------------------------------------------------------------\n",
    "                          | Original Model   | Default Quantized Model   | Optimal Quantized Model \n",
    "    Model Size:           |    59.94 MB      |         15.02 MB          |        15.10 MB          \n",
    "    Top-1 Test Accuracy:  |    84.37 %       |         83.43 %           |        84.45 %         \n",
    "    Top-5 Test Accuracy:  |    99.14 %       |         99.14 %           |        99.14 %          \n",
    "    Inference Time:       |    1.79 ms       |         3.29 ms           |        3.26 ms           \n",
    "    ----------------------------------------------------------------------------------------------"
   ]
  },
  {
   "cell_type": "code",
   "execution_count": null,
   "id": "e9482eca",
   "metadata": {},
   "outputs": [],
   "source": []
  },
  {
   "cell_type": "code",
   "execution_count": 5,
   "id": "bf96abca",
   "metadata": {},
   "outputs": [],
   "source": [
    "labels = ['Baseline Model', 'Quantized Model', 'Optimally Quantized Model']"
   ]
  },
  {
   "cell_type": "code",
   "execution_count": 72,
   "id": "964c9e2d",
   "metadata": {},
   "outputs": [
    {
     "data": {
      "image/png": "[encoded data removed]",
      "text/plain": [
       "<Figure size 576x432 with 1 Axes>"
      ]
     },
     "metadata": {
      "needs_background": "light"
     },
     "output_type": "display_data"
    }
   ],
   "source": [
    "plt.figure(figsize=(8, 6))\n",
    "plt.bar(np.arange(3), sizes)\n",
    "plt.xticks(np.arange(3), labels)\n",
    "plt.xlabel('Model Type')\n",
    "plt.ylabel('Model Size (in MB)')\n",
    "plt.title('Model Size after Quantization')\n",
    "plt.show()"
   ]
  },
  {
   "cell_type": "code",
   "execution_count": 76,
   "id": "38b31077",
   "metadata": {},
   "outputs": [
    {
     "data": {
      "text/plain": [
       "[tensor(84.3750), tensor(83.4375), tensor(84.4531)]"
      ]
     },
     "execution_count": 76,
     "metadata": {},
     "output_type": "execute_result"
    }
   ],
   "source": [
    "top1_accs"
   ]
  },
  {
   "cell_type": "code",
   "execution_count": 77,
   "id": "0de75b31",
   "metadata": {},
   "outputs": [
    {
     "data": {
      "text/plain": [
       "[tensor(99.1406), tensor(99.1406), tensor(99.1406)]"
      ]
     },
     "execution_count": 77,
     "metadata": {},
     "output_type": "execute_result"
    }
   ],
   "source": [
    "top5_accs"
   ]
  },
  {
   "cell_type": "code",
   "execution_count": 2,
   "id": "5093d68a",
   "metadata": {},
   "outputs": [],
   "source": [
    "top1_accs = [84.3750, 83.4375, 84.4531]\n",
    "top5_accs = [99.1406, 99.1406, 99.1406]"
   ]
  },
  {
   "cell_type": "code",
   "execution_count": 10,
   "id": "8e1baca1",
   "metadata": {},
   "outputs": [
    {
     "data": {
      "image/png": "[encoded data removed]",
      "text/plain": [
       "<Figure size 576x432 with 1 Axes>"
      ]
     },
     "metadata": {
      "needs_background": "light"
     },
     "output_type": "display_data"
    }
   ],
   "source": [
    "plt.figure(figsize=(8, 6))\n",
    "plt.plot(top1_accs, marker='o', label='Top-1 Test Accuracy')\n",
    "plt.plot(top5_accs, marker='o', label='Top-5 Test Accuracy')\n",
    "\n",
    "plt.ylim(75, 102)\n",
    "plt.xticks(np.arange(3), labels)\n",
    "plt.xlabel('Model Type')\n",
    "plt.ylabel('Top-1 Test Accuracy')\n",
    "plt.title('Top-1 Test Accuracy after Quantization')\n",
    "plt.legend()\n",
    "plt.show()"
   ]
  },
  {
   "cell_type": "code",
   "execution_count": null,
   "id": "7fb4cd4b",
   "metadata": {},
   "outputs": [],
   "source": []
  },
  {
   "cell_type": "code",
   "execution_count": null,
   "id": "9312e4dd",
   "metadata": {},
   "outputs": [],
   "source": []
  },
  {
   "cell_type": "code",
   "execution_count": 88,
   "id": "8d9fb5d4",
   "metadata": {},
   "outputs": [
    {
     "data": {
      "image/png": "[encoded data removed]",
      "text/plain": [
       "<Figure size 576x432 with 1 Axes>"
      ]
     },
     "metadata": {
      "needs_background": "light"
     },
     "output_type": "display_data"
    }
   ],
   "source": [
    "plt.figure(figsize=(8, 6))\n",
    "# plt.bar(np.arange(3), accs)\n",
    "plt.plot(top1_accs, marker='o')\n",
    "plt.ylim(83, 85)\n",
    "plt.xticks(np.arange(3), labels)\n",
    "plt.xlabel('Model Type')\n",
    "plt.ylabel('Top-1 Test Accuracy')\n",
    "plt.title('Top-1 Test Accuracy after Quantization')\n",
    "plt.show()"
   ]
  },
  {
   "cell_type": "code",
   "execution_count": 84,
   "id": "12e392b1",
   "metadata": {},
   "outputs": [
    {
     "data": {
      "image/png": "[encoded data removed]",
      "text/plain": [
       "<Figure size 576x432 with 1 Axes>"
      ]
     },
     "metadata": {
      "needs_background": "light"
     },
     "output_type": "display_data"
    }
   ],
   "source": [
    "plt.figure(figsize=(8, 6))\n",
    "# plt.bar(np.arange(3), accs)\n",
    "plt.plot(top5_accs, marker='o')\n",
    "plt.ylim(98, 100)\n",
    "plt.xticks(np.arange(3), labels)\n",
    "plt.xlabel('Model Type')\n",
    "plt.ylabel('Top-5 Test Accuracy')\n",
    "plt.title('Top-5 Test Accuracy after Quantization')\n",
    "plt.show()"
   ]
  },
  {
   "cell_type": "code",
   "execution_count": 85,
   "id": "03676399",
   "metadata": {},
   "outputs": [
    {
     "data": {
      "image/png": "[encoded data removed]",
      "text/plain": [
       "<Figure size 576x432 with 1 Axes>"
      ]
     },
     "metadata": {
      "needs_background": "light"
     },
     "output_type": "display_data"
    }
   ],
   "source": [
    "plt.figure(figsize=(8, 6))\n",
    "# plt.bar(np.arange(3), infs)\n",
    "plt.plot(infs, marker='o')\n",
    "plt.ylim(1, 3.5)\n",
    "plt.xticks(np.arange(3), labels)\n",
    "plt.xlabel('Model Type')\n",
    "plt.ylabel('Inference Time')\n",
    "plt.title('Inference Time after Quantization')\n",
    "plt.show()"
   ]
  },
  {
   "cell_type": "code",
   "execution_count": null,
   "id": "4c6461c8",
   "metadata": {},
   "outputs": [],
   "source": []
  },
  {
   "cell_type": "code",
   "execution_count": null,
   "id": "6591dd9c",
   "metadata": {},
   "outputs": [],
   "source": [
    "# ResNet Plots"
   ]
  },
  {
   "cell_type": "code",
   "execution_count": 103,
   "id": "626a09a3",
   "metadata": {},
   "outputs": [],
   "source": [
    "sizes = [44.8, 11.305, 11.394]\n",
    "accs = [0.73, 0.7288, 0.7247]\n",
    "infs = [0, 1, 1]\n",
    "labels = ['Baseline Model', 'Quantized Model', 'Optimally Quantized Model']"
   ]
  },
  {
   "cell_type": "code",
   "execution_count": null,
   "id": "4ee76ede",
   "metadata": {},
   "outputs": [],
   "source": []
  },
  {
   "cell_type": "code",
   "execution_count": 104,
   "id": "884d8a9e",
   "metadata": {},
   "outputs": [
    {
     "data": {
      "image/png": "[encoded data removed]",
      "text/plain": [
       "<Figure size 576x432 with 1 Axes>"
      ]
     },
     "metadata": {
      "needs_background": "light"
     },
     "output_type": "display_data"
    }
   ],
   "source": [
    "plt.figure(figsize=(8, 6))\n",
    "plt.bar(np.arange(3), sizes)\n",
    "plt.xticks(np.arange(3), labels)\n",
    "plt.xlabel('Model Type')\n",
    "plt.ylabel('Model Size (in MB)')\n",
    "plt.title('Model Size after Quantization')\n",
    "plt.show()"
   ]
  },
  {
   "cell_type": "code",
   "execution_count": 108,
   "id": "4d5d4dac",
   "metadata": {},
   "outputs": [
    {
     "data": {
      "image/png": "[encoded data removed]",
      "text/plain": [
       "<Figure size 576x432 with 1 Axes>"
      ]
     },
     "metadata": {
      "needs_background": "light"
     },
     "output_type": "display_data"
    }
   ],
   "source": [
    "plt.figure(figsize=(8, 6))\n",
    "# plt.bar(np.arange(3), accs)\n",
    "plt.plot(accs, marker='o')\n",
    "plt.ylim(0.71, 0.74)\n",
    "plt.xticks(np.arange(3), labels)\n",
    "plt.xlabel('Model Type')\n",
    "plt.ylabel('Test Accuracy')\n",
    "plt.title('Test Accuracy after Quantization')\n",
    "plt.show()"
   ]
  },
  {
   "cell_type": "code",
   "execution_count": 110,
   "id": "34c5713e",
   "metadata": {},
   "outputs": [
    {
     "data": {
      "image/png": "[encoded data removed]",
      "text/plain": [
       "<Figure size 576x432 with 1 Axes>"
      ]
     },
     "metadata": {
      "needs_background": "light"
     },
     "output_type": "display_data"
    }
   ],
   "source": [
    "plt.figure(figsize=(8, 6))\n",
    "# plt.bar(np.arange(3), infs)\n",
    "plt.plot(infs, marker='o')\n",
    "# plt.ylim(0, 3.5)\n",
    "plt.xticks(np.arange(3), labels)\n",
    "plt.xlabel('Model Type')\n",
    "plt.ylabel('Inference Time')\n",
    "plt.title('Inference Time after Quantization')\n",
    "plt.show()"
   ]
  },
  {
   "cell_type": "code",
   "execution_count": null,
   "id": "f161bb7a",
   "metadata": {},
   "outputs": [],
   "source": []
  }
 ],
 "metadata": {
  "kernelspec": {
   "display_name": "Python 3 (ipykernel)",
   "language": "python",
   "name": "python3"
  },
  "language_info": {
   "codemirror_mode": {
    "name": "ipython",
    "version": 3
   },
   "file_extension": ".py",
   "mimetype": "text/x-python",
   "name": "python",
   "nbconvert_exporter": "python",
   "pygments_lexer": "ipython3",
   "version": "3.9.12"
  }
 },
 "nbformat": 4,
 "nbformat_minor": 5
}
