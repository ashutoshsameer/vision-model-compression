{
 "cells": [
  {
   "cell_type": "code",
   "execution_count": 1,
   "id": "71d31fd5",
   "metadata": {},
   "outputs": [],
   "source": [
    "# Imports\n",
    "import quantize\n",
    "from utee import misc, quant, selector\n",
    "\n",
    "import torch\n",
    "import torchvision\n",
    "import torchvision.transforms as transforms\n",
    "\n",
    "import torch.backends.cudnn as cudnn\n",
    "cudnn.benchmark = True\n",
    "from collections import OrderedDict\n",
    "\n",
    "import time\n",
    "import os\n",
    "\n",
    "import matplotlib.pyplot as plt\n",
    "import numpy as np"
   ]
  },
  {
   "cell_type": "code",
   "execution_count": 2,
   "id": "a81ebb6d",
   "metadata": {},
   "outputs": [],
   "source": [
    "# Class to set args and params for training and evaluation\n",
    "class Args:\n",
    "    def __init__(self,\n",
    "                 type='cifar10',\n",
    "                 quant_method='linear',\n",
    "                 batch_size=100,\n",
    "                 gpu=None,\n",
    "                 ngpu=8,\n",
    "                 seed=117,\n",
    "                 model_root='~/.torch/models/',\n",
    "                 data_root='/data/public_dataset/pytorch/',\n",
    "                 logdir='log/default',\n",
    "                 input_size=224,\n",
    "                 n_sample=20,\n",
    "                 param_bits=8,\n",
    "                 bn_bits=32,\n",
    "                 fwd_bits=8,\n",
    "                 overflow_rate=0.0,\n",
    "                 lr=0.1):\n",
    "        self.type = type\n",
    "        self.quant_method = quant_method\n",
    "        self.batch_size = batch_size\n",
    "        self.gpu = gpu\n",
    "        self.ngpu = ngpu\n",
    "        self.seed = seed\n",
    "        self.model_root = model_root\n",
    "        self.data_root = data_root\n",
    "        self.logdir = logdir\n",
    "        self.input_size = input_size\n",
    "        self.n_sample = n_sample\n",
    "        self.param_bits = param_bits\n",
    "        self.bn_bits = bn_bits\n",
    "        self.fwd_bits = fwd_bits\n",
    "        self.overflow_rate = overflow_rate\n",
    "        self.lr = lr\n",
    "        \n",
    "        self.gpu = misc.auto_select_gpu(utility_bound=0, num_gpu=self.ngpu, selected_gpus=self.gpu)\n",
    "        self.ngpu = len(self.gpu)\n",
    "        misc.ensure_dir(self.logdir)\n",
    "        self.model_root = misc.expand_user(self.model_root)\n",
    "        self.data_root = misc.expand_user(self.data_root)\n",
    "        self.input_size = 299 if 'inception' in self.type else self.input_size\n",
    "        assert self.quant_method in ['linear', 'minmax', 'log', 'tanh']\n",
    "        print(\"=================FLAGS==================\")\n",
    "        for k, v in self.__dict__.items():\n",
    "            print('{}: {}'.format(k, v))\n",
    "        print(\"========================================\")"
   ]
  },
  {
   "cell_type": "code",
   "execution_count": 3,
   "id": "0cc44c44",
   "metadata": {},
   "outputs": [
    {
     "data": {
      "text/plain": [
       "True"
      ]
     },
     "execution_count": 3,
     "metadata": {},
     "output_type": "execute_result"
    }
   ],
   "source": [
    "torch.cuda.is_available()"
   ]
  },
  {
   "cell_type": "code",
   "execution_count": 4,
   "id": "ce780ef4",
   "metadata": {},
   "outputs": [],
   "source": [
    "# Get SGD optimizer\n",
    "def get_optimizer(network, args):\n",
    "    optimizer = torch.optim.SGD(network.parameters(),\n",
    "                                lr=args.lr)    \n",
    "\n",
    "    scheduler = None\n",
    "    return optimizer, scheduler"
   ]
  },
  {
   "cell_type": "code",
   "execution_count": 5,
   "id": "93362a1a",
   "metadata": {},
   "outputs": [],
   "source": [
    "# Class to compute loss and get logs\n",
    "class Loss_Calculator(object):\n",
    "    def __init__(self):\n",
    "        self.criterion = torch.nn.CrossEntropyLoss()        \n",
    "        self.loss_seq = []\n",
    "    \n",
    "    def calc_loss(self, output, target):\n",
    "        loss = self.criterion(output, target)        \n",
    "        self.loss_seq.append(loss.item())\n",
    "        return loss\n",
    "\n",
    "    def get_loss_log(self, length=100):\n",
    "        # get recent average loss values\n",
    "        if len(self.loss_seq) < length:\n",
    "            length = len(self.loss_seq)\n",
    "        return sum(self.loss_seq[-length:])/length\n",
    "\n",
    "# Class to compute average of metrics\n",
    "class AverageMeter(object):    \n",
    "    def __init__(self):\n",
    "        self.reset()\n",
    "\n",
    "    def reset(self):\n",
    "        self.avg = 0\n",
    "        self.sum = 0\n",
    "        self.count = 0\n",
    "\n",
    "    def update(self, val, n=1):\n",
    "        self.sum += val * n\n",
    "        self.count += n\n",
    "        self.avg = self.sum / self.count\n"
   ]
  },
  {
   "cell_type": "code",
   "execution_count": 6,
   "id": "d0917617",
   "metadata": {},
   "outputs": [],
   "source": [
    "# Transform and augment dataset\n",
    "def get_transformer(data_set, imsize=None, cropsize=None, crop_padding=None, hflip=None):\n",
    "    transformers = [] \n",
    "    if imsize:\n",
    "        transformers.append(transforms.Resize(imsize))\n",
    "    if cropsize:\n",
    "        ## https://github.com/kuangliu/pytorch-cifar\n",
    "        transformers.append(transforms.RandomCrop(cropsize, padding=crop_padding))\n",
    "    if hflip:\n",
    "        transformers.append(transforms.RandomHorizontalFlip(hflip))\n",
    "\n",
    "    transformers.append(transforms.ToTensor())\n",
    "#     transformers.append(get_normalizer(data_set))\n",
    "    \n",
    "    return transforms.Compose(transformers)\n",
    "\n",
    "# Normalize dataset\n",
    "def get_normalizer(data_set, inverse=False):\n",
    "    if data_set == 'CIFAR10':\n",
    "        MEAN = (0.4914, 0.4822, 0.4465)\n",
    "        STD = (0.2023, 0.1994, 0.2010)\n",
    "\n",
    "    elif data_set == 'CIFAR100':\n",
    "        MEAN = (0.5071, 0.4867, 0.4408)\n",
    "        STD = (0.2675, 0.2565, 0.2761)\n",
    "\n",
    "    else:\n",
    "        raise RuntimeError(\"Not expected data flag !!!\")\n",
    "\n",
    "    if inverse:\n",
    "        MEAN = [-mean/std for mean, std in zip(MEAN, STD)]\n",
    "        STD = [1/std for std in STD]\n",
    "\n",
    "    return transforms.Normalize(MEAN, STD)"
   ]
  },
  {
   "cell_type": "code",
   "execution_count": 7,
   "id": "95a398fa",
   "metadata": {},
   "outputs": [],
   "source": [
    "# Download dataset\n",
    "def get_data_set(args, train_flag=True):\n",
    "    if train_flag:\n",
    "        data_set = torchvision.datasets.__dict__['CIFAR10'](root=args.data_root, train=True, \n",
    "#                                        transform=get_transformer('CIFAR10', None, 32, 4, 0.5), \n",
    "                                                            transform=get_transformer('CIFAR10', None, None, None, None), \n",
    "                                                            download=True)   \n",
    "    return data_set"
   ]
  },
  {
   "cell_type": "code",
   "execution_count": 8,
   "id": "cbc1486b",
   "metadata": {},
   "outputs": [
    {
     "data": {
      "text/plain": [
       "True"
      ]
     },
     "execution_count": 8,
     "metadata": {},
     "output_type": "execute_result"
    }
   ],
   "source": [
    "torch.cuda.is_available()"
   ]
  },
  {
   "cell_type": "code",
   "execution_count": 9,
   "id": "acf53868",
   "metadata": {},
   "outputs": [],
   "source": [
    "# Train model based on defined args parameter\n",
    "def train_network(args, network, train_ds, val_ds):\n",
    "    optimizer, scheduler = get_optimizer(network, args)\n",
    "    loss_calculator = Loss_Calculator()\n",
    "#     data_set = get_data_set(args, train_flag=True)\n",
    "    device = torch.device(\"cuda\" if args.ngpu >= 0 else \"cpu\")\n",
    "\n",
    "    if os.path.exists(\"check_point.pth\"):\n",
    "        print('Loading checkpointed model')\n",
    "        network.load_state_dict(torch.load(\"check_point.pth\"))\n",
    "    else:\n",
    "        print('No checkpointed model, training from scratch')\n",
    "        for epoch in range(1, 25):\n",
    "    #         data_loader = torch.utils.data.DataLoader(data_set, batch_size=args.batch_size, shuffle=True)\n",
    "            train_step(network, train_ds, val_ds, loss_calculator, optimizer, device, epoch)\n",
    "\n",
    "            if scheduler is not None:\n",
    "                scheduler.step()\n",
    "\n",
    "            torch.save(network.state_dict(), \"check_point.pth\")\n",
    "        \n",
    "    return network"
   ]
  },
  {
   "cell_type": "code",
   "execution_count": 10,
   "id": "4ba8be86",
   "metadata": {},
   "outputs": [],
   "source": [
    "# Individual train step to do forward and backward pass\n",
    "def train_step(network, data_loader, test_loader, loss_calculator, optimizer, device, epoch, print_freq=100):\n",
    "    network.train()\n",
    "    network.to(device)\n",
    "    # set benchmark flag to faster runtime\n",
    "    torch.backends.cudnn.benchmark = True\n",
    "        \n",
    "    data_time = AverageMeter()\n",
    "    loss_time = AverageMeter()    \n",
    "    forward_time = AverageMeter()\n",
    "    backward_time = AverageMeter()\n",
    "    \n",
    "    top1 = AverageMeter()\n",
    "    top5 = AverageMeter()\n",
    "    \n",
    "    tic = time.time()\n",
    "    for iteration, (inputs, targets) in enumerate(data_loader):\n",
    "        data_time.update(time.time() - tic)\n",
    "        \n",
    "        inputs, targets = inputs.to(device), targets.to(device)\n",
    "        \n",
    "        tic = time.time()\n",
    "        outputs = network(inputs)\n",
    "        forward_time.update(time.time() - tic)\n",
    "        \n",
    "        tic = time.time()\n",
    "        loss = loss_calculator.calc_loss(outputs, targets)\n",
    "        loss_time.update(time.time() - tic)\n",
    "        \n",
    "        tic = time.time()\n",
    "        optimizer.zero_grad()\n",
    "        loss.backward()\n",
    "        optimizer.step()\n",
    "        backward_time.update(time.time() - tic)\n",
    "        tic = time.time()\n",
    "      \n",
    "    acc1, acc5 = misc.eval_model(network, test_loader, ngpu=args.ngpu)\n",
    "    logs_ = 'Epoch [%d], '%epoch\n",
    "    logs_ += 'Data(s): %2.3f, Loss(s): %2.3f, '%(data_time.avg, loss_time.avg)\n",
    "    #             logs_ += 'Forward(s): %2.3f, Backward(s): %2.3f, '%(forward_time.avg, backward_time.avg)\n",
    "    logs_ += 'Top1: %2.4f, Top5: %2.4f, '%(acc1, acc5)\n",
    "    logs_ += 'Loss: %2.3f'%loss_calculator.get_loss_log()\n",
    "    print(logs_)  \n",
    "    return None"
   ]
  },
  {
   "cell_type": "code",
   "execution_count": 11,
   "id": "dcf91687",
   "metadata": {},
   "outputs": [],
   "source": [
    "# Method to compute accuracy\n",
    "def acc(model, test_loader):\n",
    "    correct = 0\n",
    "    total = 0\n",
    "    device = torch.device(\"cuda\" if torch.cuda.is_available() else \"cpu\")\n",
    "    model.to(device)\n",
    "    model.eval()\n",
    "    with torch.no_grad():\n",
    "        for i, (img, target) in enumerate(test_loader):\n",
    "            img = img.to(device)\n",
    "            out = model(img)\n",
    "            pred = out.max(1)[1].detach().cpu().numpy()\n",
    "            target = target.cpu().numpy()\n",
    "            correct += (pred==target).sum()\n",
    "            total += len(target)\n",
    "            \n",
    "    return correct / total"
   ]
  },
  {
   "cell_type": "code",
   "execution_count": 12,
   "id": "6a3a14a1",
   "metadata": {},
   "outputs": [],
   "source": [
    "# Method to compute top-K accuracy\n",
    "def accuracy(output, target, topk=(1,)):\n",
    "    \"\"\"\n",
    "        Computes the precision@k for the specified values of k\n",
    "        ref: https://github.com/chengyangfu/pytorch-vgg-cifar10\n",
    "    \"\"\"\n",
    "    maxk = max(topk)\n",
    "    batch_size = target.size(0)\n",
    "\n",
    "    _, pred = output.topk(maxk, 1, True, True)\n",
    "    pred = pred.t()\n",
    "    correct = pred.eq(target.view(1, -1).expand_as(pred))\n",
    "\n",
    "    res = []\n",
    "    for k in topk:\n",
    "        correct_k = correct[:k].contiguous().view(-1).float().sum(0)\n",
    "        res.append(correct_k.mul_(100.0 / batch_size))\n",
    "    return res"
   ]
  },
  {
   "cell_type": "code",
   "execution_count": null,
   "id": "0842c06a",
   "metadata": {},
   "outputs": [],
   "source": []
  },
  {
   "cell_type": "code",
   "execution_count": 13,
   "id": "e9d008de",
   "metadata": {},
   "outputs": [],
   "source": [
    "# Method to perform fixed point quantization based on desired number of bits \n",
    "def run(args):\n",
    "    assert torch.cuda.is_available(), 'no cuda'\n",
    "    torch.manual_seed(args.seed)\n",
    "    torch.cuda.manual_seed(args.seed)\n",
    "\n",
    "    # load model and dataset fetcher\n",
    "    model_raw, ds_fetcher, is_imagenet = selector.select(args.type, model_root=args.model_root)\n",
    "    args.ngpu = args.ngpu if is_imagenet else 1\n",
    "    \n",
    "    val_ds = ds_fetcher(args.batch_size, data_root=args.data_root, train=False, input_size=args.input_size)\n",
    "    train_ds = ds_fetcher(args.batch_size, data_root=args.data_root, train=True, val=False, input_size=args.input_size)\n",
    "    model_raw = train_network(args, model_raw, train_ds, val_ds)\n",
    "    \n",
    "    # quantize parameters\n",
    "    if args.param_bits < 32:\n",
    "        state_dict = model_raw.state_dict()\n",
    "        state_dict_quant = OrderedDict()\n",
    "        sf_dict = OrderedDict()\n",
    "        for k, v in state_dict.items():\n",
    "            if 'running' in k:\n",
    "                if args.bn_bits >=32:\n",
    "                    print(\"Ignoring {}\".format(k))\n",
    "                    state_dict_quant[k] = v\n",
    "                    continue\n",
    "                else:\n",
    "                    bits = args.bn_bits\n",
    "            else:\n",
    "                bits = args.param_bits\n",
    "\n",
    "            if args.quant_method == 'linear':\n",
    "                sf = bits - 1. - quant.compute_integral_part(v, overflow_rate=args.overflow_rate)\n",
    "                v_quant  = quant.linear_quantize(v, sf, bits=bits)\n",
    "            elif args.quant_method == 'log':\n",
    "                v_quant = quant.log_minmax_quantize(v, bits=bits)\n",
    "            elif args.quant_method == 'minmax':\n",
    "                v_quant = quant.min_max_quantize(v, bits=bits)\n",
    "            else:\n",
    "                v_quant = quant.tanh_quantize(v, bits=bits)\n",
    "            state_dict_quant[k] = v_quant\n",
    "            print(k, bits)\n",
    "        model_raw.load_state_dict(state_dict_quant)\n",
    "\n",
    "    # quantize forward activation\n",
    "    if args.fwd_bits < 32:\n",
    "        model_raw = quant.duplicate_model_with_quant(model_raw, bits=args.fwd_bits, overflow_rate=args.overflow_rate,\n",
    "                                                     counter=args.n_sample, type=args.quant_method)\n",
    "        print(model_raw)\n",
    "        val_ds_tmp = ds_fetcher(10, data_root=args.data_root, train=False, input_size=args.input_size)\n",
    "        misc.eval_model(model_raw, val_ds_tmp, ngpu=1, n_sample=args.n_sample, is_imagenet=is_imagenet)\n",
    "\n",
    "    # eval model\n",
    "    val_ds = ds_fetcher(args.batch_size, data_root=args.data_root, train=False, input_size=args.input_size)\n",
    "    acc1, acc5 = misc.eval_model(model_raw, val_ds, ngpu=args.ngpu, is_imagenet=is_imagenet)\n",
    "\n",
    "    # print sf\n",
    "    print(model_raw)\n",
    "    res_str = \"type={}, quant_method={}, param_bits={}, bn_bits={}, fwd_bits={}, overflow_rate={}, acc1={:.4f}, acc5={:.4f}\".format(\n",
    "        args.type, args.quant_method, args.param_bits, args.bn_bits, args.fwd_bits, args.overflow_rate, acc1, acc5)\n",
    "    print(res_str)\n",
    "    with open('acc1_acc5.txt', 'a') as f:\n",
    "        f.write(res_str + '\\n')\n",
    "    return model_raw"
   ]
  },
  {
   "cell_type": "code",
   "execution_count": null,
   "id": "fbff3401",
   "metadata": {},
   "outputs": [],
   "source": []
  },
  {
   "cell_type": "code",
   "execution_count": 14,
   "id": "e625e26b",
   "metadata": {
    "scrolled": false
   },
   "outputs": [
    {
     "name": "stderr",
     "output_type": "stream",
     "text": [
      "Setting GPU: ['0']\n",
      "Building and initializing vgg16 parameters\n"
     ]
    },
    {
     "name": "stdout",
     "output_type": "stream",
     "text": [
      "=================FLAGS==================\n",
      "type: vgg16\n",
      "quant_method: linear\n",
      "batch_size: 100\n",
      "gpu: ['0']\n",
      "ngpu: 1\n",
      "seed: 117\n",
      "model_root: /home/rg3387/.torch/models\n",
      "data_root: /tmp/public_dataset/pytorch\n",
      "logdir: log/default\n",
      "input_size: 224\n",
      "n_sample: 20\n",
      "param_bits: 32\n",
      "bn_bits: 32\n",
      "fwd_bits: 32\n",
      "overflow_rate: 0.0\n",
      "lr: 0.1\n",
      "========================================\n"
     ]
    },
    {
     "name": "stderr",
     "output_type": "stream",
     "text": [
      "---------------\n",
      "{'model_root': '/home/rg3387/.torch/models'}\n",
      "---------------\n"
     ]
    },
    {
     "name": "stdout",
     "output_type": "stream",
     "text": [
      "Building CIFAR-10 data loader with 1 workers\n",
      "Files already downloaded and verified\n",
      "Building CIFAR-10 data loader with 1 workers\n",
      "Files already downloaded and verified\n",
      "Loading checkpointed model\n",
      "Building CIFAR-10 data loader with 1 workers\n",
      "Files already downloaded and verified\n"
     ]
    },
    {
     "name": "stderr",
     "output_type": "stream",
     "text": [
      " 99%|█████████████████████████████████████████████████████████████████████████████████████████████████████████████████████████████████████████████████████▍ | 99/100 [00:02<00:00, 47.22it/s]"
     ]
    },
    {
     "name": "stdout",
     "output_type": "stream",
     "text": [
      "VGG(\n",
      "  (features): Sequential(\n",
      "    (0): Conv2d(3, 64, kernel_size=(3, 3), stride=(1, 1), padding=(1, 1))\n",
      "    (1): ReLU(inplace=True)\n",
      "    (2): Conv2d(64, 64, kernel_size=(3, 3), stride=(1, 1), padding=(1, 1))\n",
      "    (3): ReLU(inplace=True)\n",
      "    (4): MaxPool2d(kernel_size=2, stride=2, padding=0, dilation=1, ceil_mode=False)\n",
      "    (5): Conv2d(64, 128, kernel_size=(3, 3), stride=(1, 1), padding=(1, 1))\n",
      "    (6): ReLU(inplace=True)\n",
      "    (7): Conv2d(128, 128, kernel_size=(3, 3), stride=(1, 1), padding=(1, 1))\n",
      "    (8): ReLU(inplace=True)\n",
      "    (9): MaxPool2d(kernel_size=2, stride=2, padding=0, dilation=1, ceil_mode=False)\n",
      "    (10): Conv2d(128, 256, kernel_size=(3, 3), stride=(1, 1), padding=(1, 1))\n",
      "    (11): ReLU(inplace=True)\n",
      "    (12): Conv2d(256, 256, kernel_size=(3, 3), stride=(1, 1), padding=(1, 1))\n",
      "    (13): ReLU(inplace=True)\n",
      "    (14): Conv2d(256, 256, kernel_size=(3, 3), stride=(1, 1), padding=(1, 1))\n",
      "    (15): ReLU(inplace=True)\n",
      "    (16): MaxPool2d(kernel_size=2, stride=2, padding=0, dilation=1, ceil_mode=False)\n",
      "    (17): Conv2d(256, 512, kernel_size=(3, 3), stride=(1, 1), padding=(1, 1))\n",
      "    (18): ReLU(inplace=True)\n",
      "    (19): Conv2d(512, 512, kernel_size=(3, 3), stride=(1, 1), padding=(1, 1))\n",
      "    (20): ReLU(inplace=True)\n",
      "    (21): Conv2d(512, 512, kernel_size=(3, 3), stride=(1, 1), padding=(1, 1))\n",
      "    (22): ReLU(inplace=True)\n",
      "    (23): MaxPool2d(kernel_size=2, stride=2, padding=0, dilation=1, ceil_mode=False)\n",
      "    (24): Conv2d(512, 512, kernel_size=(3, 3), stride=(1, 1), padding=(1, 1))\n",
      "    (25): ReLU(inplace=True)\n",
      "    (26): Conv2d(512, 512, kernel_size=(3, 3), stride=(1, 1), padding=(1, 1))\n",
      "    (27): ReLU(inplace=True)\n",
      "    (28): Conv2d(512, 512, kernel_size=(3, 3), stride=(1, 1), padding=(1, 1))\n",
      "    (29): ReLU(inplace=True)\n",
      "    (30): MaxPool2d(kernel_size=2, stride=2, padding=0, dilation=1, ceil_mode=False)\n",
      "  )\n",
      "  (classifier): Sequential(\n",
      "    (0): Linear(in_features=512, out_features=4096, bias=True)\n",
      "    (1): Linear(in_features=4096, out_features=4096, bias=True)\n",
      "    (2): Linear(in_features=4096, out_features=10, bias=True)\n",
      "  )\n",
      ")\n",
      "type=vgg16, quant_method=linear, param_bits=32, bn_bits=32, fwd_bits=32, overflow_rate=0.0, acc1=0.8584, acc5=0.9920\n"
     ]
    },
    {
     "name": "stderr",
     "output_type": "stream",
     "text": [
      "\n"
     ]
    },
    {
     "data": {
      "text/plain": [
       "VGG(\n",
       "  (features): Sequential(\n",
       "    (0): Conv2d(3, 64, kernel_size=(3, 3), stride=(1, 1), padding=(1, 1))\n",
       "    (1): ReLU(inplace=True)\n",
       "    (2): Conv2d(64, 64, kernel_size=(3, 3), stride=(1, 1), padding=(1, 1))\n",
       "    (3): ReLU(inplace=True)\n",
       "    (4): MaxPool2d(kernel_size=2, stride=2, padding=0, dilation=1, ceil_mode=False)\n",
       "    (5): Conv2d(64, 128, kernel_size=(3, 3), stride=(1, 1), padding=(1, 1))\n",
       "    (6): ReLU(inplace=True)\n",
       "    (7): Conv2d(128, 128, kernel_size=(3, 3), stride=(1, 1), padding=(1, 1))\n",
       "    (8): ReLU(inplace=True)\n",
       "    (9): MaxPool2d(kernel_size=2, stride=2, padding=0, dilation=1, ceil_mode=False)\n",
       "    (10): Conv2d(128, 256, kernel_size=(3, 3), stride=(1, 1), padding=(1, 1))\n",
       "    (11): ReLU(inplace=True)\n",
       "    (12): Conv2d(256, 256, kernel_size=(3, 3), stride=(1, 1), padding=(1, 1))\n",
       "    (13): ReLU(inplace=True)\n",
       "    (14): Conv2d(256, 256, kernel_size=(3, 3), stride=(1, 1), padding=(1, 1))\n",
       "    (15): ReLU(inplace=True)\n",
       "    (16): MaxPool2d(kernel_size=2, stride=2, padding=0, dilation=1, ceil_mode=False)\n",
       "    (17): Conv2d(256, 512, kernel_size=(3, 3), stride=(1, 1), padding=(1, 1))\n",
       "    (18): ReLU(inplace=True)\n",
       "    (19): Conv2d(512, 512, kernel_size=(3, 3), stride=(1, 1), padding=(1, 1))\n",
       "    (20): ReLU(inplace=True)\n",
       "    (21): Conv2d(512, 512, kernel_size=(3, 3), stride=(1, 1), padding=(1, 1))\n",
       "    (22): ReLU(inplace=True)\n",
       "    (23): MaxPool2d(kernel_size=2, stride=2, padding=0, dilation=1, ceil_mode=False)\n",
       "    (24): Conv2d(512, 512, kernel_size=(3, 3), stride=(1, 1), padding=(1, 1))\n",
       "    (25): ReLU(inplace=True)\n",
       "    (26): Conv2d(512, 512, kernel_size=(3, 3), stride=(1, 1), padding=(1, 1))\n",
       "    (27): ReLU(inplace=True)\n",
       "    (28): Conv2d(512, 512, kernel_size=(3, 3), stride=(1, 1), padding=(1, 1))\n",
       "    (29): ReLU(inplace=True)\n",
       "    (30): MaxPool2d(kernel_size=2, stride=2, padding=0, dilation=1, ceil_mode=False)\n",
       "  )\n",
       "  (classifier): Sequential(\n",
       "    (0): Linear(in_features=512, out_features=4096, bias=True)\n",
       "    (1): Linear(in_features=4096, out_features=4096, bias=True)\n",
       "    (2): Linear(in_features=4096, out_features=10, bias=True)\n",
       "  )\n",
       ")"
      ]
     },
     "execution_count": 14,
     "metadata": {},
     "output_type": "execute_result"
    }
   ],
   "source": [
    "# Train and evaluate baseline model (32 bits for weights and activations)\n",
    "args = Args(type='vgg16', param_bits=32, fwd_bits=32, bn_bits=32, data_root='/tmp/public_dataset/pytorch', ngpu=1)\n",
    "run(args)"
   ]
  },
  {
   "cell_type": "code",
   "execution_count": 15,
   "id": "9cdbbb0e",
   "metadata": {},
   "outputs": [
    {
     "name": "stdout",
     "output_type": "stream",
     "text": [
      "Original Model Size = 134.6 MB\n"
     ]
    }
   ],
   "source": [
    "print(f\"Original Model Size = {os.path.getsize('check_point.pth') / (1e6) :.1f} MB\")"
   ]
  },
  {
   "cell_type": "code",
   "execution_count": 17,
   "id": "0522f82a",
   "metadata": {
    "scrolled": false
   },
   "outputs": [
    {
     "name": "stderr",
     "output_type": "stream",
     "text": [
      "Setting GPU: ['0']\n",
      "Building and initializing vgg16 parameters\n"
     ]
    },
    {
     "name": "stdout",
     "output_type": "stream",
     "text": [
      "=================FLAGS==================\n",
      "type: vgg16\n",
      "quant_method: linear\n",
      "batch_size: 100\n",
      "gpu: ['0']\n",
      "ngpu: 1\n",
      "seed: 117\n",
      "model_root: /home/rg3387/.torch/models\n",
      "data_root: /tmp/public_dataset/pytorch\n",
      "logdir: log/default\n",
      "input_size: 224\n",
      "n_sample: 20\n",
      "param_bits: 16\n",
      "bn_bits: 16\n",
      "fwd_bits: 16\n",
      "overflow_rate: 0.0\n",
      "lr: 0.1\n",
      "========================================\n"
     ]
    },
    {
     "name": "stderr",
     "output_type": "stream",
     "text": [
      "---------------\n",
      "{'model_root': '/home/rg3387/.torch/models'}\n",
      "---------------\n"
     ]
    },
    {
     "name": "stdout",
     "output_type": "stream",
     "text": [
      "Building CIFAR-10 data loader with 1 workers\n",
      "Files already downloaded and verified\n",
      "Building CIFAR-10 data loader with 1 workers\n",
      "Files already downloaded and verified\n",
      "Loading checkpointed model\n",
      "features.0.weight 16\n",
      "features.0.bias 16\n",
      "features.2.weight 16\n",
      "features.2.bias 16\n",
      "features.5.weight 16\n",
      "features.5.bias 16\n",
      "features.7.weight 16\n",
      "features.7.bias 16\n",
      "features.10.weight 16\n",
      "features.10.bias 16\n",
      "features.12.weight 16\n",
      "features.12.bias 16\n",
      "features.14.weight 16\n",
      "features.14.bias 16\n",
      "features.17.weight 16\n",
      "features.17.bias 16\n",
      "features.19.weight 16\n",
      "features.19.bias 16\n",
      "features.21.weight 16\n",
      "features.21.bias 16\n",
      "features.24.weight 16\n",
      "features.24.bias 16\n",
      "features.26.weight 16\n",
      "features.26.bias 16\n",
      "features.28.weight 16\n",
      "features.28.bias 16\n",
      "classifier.0.weight 16\n",
      "classifier.0.bias 16\n",
      "classifier.1.weight 16\n",
      "classifier.1.bias 16\n",
      "classifier.2.weight 16\n",
      "classifier.2.bias 16\n",
      "VGG(\n",
      "  (features): Sequential(\n",
      "    (0): Conv2d(3, 64, kernel_size=(3, 3), stride=(1, 1), padding=(1, 1))\n",
      "    (0_linear_quant): LinearQuant(sf=None, bits=16, overflow_rate=0.000, counter=20)\n",
      "    (1): ReLU(inplace=True)\n",
      "    (2): Conv2d(64, 64, kernel_size=(3, 3), stride=(1, 1), padding=(1, 1))\n",
      "    (2_linear_quant): LinearQuant(sf=None, bits=16, overflow_rate=0.000, counter=20)\n",
      "    (3): ReLU(inplace=True)\n",
      "    (4): MaxPool2d(kernel_size=2, stride=2, padding=0, dilation=1, ceil_mode=False)\n",
      "    (5): Conv2d(64, 128, kernel_size=(3, 3), stride=(1, 1), padding=(1, 1))\n",
      "    (5_linear_quant): LinearQuant(sf=None, bits=16, overflow_rate=0.000, counter=20)\n",
      "    (6): ReLU(inplace=True)\n",
      "    (7): Conv2d(128, 128, kernel_size=(3, 3), stride=(1, 1), padding=(1, 1))\n",
      "    (7_linear_quant): LinearQuant(sf=None, bits=16, overflow_rate=0.000, counter=20)\n",
      "    (8): ReLU(inplace=True)\n",
      "    (9): MaxPool2d(kernel_size=2, stride=2, padding=0, dilation=1, ceil_mode=False)\n",
      "    (10): Conv2d(128, 256, kernel_size=(3, 3), stride=(1, 1), padding=(1, 1))\n",
      "    (10_linear_quant): LinearQuant(sf=None, bits=16, overflow_rate=0.000, counter=20)\n",
      "    (11): ReLU(inplace=True)\n",
      "    (12): Conv2d(256, 256, kernel_size=(3, 3), stride=(1, 1), padding=(1, 1))\n",
      "    (12_linear_quant): LinearQuant(sf=None, bits=16, overflow_rate=0.000, counter=20)\n",
      "    (13): ReLU(inplace=True)\n",
      "    (14): Conv2d(256, 256, kernel_size=(3, 3), stride=(1, 1), padding=(1, 1))\n",
      "    (14_linear_quant): LinearQuant(sf=None, bits=16, overflow_rate=0.000, counter=20)\n",
      "    (15): ReLU(inplace=True)\n",
      "    (16): MaxPool2d(kernel_size=2, stride=2, padding=0, dilation=1, ceil_mode=False)\n",
      "    (17): Conv2d(256, 512, kernel_size=(3, 3), stride=(1, 1), padding=(1, 1))\n",
      "    (17_linear_quant): LinearQuant(sf=None, bits=16, overflow_rate=0.000, counter=20)\n",
      "    (18): ReLU(inplace=True)\n",
      "    (19): Conv2d(512, 512, kernel_size=(3, 3), stride=(1, 1), padding=(1, 1))\n",
      "    (19_linear_quant): LinearQuant(sf=None, bits=16, overflow_rate=0.000, counter=20)\n",
      "    (20): ReLU(inplace=True)\n",
      "    (21): Conv2d(512, 512, kernel_size=(3, 3), stride=(1, 1), padding=(1, 1))\n",
      "    (21_linear_quant): LinearQuant(sf=None, bits=16, overflow_rate=0.000, counter=20)\n",
      "    (22): ReLU(inplace=True)\n",
      "    (23): MaxPool2d(kernel_size=2, stride=2, padding=0, dilation=1, ceil_mode=False)\n",
      "    (24): Conv2d(512, 512, kernel_size=(3, 3), stride=(1, 1), padding=(1, 1))\n",
      "    (24_linear_quant): LinearQuant(sf=None, bits=16, overflow_rate=0.000, counter=20)\n",
      "    (25): ReLU(inplace=True)\n",
      "    (26): Conv2d(512, 512, kernel_size=(3, 3), stride=(1, 1), padding=(1, 1))\n",
      "    (26_linear_quant): LinearQuant(sf=None, bits=16, overflow_rate=0.000, counter=20)\n",
      "    (27): ReLU(inplace=True)\n",
      "    (28): Conv2d(512, 512, kernel_size=(3, 3), stride=(1, 1), padding=(1, 1))\n",
      "    (28_linear_quant): LinearQuant(sf=None, bits=16, overflow_rate=0.000, counter=20)\n",
      "    (29): ReLU(inplace=True)\n",
      "    (30): MaxPool2d(kernel_size=2, stride=2, padding=0, dilation=1, ceil_mode=False)\n",
      "  )\n",
      "  (classifier): Sequential(\n",
      "    (0): Linear(in_features=512, out_features=4096, bias=True)\n",
      "    (0_linear_quant): LinearQuant(sf=None, bits=16, overflow_rate=0.000, counter=20)\n",
      "    (1): Linear(in_features=4096, out_features=4096, bias=True)\n",
      "    (1_linear_quant): LinearQuant(sf=None, bits=16, overflow_rate=0.000, counter=20)\n",
      "    (2): Linear(in_features=4096, out_features=10, bias=True)\n",
      "    (2_linear_quant): LinearQuant(sf=None, bits=16, overflow_rate=0.000, counter=20)\n",
      "  )\n",
      ")\n",
      "Building CIFAR-10 data loader with 1 workers\n",
      "Files already downloaded and verified\n"
     ]
    },
    {
     "name": "stderr",
     "output_type": "stream",
     "text": [
      " 95%|████████████████████████████████████████████████████████████████████████████████████████████████████████████████████████████████████████████████▍       | 19/20 [00:00<00:00, 58.71it/s]\n"
     ]
    },
    {
     "name": "stdout",
     "output_type": "stream",
     "text": [
      "Building CIFAR-10 data loader with 1 workers\n",
      "Files already downloaded and verified\n"
     ]
    },
    {
     "name": "stderr",
     "output_type": "stream",
     "text": [
      " 99%|█████████████████████████████████████████████████████████████████████████████████████████████████████████████████████████████████████████████████████▍ | 99/100 [00:01<00:00, 49.81it/s]"
     ]
    },
    {
     "name": "stdout",
     "output_type": "stream",
     "text": [
      "VGG(\n",
      "  (features): Sequential(\n",
      "    (0): Conv2d(3, 64, kernel_size=(3, 3), stride=(1, 1), padding=(1, 1))\n",
      "    (0_linear_quant): LinearQuant(sf=12, bits=16, overflow_rate=0.000, counter=0)\n",
      "    (1): ReLU(inplace=True)\n",
      "    (2): Conv2d(64, 64, kernel_size=(3, 3), stride=(1, 1), padding=(1, 1))\n",
      "    (2_linear_quant): LinearQuant(sf=10, bits=16, overflow_rate=0.000, counter=0)\n",
      "    (3): ReLU(inplace=True)\n",
      "    (4): MaxPool2d(kernel_size=2, stride=2, padding=0, dilation=1, ceil_mode=False)\n",
      "    (5): Conv2d(64, 128, kernel_size=(3, 3), stride=(1, 1), padding=(1, 1))\n",
      "    (5_linear_quant): LinearQuant(sf=10, bits=16, overflow_rate=0.000, counter=0)\n",
      "    (6): ReLU(inplace=True)\n",
      "    (7): Conv2d(128, 128, kernel_size=(3, 3), stride=(1, 1), padding=(1, 1))\n",
      "    (7_linear_quant): LinearQuant(sf=10, bits=16, overflow_rate=0.000, counter=0)\n",
      "    (8): ReLU(inplace=True)\n",
      "    (9): MaxPool2d(kernel_size=2, stride=2, padding=0, dilation=1, ceil_mode=False)\n",
      "    (10): Conv2d(128, 256, kernel_size=(3, 3), stride=(1, 1), padding=(1, 1))\n",
      "    (10_linear_quant): LinearQuant(sf=10, bits=16, overflow_rate=0.000, counter=0)\n",
      "    (11): ReLU(inplace=True)\n",
      "    (12): Conv2d(256, 256, kernel_size=(3, 3), stride=(1, 1), padding=(1, 1))\n",
      "    (12_linear_quant): LinearQuant(sf=11, bits=16, overflow_rate=0.000, counter=0)\n",
      "    (13): ReLU(inplace=True)\n",
      "    (14): Conv2d(256, 256, kernel_size=(3, 3), stride=(1, 1), padding=(1, 1))\n",
      "    (14_linear_quant): LinearQuant(sf=11, bits=16, overflow_rate=0.000, counter=0)\n",
      "    (15): ReLU(inplace=True)\n",
      "    (16): MaxPool2d(kernel_size=2, stride=2, padding=0, dilation=1, ceil_mode=False)\n",
      "    (17): Conv2d(256, 512, kernel_size=(3, 3), stride=(1, 1), padding=(1, 1))\n",
      "    (17_linear_quant): LinearQuant(sf=12, bits=16, overflow_rate=0.000, counter=0)\n",
      "    (18): ReLU(inplace=True)\n",
      "    (19): Conv2d(512, 512, kernel_size=(3, 3), stride=(1, 1), padding=(1, 1))\n",
      "    (19_linear_quant): LinearQuant(sf=12, bits=16, overflow_rate=0.000, counter=0)\n",
      "    (20): ReLU(inplace=True)\n",
      "    (21): Conv2d(512, 512, kernel_size=(3, 3), stride=(1, 1), padding=(1, 1))\n",
      "    (21_linear_quant): LinearQuant(sf=12, bits=16, overflow_rate=0.000, counter=0)\n",
      "    (22): ReLU(inplace=True)\n",
      "    (23): MaxPool2d(kernel_size=2, stride=2, padding=0, dilation=1, ceil_mode=False)\n",
      "    (24): Conv2d(512, 512, kernel_size=(3, 3), stride=(1, 1), padding=(1, 1))\n",
      "    (24_linear_quant): LinearQuant(sf=13, bits=16, overflow_rate=0.000, counter=0)\n",
      "    (25): ReLU(inplace=True)\n",
      "    (26): Conv2d(512, 512, kernel_size=(3, 3), stride=(1, 1), padding=(1, 1))\n",
      "    (26_linear_quant): LinearQuant(sf=13, bits=16, overflow_rate=0.000, counter=0)\n",
      "    (27): ReLU(inplace=True)\n",
      "    (28): Conv2d(512, 512, kernel_size=(3, 3), stride=(1, 1), padding=(1, 1))\n",
      "    (28_linear_quant): LinearQuant(sf=13, bits=16, overflow_rate=0.000, counter=0)\n",
      "    (29): ReLU(inplace=True)\n",
      "    (30): MaxPool2d(kernel_size=2, stride=2, padding=0, dilation=1, ceil_mode=False)\n",
      "  )\n",
      "  (classifier): Sequential(\n",
      "    (0): Linear(in_features=512, out_features=4096, bias=True)\n",
      "    (0_linear_quant): LinearQuant(sf=14, bits=16, overflow_rate=0.000, counter=0)\n",
      "    (1): Linear(in_features=4096, out_features=4096, bias=True)\n",
      "    (1_linear_quant): LinearQuant(sf=14, bits=16, overflow_rate=0.000, counter=0)\n",
      "    (2): Linear(in_features=4096, out_features=10, bias=True)\n",
      "    (2_linear_quant): LinearQuant(sf=10, bits=16, overflow_rate=0.000, counter=0)\n",
      "  )\n",
      ")\n",
      "type=vgg16, quant_method=linear, param_bits=16, bn_bits=16, fwd_bits=16, overflow_rate=0.0, acc1=0.8583, acc5=0.9920\n"
     ]
    },
    {
     "name": "stderr",
     "output_type": "stream",
     "text": [
      "\n"
     ]
    }
   ],
   "source": [
    "# Train and evaluate model with 16-bit precision for weights and activations\n",
    "args = Args(type='vgg16', param_bits=16, fwd_bits=16, bn_bits=16, data_root='/tmp/public_dataset/pytorch', ngpu=1)\n",
    "quantized_model = run(args)"
   ]
  },
  {
   "cell_type": "code",
   "execution_count": 18,
   "id": "99e864ea",
   "metadata": {},
   "outputs": [],
   "source": [
    "torch.save(quantized_model.state_dict(), \"quantized_check_point.pth\")"
   ]
  },
  {
   "cell_type": "code",
   "execution_count": 19,
   "id": "7ea76209",
   "metadata": {},
   "outputs": [
    {
     "name": "stdout",
     "output_type": "stream",
     "text": [
      "Quantized Model Size = 134.6 MB\n"
     ]
    }
   ],
   "source": [
    "print(f\"Quantized Model Size = {os.path.getsize('quantized_check_point.pth') / (1e6) :.1f} MB\")"
   ]
  },
  {
   "cell_type": "code",
   "execution_count": null,
   "id": "ede872e3",
   "metadata": {},
   "outputs": [],
   "source": []
  },
  {
   "cell_type": "code",
   "execution_count": 20,
   "id": "4ea95ca2",
   "metadata": {
    "scrolled": false
   },
   "outputs": [
    {
     "name": "stderr",
     "output_type": "stream",
     "text": [
      "Setting GPU: ['0']\n",
      "Building and initializing vgg16 parameters\n"
     ]
    },
    {
     "name": "stdout",
     "output_type": "stream",
     "text": [
      "=================FLAGS==================\n",
      "type: vgg16\n",
      "quant_method: linear\n",
      "batch_size: 100\n",
      "gpu: ['0']\n",
      "ngpu: 1\n",
      "seed: 117\n",
      "model_root: /home/rg3387/.torch/models\n",
      "data_root: /tmp/public_dataset/pytorch\n",
      "logdir: log/default\n",
      "input_size: 224\n",
      "n_sample: 20\n",
      "param_bits: 8\n",
      "bn_bits: 8\n",
      "fwd_bits: 8\n",
      "overflow_rate: 0.0\n",
      "lr: 0.1\n",
      "========================================\n"
     ]
    },
    {
     "name": "stderr",
     "output_type": "stream",
     "text": [
      "---------------\n",
      "{'model_root': '/home/rg3387/.torch/models'}\n",
      "---------------\n"
     ]
    },
    {
     "name": "stdout",
     "output_type": "stream",
     "text": [
      "Building CIFAR-10 data loader with 1 workers\n",
      "Files already downloaded and verified\n",
      "Building CIFAR-10 data loader with 1 workers\n",
      "Files already downloaded and verified\n",
      "Loading checkpointed model\n",
      "features.0.weight 8\n",
      "features.0.bias 8\n",
      "features.2.weight 8\n",
      "features.2.bias 8\n",
      "features.5.weight 8\n",
      "features.5.bias 8\n",
      "features.7.weight 8\n",
      "features.7.bias 8\n",
      "features.10.weight 8\n",
      "features.10.bias 8\n",
      "features.12.weight 8\n",
      "features.12.bias 8\n",
      "features.14.weight 8\n",
      "features.14.bias 8\n",
      "features.17.weight 8\n",
      "features.17.bias 8\n",
      "features.19.weight 8\n",
      "features.19.bias 8\n",
      "features.21.weight 8\n",
      "features.21.bias 8\n",
      "features.24.weight 8\n",
      "features.24.bias 8\n",
      "features.26.weight 8\n",
      "features.26.bias 8\n",
      "features.28.weight 8\n",
      "features.28.bias 8\n",
      "classifier.0.weight 8\n",
      "classifier.0.bias 8\n",
      "classifier.1.weight 8\n",
      "classifier.1.bias 8\n",
      "classifier.2.weight 8\n",
      "classifier.2.bias 8\n",
      "VGG(\n",
      "  (features): Sequential(\n",
      "    (0): Conv2d(3, 64, kernel_size=(3, 3), stride=(1, 1), padding=(1, 1))\n",
      "    (0_linear_quant): LinearQuant(sf=None, bits=8, overflow_rate=0.000, counter=20)\n",
      "    (1): ReLU(inplace=True)\n",
      "    (2): Conv2d(64, 64, kernel_size=(3, 3), stride=(1, 1), padding=(1, 1))\n",
      "    (2_linear_quant): LinearQuant(sf=None, bits=8, overflow_rate=0.000, counter=20)\n",
      "    (3): ReLU(inplace=True)\n",
      "    (4): MaxPool2d(kernel_size=2, stride=2, padding=0, dilation=1, ceil_mode=False)\n",
      "    (5): Conv2d(64, 128, kernel_size=(3, 3), stride=(1, 1), padding=(1, 1))\n",
      "    (5_linear_quant): LinearQuant(sf=None, bits=8, overflow_rate=0.000, counter=20)\n",
      "    (6): ReLU(inplace=True)\n",
      "    (7): Conv2d(128, 128, kernel_size=(3, 3), stride=(1, 1), padding=(1, 1))\n",
      "    (7_linear_quant): LinearQuant(sf=None, bits=8, overflow_rate=0.000, counter=20)\n",
      "    (8): ReLU(inplace=True)\n",
      "    (9): MaxPool2d(kernel_size=2, stride=2, padding=0, dilation=1, ceil_mode=False)\n",
      "    (10): Conv2d(128, 256, kernel_size=(3, 3), stride=(1, 1), padding=(1, 1))\n",
      "    (10_linear_quant): LinearQuant(sf=None, bits=8, overflow_rate=0.000, counter=20)\n",
      "    (11): ReLU(inplace=True)\n",
      "    (12): Conv2d(256, 256, kernel_size=(3, 3), stride=(1, 1), padding=(1, 1))\n",
      "    (12_linear_quant): LinearQuant(sf=None, bits=8, overflow_rate=0.000, counter=20)\n",
      "    (13): ReLU(inplace=True)\n",
      "    (14): Conv2d(256, 256, kernel_size=(3, 3), stride=(1, 1), padding=(1, 1))\n",
      "    (14_linear_quant): LinearQuant(sf=None, bits=8, overflow_rate=0.000, counter=20)\n",
      "    (15): ReLU(inplace=True)\n",
      "    (16): MaxPool2d(kernel_size=2, stride=2, padding=0, dilation=1, ceil_mode=False)\n",
      "    (17): Conv2d(256, 512, kernel_size=(3, 3), stride=(1, 1), padding=(1, 1))\n",
      "    (17_linear_quant): LinearQuant(sf=None, bits=8, overflow_rate=0.000, counter=20)\n",
      "    (18): ReLU(inplace=True)\n",
      "    (19): Conv2d(512, 512, kernel_size=(3, 3), stride=(1, 1), padding=(1, 1))\n",
      "    (19_linear_quant): LinearQuant(sf=None, bits=8, overflow_rate=0.000, counter=20)\n",
      "    (20): ReLU(inplace=True)\n",
      "    (21): Conv2d(512, 512, kernel_size=(3, 3), stride=(1, 1), padding=(1, 1))\n",
      "    (21_linear_quant): LinearQuant(sf=None, bits=8, overflow_rate=0.000, counter=20)\n",
      "    (22): ReLU(inplace=True)\n",
      "    (23): MaxPool2d(kernel_size=2, stride=2, padding=0, dilation=1, ceil_mode=False)\n",
      "    (24): Conv2d(512, 512, kernel_size=(3, 3), stride=(1, 1), padding=(1, 1))\n",
      "    (24_linear_quant): LinearQuant(sf=None, bits=8, overflow_rate=0.000, counter=20)\n",
      "    (25): ReLU(inplace=True)\n",
      "    (26): Conv2d(512, 512, kernel_size=(3, 3), stride=(1, 1), padding=(1, 1))\n",
      "    (26_linear_quant): LinearQuant(sf=None, bits=8, overflow_rate=0.000, counter=20)\n",
      "    (27): ReLU(inplace=True)\n",
      "    (28): Conv2d(512, 512, kernel_size=(3, 3), stride=(1, 1), padding=(1, 1))\n",
      "    (28_linear_quant): LinearQuant(sf=None, bits=8, overflow_rate=0.000, counter=20)\n",
      "    (29): ReLU(inplace=True)\n",
      "    (30): MaxPool2d(kernel_size=2, stride=2, padding=0, dilation=1, ceil_mode=False)\n",
      "  )\n",
      "  (classifier): Sequential(\n",
      "    (0): Linear(in_features=512, out_features=4096, bias=True)\n",
      "    (0_linear_quant): LinearQuant(sf=None, bits=8, overflow_rate=0.000, counter=20)\n",
      "    (1): Linear(in_features=4096, out_features=4096, bias=True)\n",
      "    (1_linear_quant): LinearQuant(sf=None, bits=8, overflow_rate=0.000, counter=20)\n",
      "    (2): Linear(in_features=4096, out_features=10, bias=True)\n",
      "    (2_linear_quant): LinearQuant(sf=None, bits=8, overflow_rate=0.000, counter=20)\n",
      "  )\n",
      ")\n",
      "Building CIFAR-10 data loader with 1 workers\n",
      "Files already downloaded and verified\n"
     ]
    },
    {
     "name": "stderr",
     "output_type": "stream",
     "text": [
      " 95%|████████████████████████████████████████████████████████████████████████████████████████████████████████████████████████████████████████████████▍       | 19/20 [00:00<00:00, 76.73it/s]\n"
     ]
    },
    {
     "name": "stdout",
     "output_type": "stream",
     "text": [
      "Building CIFAR-10 data loader with 1 workers\n",
      "Files already downloaded and verified\n"
     ]
    },
    {
     "name": "stderr",
     "output_type": "stream",
     "text": [
      " 99%|█████████████████████████████████████████████████████████████████████████████████████████████████████████████████████████████████████████████████████▍ | 99/100 [00:02<00:00, 48.69it/s]"
     ]
    },
    {
     "name": "stdout",
     "output_type": "stream",
     "text": [
      "VGG(\n",
      "  (features): Sequential(\n",
      "    (0): Conv2d(3, 64, kernel_size=(3, 3), stride=(1, 1), padding=(1, 1))\n",
      "    (0_linear_quant): LinearQuant(sf=4, bits=8, overflow_rate=0.000, counter=0)\n",
      "    (1): ReLU(inplace=True)\n",
      "    (2): Conv2d(64, 64, kernel_size=(3, 3), stride=(1, 1), padding=(1, 1))\n",
      "    (2_linear_quant): LinearQuant(sf=2, bits=8, overflow_rate=0.000, counter=0)\n",
      "    (3): ReLU(inplace=True)\n",
      "    (4): MaxPool2d(kernel_size=2, stride=2, padding=0, dilation=1, ceil_mode=False)\n",
      "    (5): Conv2d(64, 128, kernel_size=(3, 3), stride=(1, 1), padding=(1, 1))\n",
      "    (5_linear_quant): LinearQuant(sf=2, bits=8, overflow_rate=0.000, counter=0)\n",
      "    (6): ReLU(inplace=True)\n",
      "    (7): Conv2d(128, 128, kernel_size=(3, 3), stride=(1, 1), padding=(1, 1))\n",
      "    (7_linear_quant): LinearQuant(sf=2, bits=8, overflow_rate=0.000, counter=0)\n",
      "    (8): ReLU(inplace=True)\n",
      "    (9): MaxPool2d(kernel_size=2, stride=2, padding=0, dilation=1, ceil_mode=False)\n",
      "    (10): Conv2d(128, 256, kernel_size=(3, 3), stride=(1, 1), padding=(1, 1))\n",
      "    (10_linear_quant): LinearQuant(sf=2, bits=8, overflow_rate=0.000, counter=0)\n",
      "    (11): ReLU(inplace=True)\n",
      "    (12): Conv2d(256, 256, kernel_size=(3, 3), stride=(1, 1), padding=(1, 1))\n",
      "    (12_linear_quant): LinearQuant(sf=3, bits=8, overflow_rate=0.000, counter=0)\n",
      "    (13): ReLU(inplace=True)\n",
      "    (14): Conv2d(256, 256, kernel_size=(3, 3), stride=(1, 1), padding=(1, 1))\n",
      "    (14_linear_quant): LinearQuant(sf=3, bits=8, overflow_rate=0.000, counter=0)\n",
      "    (15): ReLU(inplace=True)\n",
      "    (16): MaxPool2d(kernel_size=2, stride=2, padding=0, dilation=1, ceil_mode=False)\n",
      "    (17): Conv2d(256, 512, kernel_size=(3, 3), stride=(1, 1), padding=(1, 1))\n",
      "    (17_linear_quant): LinearQuant(sf=4, bits=8, overflow_rate=0.000, counter=0)\n",
      "    (18): ReLU(inplace=True)\n",
      "    (19): Conv2d(512, 512, kernel_size=(3, 3), stride=(1, 1), padding=(1, 1))\n",
      "    (19_linear_quant): LinearQuant(sf=4, bits=8, overflow_rate=0.000, counter=0)\n",
      "    (20): ReLU(inplace=True)\n",
      "    (21): Conv2d(512, 512, kernel_size=(3, 3), stride=(1, 1), padding=(1, 1))\n",
      "    (21_linear_quant): LinearQuant(sf=4, bits=8, overflow_rate=0.000, counter=0)\n",
      "    (22): ReLU(inplace=True)\n",
      "    (23): MaxPool2d(kernel_size=2, stride=2, padding=0, dilation=1, ceil_mode=False)\n",
      "    (24): Conv2d(512, 512, kernel_size=(3, 3), stride=(1, 1), padding=(1, 1))\n",
      "    (24_linear_quant): LinearQuant(sf=5, bits=8, overflow_rate=0.000, counter=0)\n",
      "    (25): ReLU(inplace=True)\n",
      "    (26): Conv2d(512, 512, kernel_size=(3, 3), stride=(1, 1), padding=(1, 1))\n",
      "    (26_linear_quant): LinearQuant(sf=5, bits=8, overflow_rate=0.000, counter=0)\n",
      "    (27): ReLU(inplace=True)\n",
      "    (28): Conv2d(512, 512, kernel_size=(3, 3), stride=(1, 1), padding=(1, 1))\n",
      "    (28_linear_quant): LinearQuant(sf=5, bits=8, overflow_rate=0.000, counter=0)\n",
      "    (29): ReLU(inplace=True)\n",
      "    (30): MaxPool2d(kernel_size=2, stride=2, padding=0, dilation=1, ceil_mode=False)\n",
      "  )\n",
      "  (classifier): Sequential(\n",
      "    (0): Linear(in_features=512, out_features=4096, bias=True)\n",
      "    (0_linear_quant): LinearQuant(sf=6, bits=8, overflow_rate=0.000, counter=0)\n",
      "    (1): Linear(in_features=4096, out_features=4096, bias=True)\n",
      "    (1_linear_quant): LinearQuant(sf=6, bits=8, overflow_rate=0.000, counter=0)\n",
      "    (2): Linear(in_features=4096, out_features=10, bias=True)\n",
      "    (2_linear_quant): LinearQuant(sf=2, bits=8, overflow_rate=0.000, counter=0)\n",
      "  )\n",
      ")\n",
      "type=vgg16, quant_method=linear, param_bits=8, bn_bits=8, fwd_bits=8, overflow_rate=0.0, acc1=0.8566, acc5=0.9920\n"
     ]
    },
    {
     "name": "stderr",
     "output_type": "stream",
     "text": [
      "\n"
     ]
    }
   ],
   "source": [
    "# Train and evaluate model with 8-bit precision for weights and activations\n",
    "args = Args(type='vgg16', param_bits=8, fwd_bits=8, bn_bits=8, data_root='/tmp/public_dataset/pytorch', ngpu=1)\n",
    "quantized_model = run(args)"
   ]
  },
  {
   "cell_type": "code",
   "execution_count": 21,
   "id": "a8fa55f8",
   "metadata": {},
   "outputs": [],
   "source": [
    "torch.save(quantized_model.state_dict(), \"quantized_check_point.pth\")"
   ]
  },
  {
   "cell_type": "code",
   "execution_count": 22,
   "id": "e35765ff",
   "metadata": {},
   "outputs": [
    {
     "name": "stdout",
     "output_type": "stream",
     "text": [
      "Quantized Model Size = 134.6 MB\n"
     ]
    }
   ],
   "source": [
    "print(f\"Quantized Model Size = {os.path.getsize('quantized_check_point.pth') / (1e6) :.1f} MB\")"
   ]
  },
  {
   "cell_type": "code",
   "execution_count": null,
   "id": "766e6783",
   "metadata": {},
   "outputs": [],
   "source": []
  },
  {
   "cell_type": "code",
   "execution_count": 23,
   "id": "4febe3e3",
   "metadata": {
    "scrolled": false
   },
   "outputs": [
    {
     "name": "stderr",
     "output_type": "stream",
     "text": [
      "Setting GPU: ['0']\n",
      "Building and initializing vgg16 parameters\n"
     ]
    },
    {
     "name": "stdout",
     "output_type": "stream",
     "text": [
      "=================FLAGS==================\n",
      "type: vgg16\n",
      "quant_method: linear\n",
      "batch_size: 100\n",
      "gpu: ['0']\n",
      "ngpu: 1\n",
      "seed: 117\n",
      "model_root: /home/rg3387/.torch/models\n",
      "data_root: /tmp/public_dataset/pytorch\n",
      "logdir: log/default\n",
      "input_size: 224\n",
      "n_sample: 20\n",
      "param_bits: 4\n",
      "bn_bits: 4\n",
      "fwd_bits: 4\n",
      "overflow_rate: 0.0\n",
      "lr: 0.1\n",
      "========================================\n"
     ]
    },
    {
     "name": "stderr",
     "output_type": "stream",
     "text": [
      "---------------\n",
      "{'model_root': '/home/rg3387/.torch/models'}\n",
      "---------------\n"
     ]
    },
    {
     "name": "stdout",
     "output_type": "stream",
     "text": [
      "Building CIFAR-10 data loader with 1 workers\n",
      "Files already downloaded and verified\n",
      "Building CIFAR-10 data loader with 1 workers\n",
      "Files already downloaded and verified\n",
      "Loading checkpointed model\n",
      "features.0.weight 4\n",
      "features.0.bias 4\n",
      "features.2.weight 4\n",
      "features.2.bias 4\n",
      "features.5.weight 4\n",
      "features.5.bias 4\n",
      "features.7.weight 4\n",
      "features.7.bias 4\n",
      "features.10.weight 4\n",
      "features.10.bias 4\n",
      "features.12.weight 4\n",
      "features.12.bias 4\n",
      "features.14.weight 4\n",
      "features.14.bias 4\n",
      "features.17.weight 4\n",
      "features.17.bias 4\n",
      "features.19.weight 4\n",
      "features.19.bias 4\n",
      "features.21.weight 4\n",
      "features.21.bias 4\n",
      "features.24.weight 4\n",
      "features.24.bias 4\n",
      "features.26.weight 4\n",
      "features.26.bias 4\n",
      "features.28.weight 4\n",
      "features.28.bias 4\n",
      "classifier.0.weight 4\n",
      "classifier.0.bias 4\n",
      "classifier.1.weight 4\n",
      "classifier.1.bias 4\n",
      "classifier.2.weight 4\n",
      "classifier.2.bias 4\n",
      "VGG(\n",
      "  (features): Sequential(\n",
      "    (0): Conv2d(3, 64, kernel_size=(3, 3), stride=(1, 1), padding=(1, 1))\n",
      "    (0_linear_quant): LinearQuant(sf=None, bits=4, overflow_rate=0.000, counter=20)\n",
      "    (1): ReLU(inplace=True)\n",
      "    (2): Conv2d(64, 64, kernel_size=(3, 3), stride=(1, 1), padding=(1, 1))\n",
      "    (2_linear_quant): LinearQuant(sf=None, bits=4, overflow_rate=0.000, counter=20)\n",
      "    (3): ReLU(inplace=True)\n",
      "    (4): MaxPool2d(kernel_size=2, stride=2, padding=0, dilation=1, ceil_mode=False)\n",
      "    (5): Conv2d(64, 128, kernel_size=(3, 3), stride=(1, 1), padding=(1, 1))\n",
      "    (5_linear_quant): LinearQuant(sf=None, bits=4, overflow_rate=0.000, counter=20)\n",
      "    (6): ReLU(inplace=True)\n",
      "    (7): Conv2d(128, 128, kernel_size=(3, 3), stride=(1, 1), padding=(1, 1))\n",
      "    (7_linear_quant): LinearQuant(sf=None, bits=4, overflow_rate=0.000, counter=20)\n",
      "    (8): ReLU(inplace=True)\n",
      "    (9): MaxPool2d(kernel_size=2, stride=2, padding=0, dilation=1, ceil_mode=False)\n",
      "    (10): Conv2d(128, 256, kernel_size=(3, 3), stride=(1, 1), padding=(1, 1))\n",
      "    (10_linear_quant): LinearQuant(sf=None, bits=4, overflow_rate=0.000, counter=20)\n",
      "    (11): ReLU(inplace=True)\n",
      "    (12): Conv2d(256, 256, kernel_size=(3, 3), stride=(1, 1), padding=(1, 1))\n",
      "    (12_linear_quant): LinearQuant(sf=None, bits=4, overflow_rate=0.000, counter=20)\n",
      "    (13): ReLU(inplace=True)\n",
      "    (14): Conv2d(256, 256, kernel_size=(3, 3), stride=(1, 1), padding=(1, 1))\n",
      "    (14_linear_quant): LinearQuant(sf=None, bits=4, overflow_rate=0.000, counter=20)\n",
      "    (15): ReLU(inplace=True)\n",
      "    (16): MaxPool2d(kernel_size=2, stride=2, padding=0, dilation=1, ceil_mode=False)\n",
      "    (17): Conv2d(256, 512, kernel_size=(3, 3), stride=(1, 1), padding=(1, 1))\n",
      "    (17_linear_quant): LinearQuant(sf=None, bits=4, overflow_rate=0.000, counter=20)\n",
      "    (18): ReLU(inplace=True)\n",
      "    (19): Conv2d(512, 512, kernel_size=(3, 3), stride=(1, 1), padding=(1, 1))\n",
      "    (19_linear_quant): LinearQuant(sf=None, bits=4, overflow_rate=0.000, counter=20)\n",
      "    (20): ReLU(inplace=True)\n",
      "    (21): Conv2d(512, 512, kernel_size=(3, 3), stride=(1, 1), padding=(1, 1))\n",
      "    (21_linear_quant): LinearQuant(sf=None, bits=4, overflow_rate=0.000, counter=20)\n",
      "    (22): ReLU(inplace=True)\n",
      "    (23): MaxPool2d(kernel_size=2, stride=2, padding=0, dilation=1, ceil_mode=False)\n",
      "    (24): Conv2d(512, 512, kernel_size=(3, 3), stride=(1, 1), padding=(1, 1))\n",
      "    (24_linear_quant): LinearQuant(sf=None, bits=4, overflow_rate=0.000, counter=20)\n",
      "    (25): ReLU(inplace=True)\n",
      "    (26): Conv2d(512, 512, kernel_size=(3, 3), stride=(1, 1), padding=(1, 1))\n",
      "    (26_linear_quant): LinearQuant(sf=None, bits=4, overflow_rate=0.000, counter=20)\n",
      "    (27): ReLU(inplace=True)\n",
      "    (28): Conv2d(512, 512, kernel_size=(3, 3), stride=(1, 1), padding=(1, 1))\n",
      "    (28_linear_quant): LinearQuant(sf=None, bits=4, overflow_rate=0.000, counter=20)\n",
      "    (29): ReLU(inplace=True)\n",
      "    (30): MaxPool2d(kernel_size=2, stride=2, padding=0, dilation=1, ceil_mode=False)\n",
      "  )\n",
      "  (classifier): Sequential(\n",
      "    (0): Linear(in_features=512, out_features=4096, bias=True)\n",
      "    (0_linear_quant): LinearQuant(sf=None, bits=4, overflow_rate=0.000, counter=20)\n",
      "    (1): Linear(in_features=4096, out_features=4096, bias=True)\n",
      "    (1_linear_quant): LinearQuant(sf=None, bits=4, overflow_rate=0.000, counter=20)\n",
      "    (2): Linear(in_features=4096, out_features=10, bias=True)\n",
      "    (2_linear_quant): LinearQuant(sf=None, bits=4, overflow_rate=0.000, counter=20)\n",
      "  )\n",
      ")\n",
      "Building CIFAR-10 data loader with 1 workers\n",
      "Files already downloaded and verified\n"
     ]
    },
    {
     "name": "stderr",
     "output_type": "stream",
     "text": [
      " 95%|████████████████████████████████████████████████████████████████████████████████████████████████████████████████████████████████████████████████▍       | 19/20 [00:00<00:00, 76.69it/s]\n"
     ]
    },
    {
     "name": "stdout",
     "output_type": "stream",
     "text": [
      "Building CIFAR-10 data loader with 1 workers\n",
      "Files already downloaded and verified\n"
     ]
    },
    {
     "name": "stderr",
     "output_type": "stream",
     "text": [
      " 99%|█████████████████████████████████████████████████████████████████████████████████████████████████████████████████████████████████████████████████████▍ | 99/100 [00:02<00:00, 46.67it/s]"
     ]
    },
    {
     "name": "stdout",
     "output_type": "stream",
     "text": [
      "VGG(\n",
      "  (features): Sequential(\n",
      "    (0): Conv2d(3, 64, kernel_size=(3, 3), stride=(1, 1), padding=(1, 1))\n",
      "    (0_linear_quant): LinearQuant(sf=0, bits=4, overflow_rate=0.000, counter=0)\n",
      "    (1): ReLU(inplace=True)\n",
      "    (2): Conv2d(64, 64, kernel_size=(3, 3), stride=(1, 1), padding=(1, 1))\n",
      "    (2_linear_quant): LinearQuant(sf=-2, bits=4, overflow_rate=0.000, counter=0)\n",
      "    (3): ReLU(inplace=True)\n",
      "    (4): MaxPool2d(kernel_size=2, stride=2, padding=0, dilation=1, ceil_mode=False)\n",
      "    (5): Conv2d(64, 128, kernel_size=(3, 3), stride=(1, 1), padding=(1, 1))\n",
      "    (5_linear_quant): LinearQuant(sf=-2, bits=4, overflow_rate=0.000, counter=0)\n",
      "    (6): ReLU(inplace=True)\n",
      "    (7): Conv2d(128, 128, kernel_size=(3, 3), stride=(1, 1), padding=(1, 1))\n",
      "    (7_linear_quant): LinearQuant(sf=-2, bits=4, overflow_rate=0.000, counter=0)\n",
      "    (8): ReLU(inplace=True)\n",
      "    (9): MaxPool2d(kernel_size=2, stride=2, padding=0, dilation=1, ceil_mode=False)\n",
      "    (10): Conv2d(128, 256, kernel_size=(3, 3), stride=(1, 1), padding=(1, 1))\n",
      "    (10_linear_quant): LinearQuant(sf=-1, bits=4, overflow_rate=0.000, counter=0)\n",
      "    (11): ReLU(inplace=True)\n",
      "    (12): Conv2d(256, 256, kernel_size=(3, 3), stride=(1, 1), padding=(1, 1))\n",
      "    (12_linear_quant): LinearQuant(sf=-1, bits=4, overflow_rate=0.000, counter=0)\n",
      "    (13): ReLU(inplace=True)\n",
      "    (14): Conv2d(256, 256, kernel_size=(3, 3), stride=(1, 1), padding=(1, 1))\n",
      "    (14_linear_quant): LinearQuant(sf=-1, bits=4, overflow_rate=0.000, counter=0)\n",
      "    (15): ReLU(inplace=True)\n",
      "    (16): MaxPool2d(kernel_size=2, stride=2, padding=0, dilation=1, ceil_mode=False)\n",
      "    (17): Conv2d(256, 512, kernel_size=(3, 3), stride=(1, 1), padding=(1, 1))\n",
      "    (17_linear_quant): LinearQuant(sf=0, bits=4, overflow_rate=0.000, counter=0)\n",
      "    (18): ReLU(inplace=True)\n",
      "    (19): Conv2d(512, 512, kernel_size=(3, 3), stride=(1, 1), padding=(1, 1))\n",
      "    (19_linear_quant): LinearQuant(sf=0, bits=4, overflow_rate=0.000, counter=0)\n",
      "    (20): ReLU(inplace=True)\n",
      "    (21): Conv2d(512, 512, kernel_size=(3, 3), stride=(1, 1), padding=(1, 1))\n",
      "    (21_linear_quant): LinearQuant(sf=0, bits=4, overflow_rate=0.000, counter=0)\n",
      "    (22): ReLU(inplace=True)\n",
      "    (23): MaxPool2d(kernel_size=2, stride=2, padding=0, dilation=1, ceil_mode=False)\n",
      "    (24): Conv2d(512, 512, kernel_size=(3, 3), stride=(1, 1), padding=(1, 1))\n",
      "    (24_linear_quant): LinearQuant(sf=1, bits=4, overflow_rate=0.000, counter=0)\n",
      "    (25): ReLU(inplace=True)\n",
      "    (26): Conv2d(512, 512, kernel_size=(3, 3), stride=(1, 1), padding=(1, 1))\n",
      "    (26_linear_quant): LinearQuant(sf=1, bits=4, overflow_rate=0.000, counter=0)\n",
      "    (27): ReLU(inplace=True)\n",
      "    (28): Conv2d(512, 512, kernel_size=(3, 3), stride=(1, 1), padding=(1, 1))\n",
      "    (28_linear_quant): LinearQuant(sf=1, bits=4, overflow_rate=0.000, counter=0)\n",
      "    (29): ReLU(inplace=True)\n",
      "    (30): MaxPool2d(kernel_size=2, stride=2, padding=0, dilation=1, ceil_mode=False)\n",
      "  )\n",
      "  (classifier): Sequential(\n",
      "    (0): Linear(in_features=512, out_features=4096, bias=True)\n",
      "    (0_linear_quant): LinearQuant(sf=2, bits=4, overflow_rate=0.000, counter=0)\n",
      "    (1): Linear(in_features=4096, out_features=4096, bias=True)\n",
      "    (1_linear_quant): LinearQuant(sf=2, bits=4, overflow_rate=0.000, counter=0)\n",
      "    (2): Linear(in_features=4096, out_features=10, bias=True)\n",
      "    (2_linear_quant): LinearQuant(sf=-2, bits=4, overflow_rate=0.000, counter=0)\n",
      "  )\n",
      ")\n",
      "type=vgg16, quant_method=linear, param_bits=4, bn_bits=4, fwd_bits=4, overflow_rate=0.0, acc1=0.3260, acc5=0.6766\n"
     ]
    },
    {
     "name": "stderr",
     "output_type": "stream",
     "text": [
      "\n"
     ]
    }
   ],
   "source": [
    "# Train and evaluate model with 4-bit precision for weights and activations\n",
    "args = Args(type='vgg16', param_bits=4, fwd_bits=4, bn_bits=4, data_root='/tmp/public_dataset/pytorch', ngpu=1)\n",
    "quantized_model = run(args)"
   ]
  },
  {
   "cell_type": "code",
   "execution_count": 24,
   "id": "c3762a9b",
   "metadata": {},
   "outputs": [],
   "source": [
    "torch.save(quantized_model.state_dict(), \"quantized_check_point.pth\")"
   ]
  },
  {
   "cell_type": "code",
   "execution_count": 25,
   "id": "dd7ab396",
   "metadata": {},
   "outputs": [
    {
     "name": "stdout",
     "output_type": "stream",
     "text": [
      "Quantized Model Size = 134.6 MB\n"
     ]
    }
   ],
   "source": [
    "print(f\"Quantized Model Size = {os.path.getsize('quantized_check_point.pth') / (1e6) :.1f} MB\")"
   ]
  },
  {
   "cell_type": "code",
   "execution_count": null,
   "id": "2bab0cc4",
   "metadata": {},
   "outputs": [],
   "source": [
    "# type=vgg16, quant_method=linear, param_bits=32, bn_bits=32, fwd_bits=32, overflow_rate=0.0, acc1=0.8584, acc5=0.9920\n",
    "# type=vgg16, quant_method=linear, param_bits=16, bn_bits=16, fwd_bits=16, overflow_rate=0.0, acc1=0.8583, acc5=0.9920\n",
    "# type=vgg16, quant_method=linear, param_bits=8, bn_bits=8, fwd_bits=8, overflow_rate=0.0, acc1=0.8566, acc5=0.9920\n",
    "# type=vgg16, quant_method=linear, param_bits=4, bn_bits=4, fwd_bits=4, overflow_rate=0.0, acc1=0.3260, acc5=0.6766"
   ]
  },
  {
   "cell_type": "code",
   "execution_count": 1,
   "id": "06298e7e",
   "metadata": {},
   "outputs": [],
   "source": [
    "top1 = [0.8584, 0.8583, 0.8566, 0.3260]\n",
    "top5 = [0.9920, 0.9920, 0.9920, 0.6766]"
   ]
  },
  {
   "cell_type": "code",
   "execution_count": 6,
   "id": "2247061b",
   "metadata": {},
   "outputs": [
    {
     "data": {
      "image/png": "[encoded data removed]",
      "text/plain": [
       "<Figure size 576x432 with 1 Axes>"
      ]
     },
     "metadata": {
      "needs_background": "light"
     },
     "output_type": "display_data"
    }
   ],
   "source": [
    "plt.figure(figsize=(8,6))\n",
    "plt.bar(np.arange(4) - 0.2, top1, 0.4, label='Top 1 Accuracy')\n",
    "plt.bar(np.arange(4) + 0.2, top5, 0.4, label='Top 5 Accuracy')\n",
    "plt.xticks(np.arange(4), [32, 16, 8, 4])\n",
    "plt.xlabel('Precision')\n",
    "plt.ylabel('Accuracy')\n",
    "plt.title('Accuracy with Different Levels of Precision')\n",
    "plt.legend()\n",
    "plt.show()"
   ]
  },
  {
   "cell_type": "code",
   "execution_count": 7,
   "id": "626d6599",
   "metadata": {},
   "outputs": [
    {
     "data": {
      "image/png": "[encoded data removed]",
      "text/plain": [
       "<Figure size 576x432 with 1 Axes>"
      ]
     },
     "metadata": {
      "needs_background": "light"
     },
     "output_type": "display_data"
    }
   ],
   "source": [
    "plt.figure(figsize=(8,6))\n",
    "plt.plot(np.arange(4), top1, marker='o', label='Top 1')\n",
    "plt.plot(np.arange(4), top5, marker='o', label='Top 5')\n",
    "plt.xticks(np.arange(4), [32, 16, 8, 4])\n",
    "plt.xlabel('Precision')\n",
    "plt.ylabel('Accuracy')\n",
    "plt.title('Accuracy with Different Levels of Precision')\n",
    "plt.legend()\n",
    "plt.show()"
   ]
  },
  {
   "cell_type": "code",
   "execution_count": null,
   "id": "515b6322",
   "metadata": {},
   "outputs": [],
   "source": []
  }
 ],
 "metadata": {
  "kernelspec": {
   "display_name": "Python 3 (ipykernel)",
   "language": "python",
   "name": "python3"
  },
  "language_info": {
   "codemirror_mode": {
    "name": "ipython",
    "version": 3
   },
   "file_extension": ".py",
   "mimetype": "text/x-python",
   "name": "python",
   "nbconvert_exporter": "python",
   "pygments_lexer": "ipython3",
   "version": "3.9.13"
  }
 },
 "nbformat": 4,
 "nbformat_minor": 5
}
