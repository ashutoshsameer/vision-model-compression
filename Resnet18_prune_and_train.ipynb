{
 "cells": [
  {
   "cell_type": "code",
   "execution_count": 1,
   "id": "db3f649b",
   "metadata": {},
   "outputs": [],
   "source": [
    "import torchvision\n",
    "import numpy as np\n",
    "from Torch_Pruning.examples.cifar_minimal.cifar_resnet import ResNet18\n",
    "import Torch_Pruning.examples.cifar_minimal.cifar_resnet as resnet\n",
    "\n",
    "import Torch_Pruning.torch_pruning as tp\n",
    "import argparse\n",
    "import torch\n",
    "from torchvision.datasets import CIFAR10\n",
    "from torchvision import transforms\n",
    "import torch.nn.functional as F\n",
    "import torch.nn as nn \n",
    "import numpy as np \n",
    "import os"
   ]
  },
  {
   "cell_type": "code",
   "execution_count": 2,
   "id": "4978d0bf",
   "metadata": {},
   "outputs": [],
   "source": [
    "def get_dataloader():\n",
    "    train_loader = torch.utils.data.DataLoader(\n",
    "        CIFAR10('./data', train=True, transform=transforms.Compose([\n",
    "            transforms.RandomCrop(32, padding=4),\n",
    "            transforms.RandomHorizontalFlip(),\n",
    "            transforms.ToTensor(),\n",
    "        ]), download=True),batch_size=256, num_workers=2)\n",
    "    test_loader = torch.utils.data.DataLoader(\n",
    "        CIFAR10('./data', train=False, transform=transforms.Compose([\n",
    "            transforms.ToTensor(),\n",
    "        ]),download=True),batch_size=256, num_workers=2)\n",
    "    return train_loader, test_loader\n",
    "\n",
    "def eval(model, test_loader):\n",
    "    correct = 0\n",
    "    total = 0\n",
    "    device = torch.device(\"cuda\" if torch.cuda.is_available() else \"cpu\")\n",
    "    model.to(device)\n",
    "    model.eval()\n",
    "    with torch.no_grad():\n",
    "        for i, (img, target) in enumerate(test_loader):\n",
    "            img = img.to(device)\n",
    "            out = model(img)\n",
    "            pred = out.max(1)[1].detach().cpu().numpy()\n",
    "            target = target.cpu().numpy()\n",
    "            correct += (pred==target).sum()\n",
    "            total += len(target)\n",
    "    return correct / total\n",
    "\n",
    "def train_model(model, train_loader, test_loader, epochs, round_num):\n",
    "    \n",
    "    device = torch.device(\"cuda\" if torch.cuda.is_available() else \"cpu\")\n",
    "    optimizer = torch.optim.SGD(model.parameters(), lr=0.1, momentum=0.9, weight_decay=1e-4)\n",
    "    scheduler = torch.optim.lr_scheduler.StepLR(optimizer, 70, 0.1)\n",
    "    model.to(device)\n",
    "\n",
    "    acc_s = []\n",
    "    best_acc = -1\n",
    "    for epoch in range(epochs):\n",
    "        model.train()\n",
    "        for i, (img, target) in enumerate(train_loader):\n",
    "            img, target = img.to(device), target.to(device)\n",
    "            optimizer.zero_grad()\n",
    "            out = model(img)\n",
    "            loss = F.cross_entropy(out, target)\n",
    "            loss.backward()\n",
    "            optimizer.step()\n",
    "#             if i%10==0 and args.verbose:\n",
    "#                 print(\"Epoch %d/%d, iter %d/%d, loss=%.4f\"%(epoch, args.total_epochs, i, len(train_loader), \\\n",
    "# loss.item()))\n",
    "        model.eval()\n",
    "        acc = eval(model, test_loader)\n",
    "#         print(\"Epoch %d/%d, Acc=%.4f\"%(epoch, epochs, acc))\n",
    "        acc_s.append(acc)\n",
    "        if best_acc<acc:\n",
    "            torch.save( model, 'resnet18-round%d.pth'%(round_num) )\n",
    "            best_acc=acc\n",
    "        scheduler.step()\n",
    "#     print(\"Best Acc=%.4f\"%(best_acc))\n",
    "    return best_acc, np.mean(acc_s)\n",
    "\n",
    "def prune_model(model, block_prune_probs, strategy_name='l1'):\n",
    "    model.cpu()\n",
    "    DG = tp.DependencyGraph().build_dependency( model, torch.randn(1, 3, 32, 32) )\n",
    "    def prune_conv(conv, amount=0.2, strategy_name='l1'):\n",
    "        strategy = tp.strategy.L1Strategy() if strategy_name == 'l1' else tp.strategy.RandomStrategy()\n",
    "        pruning_index = strategy(conv.weight, amount=amount)\n",
    "        plan = DG.get_pruning_plan(conv, tp.prune_conv_out_channel, pruning_index)\n",
    "        plan.exec()\n",
    "    \n",
    "    blk_id = 0\n",
    "    for m in model.modules():\n",
    "        if isinstance(m, resnet.BasicBlock):\n",
    "            prune_conv(m.conv1, block_prune_probs[blk_id], strategy_name)\n",
    "            prune_conv(m.conv2, block_prune_probs[blk_id], strategy_name)\n",
    "            blk_id+=1\n",
    "#     print(model)\n",
    "    return model "
   ]
  },
  {
   "cell_type": "code",
   "execution_count": 3,
   "id": "35992fc4",
   "metadata": {},
   "outputs": [],
   "source": [
    "def count_params(model):\n",
    "    params = sum([np.prod(p.size()) for p in model.parameters()])\n",
    "    print(\"Number of Parameters: %.1fM\"%(params/1e6))\n",
    "    return params"
   ]
  },
  {
   "cell_type": "code",
   "execution_count": 4,
   "id": "cd4cd1e5",
   "metadata": {},
   "outputs": [
    {
     "name": "stdout",
     "output_type": "stream",
     "text": [
      "Files already downloaded and verified\n",
      "Files already downloaded and verified\n"
     ]
    }
   ],
   "source": [
    "train_loader, test_loader = get_dataloader()"
   ]
  },
  {
   "cell_type": "code",
   "execution_count": 5,
   "id": "628ef73f",
   "metadata": {},
   "outputs": [],
   "source": [
    "dicts = []"
   ]
  },
  {
   "cell_type": "code",
   "execution_count": 6,
   "id": "0a3b95ae",
   "metadata": {},
   "outputs": [],
   "source": [
    "block_probs = [\n",
    "    [0.1, 0.1, 0.2, 0.2, 0.2, 0.2, 0.3, 0.3],\n",
    "    [0.5, 0.1, 0.3, 0.1, 0.2, 0.3, 0.6, 0.5],\n",
    "    [0.2, 0.3, 0.5, 0.3, 0.4, 0.4, 0.4, 0.1],\n",
    "]"
   ]
  },
  {
   "cell_type": "code",
   "execution_count": 19,
   "id": "143746ce",
   "metadata": {
    "scrolled": true
   },
   "outputs": [
    {
     "name": "stdout",
     "output_type": "stream",
     "text": [
      "Probs: [0.1, 0.1, 0.2, 0.2, 0.2, 0.2, 0.3, 0.3]\n",
      "--------------------------\n",
      "------ Round 0 ------\n",
      "Number of Parameters: 11.2M\n",
      "Model Size: 42.707 MB\n",
      "------ Round 1 ------\n",
      "Number of Parameters: 4.5M\n",
      "Model Size: 17.213 MB\n",
      "------ Round 2 ------\n",
      "Number of Parameters: 1.9M\n",
      "Model Size: 7.307 MB\n",
      "------ Round 3 ------\n",
      "Number of Parameters: 0.8M\n",
      "Model Size: 3.288 MB\n",
      "------ Round 4 ------\n",
      "Number of Parameters: 0.4M\n",
      "Model Size: 1.600 MB\n",
      "------ Round 5 ------\n",
      "Number of Parameters: 0.2M\n",
      "Model Size: 0.846 MB\n",
      "--------------------------\n",
      "Probs: [0.5, 0.1, 0.3, 0.1, 0.2, 0.3, 0.6, 0.5]\n",
      "--------------------------\n",
      "------ Round 0 ------\n",
      "Number of Parameters: 11.2M\n",
      "Model Size: 42.707 MB\n",
      "------ Round 1 ------\n",
      "Number of Parameters: 2.2M\n",
      "Model Size: 8.275 MB\n",
      "------ Round 2 ------\n",
      "Number of Parameters: 0.7M\n",
      "Model Size: 2.617 MB\n",
      "------ Round 3 ------\n",
      "Number of Parameters: 0.3M\n",
      "Model Size: 1.116 MB\n",
      "------ Round 4 ------\n",
      "Number of Parameters: 0.1M\n",
      "Model Size: 0.542 MB\n",
      "------ Round 5 ------\n",
      "Number of Parameters: 0.1M\n",
      "Model Size: 0.300 MB\n",
      "--------------------------\n",
      "Probs: [0.2, 0.3, 0.5, 0.3, 0.4, 0.4, 0.4, 0.1]\n",
      "--------------------------\n",
      "------ Round 0 ------\n",
      "Number of Parameters: 11.2M\n",
      "Model Size: 42.707 MB\n",
      "------ Round 1 ------\n",
      "Number of Parameters: 4.0M\n",
      "Model Size: 15.364 MB\n",
      "------ Round 2 ------\n",
      "Number of Parameters: 1.6M\n",
      "Model Size: 6.184 MB\n",
      "------ Round 3 ------\n",
      "Number of Parameters: 0.7M\n",
      "Model Size: 2.708 MB\n",
      "------ Round 4 ------\n",
      "Number of Parameters: 0.3M\n",
      "Model Size: 1.271 MB\n",
      "------ Round 5 ------\n",
      "Number of Parameters: 0.2M\n",
      "Model Size: 0.640 MB\n",
      "--------------------------\n"
     ]
    }
   ],
   "source": [
    "for probs in block_probs:\n",
    "    print(f'Probs: {probs}')\n",
    "    print('--------------------------')\n",
    "    model = ResNet18(num_classes=10)\n",
    "    model_dict = {\n",
    "        'best': [],\n",
    "        'mean': [],\n",
    "        'params': [],\n",
    "        'size': [],\n",
    "        'out_ch': [],\n",
    "        'macs_params': []\n",
    "    }\n",
    "    for i in range(6):\n",
    "        print(f'------ Round {i} ------')\n",
    "        if i > 0:\n",
    "            prune_model(model, probs, 'l1')\n",
    "        param = count_params(model)\n",
    "        best, mean = train_model(model, train_loader, test_loader, 50 if i == 0 else 30, i)\n",
    "        model_dict['best'].append(best)\n",
    "        model_dict['mean'].append(mean)\n",
    "        model_dict['params'].append(param)\n",
    "        model_dict['size'].append(os.path.getsize(f'resnet18-round{i}.pth') / 1024 / 1024)\n",
    "        model_dict['macs_params'].append(tp.utils.count_macs_and_params(model.cpu(), (1,3,32,32)))\n",
    "        print(f\"Model Size: {model_dict['size'][-1]:.3f} MB\")\n",
    "        \n",
    "        ch = []\n",
    "        for a in model.modules():\n",
    "            if isinstance(a, torch.nn.modules.conv.Conv2d):\n",
    "                ch.append(a.weight.shape[0])\n",
    "        model_dict['out_ch'].append(ch)\n",
    "    dicts.append(model_dict)\n",
    "    print('--------------------------')"
   ]
  },
  {
   "cell_type": "code",
   "execution_count": 141,
   "id": "bea03b31",
   "metadata": {},
   "outputs": [
    {
     "data": {
      "text/plain": [
       "[{'best': [0.8834, 0.8799, 0.8866, 0.886, 0.8804, 0.8608],\n",
       "  'mean': [0.786796,\n",
       "   0.8634433333333332,\n",
       "   0.8694533333333332,\n",
       "   0.8600033333333333,\n",
       "   0.8552000000000001,\n",
       "   0.8388066666666666],\n",
       "  'params': [11173962, 4493525, 1898868, 846389, 405164, 207707],\n",
       "  'size': [42.70704364776611,\n",
       "   17.212563514709473,\n",
       "   7.306679725646973,\n",
       "   3.2883081436157227,\n",
       "   1.5998926162719727,\n",
       "   0.8461084365844727],\n",
       "  'out_ch': [[64,\n",
       "    64,\n",
       "    64,\n",
       "    64,\n",
       "    64,\n",
       "    128,\n",
       "    128,\n",
       "    128,\n",
       "    128,\n",
       "    128,\n",
       "    256,\n",
       "    256,\n",
       "    256,\n",
       "    256,\n",
       "    256,\n",
       "    512,\n",
       "    512,\n",
       "    512,\n",
       "    512,\n",
       "    512],\n",
       "   [53,\n",
       "    58,\n",
       "    53,\n",
       "    58,\n",
       "    53,\n",
       "    103,\n",
       "    83,\n",
       "    83,\n",
       "    103,\n",
       "    83,\n",
       "    205,\n",
       "    164,\n",
       "    164,\n",
       "    205,\n",
       "    164,\n",
       "    359,\n",
       "    252,\n",
       "    252,\n",
       "    359,\n",
       "    252],\n",
       "   [44,\n",
       "    53,\n",
       "    44,\n",
       "    53,\n",
       "    44,\n",
       "    83,\n",
       "    54,\n",
       "    54,\n",
       "    83,\n",
       "    54,\n",
       "    164,\n",
       "    106,\n",
       "    106,\n",
       "    164,\n",
       "    106,\n",
       "    252,\n",
       "    124,\n",
       "    124,\n",
       "    252,\n",
       "    124],\n",
       "   [36,\n",
       "    48,\n",
       "    36,\n",
       "    48,\n",
       "    36,\n",
       "    67,\n",
       "    36,\n",
       "    36,\n",
       "    67,\n",
       "    36,\n",
       "    132,\n",
       "    68,\n",
       "    68,\n",
       "    132,\n",
       "    68,\n",
       "    177,\n",
       "    61,\n",
       "    61,\n",
       "    177,\n",
       "    61],\n",
       "   [30,\n",
       "    44,\n",
       "    30,\n",
       "    44,\n",
       "    30,\n",
       "    54,\n",
       "    24,\n",
       "    24,\n",
       "    54,\n",
       "    24,\n",
       "    106,\n",
       "    44,\n",
       "    44,\n",
       "    106,\n",
       "    44,\n",
       "    124,\n",
       "    31,\n",
       "    31,\n",
       "    124,\n",
       "    31],\n",
       "   [25,\n",
       "    40,\n",
       "    25,\n",
       "    40,\n",
       "    25,\n",
       "    44,\n",
       "    16,\n",
       "    16,\n",
       "    44,\n",
       "    16,\n",
       "    85,\n",
       "    29,\n",
       "    29,\n",
       "    85,\n",
       "    29,\n",
       "    87,\n",
       "    16,\n",
       "    16,\n",
       "    87,\n",
       "    16]],\n",
       "  'macs_params': [(442323968.0, 11173962.0),\n",
       "   (219554712.0, 4493525.0),\n",
       "   (115663064.0, 1898868.0),\n",
       "   (64214546.0, 846389.0),\n",
       "   (37784438.0, 405164.0),\n",
       "   (23314448.0, 207707.0)]},\n",
       " {'best': [0.8797, 0.8876, 0.879, 0.8565, 0.1, 0.1],\n",
       "  'mean': [0.78364,\n",
       "   0.8642766666666667,\n",
       "   0.84252,\n",
       "   0.7970100000000002,\n",
       "   0.0999966666666667,\n",
       "   0.10000000000000003],\n",
       "  'params': [11173962, 2152326, 671048, 278433, 128391, 65126],\n",
       "  'size': [42.70704364776611,\n",
       "   8.275490760803223,\n",
       "   2.6171655654907227,\n",
       "   1.1155786514282227,\n",
       "   0.5416040420532227,\n",
       "   0.29966068267822266],\n",
       "  'out_ch': [[64,\n",
       "    64,\n",
       "    64,\n",
       "    64,\n",
       "    64,\n",
       "    128,\n",
       "    128,\n",
       "    128,\n",
       "    128,\n",
       "    128,\n",
       "    256,\n",
       "    256,\n",
       "    256,\n",
       "    256,\n",
       "    256,\n",
       "    512,\n",
       "    512,\n",
       "    512,\n",
       "    512,\n",
       "    512],\n",
       "   [29,\n",
       "    32,\n",
       "    29,\n",
       "    58,\n",
       "    29,\n",
       "    90,\n",
       "    81,\n",
       "    81,\n",
       "    116,\n",
       "    81,\n",
       "    205,\n",
       "    144,\n",
       "    144,\n",
       "    180,\n",
       "    144,\n",
       "    205,\n",
       "    103,\n",
       "    103,\n",
       "    256,\n",
       "    103],\n",
       "   [14,\n",
       "    16,\n",
       "    14,\n",
       "    53,\n",
       "    14,\n",
       "    63,\n",
       "    52,\n",
       "    52,\n",
       "    105,\n",
       "    52,\n",
       "    164,\n",
       "    82,\n",
       "    82,\n",
       "    126,\n",
       "    82,\n",
       "    82,\n",
       "    21,\n",
       "    21,\n",
       "    128,\n",
       "    21],\n",
       "   [7, 8, 7, 48, 7, 45, 34, 34, 95, 34, 132, 47, 47, 89, 47, 33, 5, 5, 64, 5],\n",
       "   [4, 4, 4, 44, 4, 32, 22, 22, 86, 22, 106, 27, 27, 63, 27, 14, 1, 1, 32, 1],\n",
       "   [2, 2, 2, 40, 2, 23, 15, 15, 78, 15, 85, 16, 16, 45, 16, 6, 1, 1, 16, 1]],\n",
       "  'macs_params': [(442323968.0, 11173962.0),\n",
       "   (152132598.0, 2152326.0),\n",
       "   (66925970.0, 671048.0),\n",
       "   (32899618.0, 278433.0),\n",
       "   (16942586.0, 128391.0),\n",
       "   (9328746.0, 65126.0)]},\n",
       " {'best': [0.8824, 0.8749, 0.8639, 0.8365, 0.7848, 0.7246],\n",
       "  'mean': [0.783424,\n",
       "   0.8556966666666665,\n",
       "   0.8357366666666669,\n",
       "   0.7843333333333333,\n",
       "   0.7248800000000001,\n",
       "   0.6627866666666666],\n",
       "  'params': [11173962, 4009921, 1605196, 695340, 319130, 154066],\n",
       "  'size': [42.70704364776611,\n",
       "   15.364235877990723,\n",
       "   6.183693885803223,\n",
       "   2.7076807022094727,\n",
       "   1.2707910537719727,\n",
       "   0.6398706436157227],\n",
       "  'out_ch': [[64,\n",
       "    64,\n",
       "    64,\n",
       "    64,\n",
       "    64,\n",
       "    128,\n",
       "    128,\n",
       "    128,\n",
       "    128,\n",
       "    128,\n",
       "    256,\n",
       "    256,\n",
       "    256,\n",
       "    256,\n",
       "    256,\n",
       "    512,\n",
       "    512,\n",
       "    512,\n",
       "    512,\n",
       "    512],\n",
       "   [37,\n",
       "    52,\n",
       "    37,\n",
       "    45,\n",
       "    37,\n",
       "    64,\n",
       "    45,\n",
       "    45,\n",
       "    90,\n",
       "    45,\n",
       "    154,\n",
       "    93,\n",
       "    93,\n",
       "    154,\n",
       "    93,\n",
       "    308,\n",
       "    278,\n",
       "    278,\n",
       "    461,\n",
       "    278],\n",
       "   [21,\n",
       "    42,\n",
       "    21,\n",
       "    32,\n",
       "    21,\n",
       "    32,\n",
       "    17,\n",
       "    17,\n",
       "    63,\n",
       "    17,\n",
       "    93,\n",
       "    34,\n",
       "    34,\n",
       "    93,\n",
       "    34,\n",
       "    185,\n",
       "    151,\n",
       "    151,\n",
       "    415,\n",
       "    151],\n",
       "   [12,\n",
       "    34,\n",
       "    12,\n",
       "    23,\n",
       "    12,\n",
       "    16,\n",
       "    7,\n",
       "    7,\n",
       "    45,\n",
       "    7,\n",
       "    56,\n",
       "    13,\n",
       "    13,\n",
       "    56,\n",
       "    13,\n",
       "    111,\n",
       "    82,\n",
       "    82,\n",
       "    374,\n",
       "    82],\n",
       "   [7, 28, 7, 17, 7, 8, 3, 3, 32, 3, 34, 5, 5, 34, 5, 67, 45, 45, 337, 45],\n",
       "   [5, 23, 5, 12, 5, 4, 2, 2, 23, 2, 21, 2, 2, 21, 2, 41, 25, 25, 304, 25]],\n",
       "  'macs_params': [(442323968.0, 11173962.0),\n",
       "   (131524156.0, 4009921.0),\n",
       "   (45036278.0, 1605196.0),\n",
       "   (17531236.0, 695340.0),\n",
       "   (7512914.0, 319130.0),\n",
       "   (3690442.0, 154066.0)]}]"
      ]
     },
     "execution_count": 141,
     "metadata": {},
     "output_type": "execute_result"
    }
   ],
   "source": [
    "dicts"
   ]
  },
  {
   "cell_type": "code",
   "execution_count": 22,
   "id": "e352074c",
   "metadata": {},
   "outputs": [],
   "source": [
    "import matplotlib.pyplot as plt"
   ]
  },
  {
   "cell_type": "code",
   "execution_count": 162,
   "id": "bc7a9d76",
   "metadata": {},
   "outputs": [
    {
     "data": {
      "image/png": "[encoded data removed]",
      "text/plain": [
       "<Figure size 864x576 with 1 Axes>"
      ]
     },
     "metadata": {
      "needs_background": "light"
     },
     "output_type": "display_data"
    }
   ],
   "source": [
    "plt.figure(figsize=(12, 8))\n",
    "deltas = [-0.1, 0, 0.1]\n",
    "X = np.arange(1, 7)\n",
    "for i in range(3):\n",
    "    p = dicts[i]['best']\n",
    "    for j in range(6):\n",
    "        plt.bar(X[j] + deltas[i], p[j], 0.1)\n",
    "plt.xlabel('Rounds')\n",
    "plt.ylabel('Accuracy Value')\n",
    "plt.title('Accuracy vs Pruning Rounds')\n",
    "plt.show()\n"
   ]
  },
  {
   "cell_type": "code",
   "execution_count": 163,
   "id": "8d97eafa",
   "metadata": {},
   "outputs": [
    {
     "data": {
      "image/png": "[encoded data removed]",
      "text/plain": [
       "<Figure size 864x576 with 1 Axes>"
      ]
     },
     "metadata": {
      "needs_background": "light"
     },
     "output_type": "display_data"
    }
   ],
   "source": [
    "plt.figure(figsize=(12, 8))\n",
    "deltas = [-0.1, 0, 0.1]\n",
    "X = np.arange(1, 7)\n",
    "for i in range(3):\n",
    "    p = dicts[i]['mean']\n",
    "    for j in range(6):\n",
    "        plt.bar(X[j] + deltas[i], p[j], 0.1)\n",
    "plt.xlabel('Rounds')\n",
    "plt.ylabel('Accuracy Value')\n",
    "plt.title('Accuracy vs Pruning Rounds')\n",
    "plt.show()\n"
   ]
  },
  {
   "cell_type": "code",
   "execution_count": 146,
   "id": "2998eea9",
   "metadata": {},
   "outputs": [
    {
     "data": {
      "image/png": "[encoded data removed]",
      "text/plain": [
       "<Figure size 432x288 with 1 Axes>"
      ]
     },
     "metadata": {
      "needs_background": "light"
     },
     "output_type": "display_data"
    }
   ],
   "source": [
    "plt.plot(dicts[0]['best'], label='Best Accuracy')\n",
    "plt.plot(dicts[0]['mean'], label='Mean Accuracy')\n",
    "plt.plot(dicts[1]['best'], label='Best Accuracy 1')\n",
    "plt.plot(dicts[1]['mean'], label='Mean Accuracy 1')\n",
    "plt.plot(dicts[2]['best'], label='Best Accuracy 2')\n",
    "plt.plot(dicts[2]['mean'], label='Mean Accuracy 2')\n",
    "plt.legend()\n",
    "plt.xlabel('Rounds')\n",
    "plt.ylabel('Accuracy Value')\n",
    "plt.title('Accuracy vs Pruning Rounds')\n",
    "plt.show()"
   ]
  },
  {
   "cell_type": "code",
   "execution_count": 156,
   "id": "093ce614",
   "metadata": {},
   "outputs": [
    {
     "data": {
      "text/plain": [
       "([11173962, 4493525, 1898868, 846389, 405164, 207707],\n",
       " [11173962, 2152326, 671048, 278433, 128391, 65126],\n",
       " [11173962, 4009921, 1605196, 695340, 319130, 154066])"
      ]
     },
     "execution_count": 156,
     "metadata": {},
     "output_type": "execute_result"
    }
   ],
   "source": [
    "dicts[0]['params'], dicts[1]['params'], dicts[2]['params']"
   ]
  },
  {
   "cell_type": "code",
   "execution_count": 157,
   "id": "047ec409",
   "metadata": {},
   "outputs": [
    {
     "data": {
      "image/png": "[encoded data removed]",
      "text/plain": [
       "<Figure size 864x576 with 1 Axes>"
      ]
     },
     "metadata": {
      "needs_background": "light"
     },
     "output_type": "display_data"
    }
   ],
   "source": [
    "plt.figure(figsize=(12, 8))\n",
    "deltas = [-0.1, 0, 0.1]\n",
    "X = np.arange(1, 7)\n",
    "for i in range(3):\n",
    "    p = dicts[i]['params']\n",
    "    for j in range(6):\n",
    "        plt.bar(X[j] + deltas[i], p[j], 0.1)\n",
    "plt.xlabel('Rounds')\n",
    "plt.ylabel('Number of Parameters (In millions)')\n",
    "plt.title('Number of Parameters vs Pruning Rounds')\n",
    "plt.show()\n"
   ]
  },
  {
   "cell_type": "code",
   "execution_count": 159,
   "id": "71d84023",
   "metadata": {},
   "outputs": [
    {
     "data": {
      "image/png": "[encoded data removed]",
      "text/plain": [
       "<Figure size 864x576 with 1 Axes>"
      ]
     },
     "metadata": {
      "needs_background": "light"
     },
     "output_type": "display_data"
    }
   ],
   "source": [
    "plt.figure(figsize=(12, 8))\n",
    "deltas = [-0.1, 0, 0.1]\n",
    "X = np.arange(1, 7)\n",
    "for i in range(3):\n",
    "    p = dicts[i]['size']\n",
    "    for j in range(6):\n",
    "        plt.bar(X[j] + deltas[i], p[j], 0.1)\n",
    "plt.xlabel('Rounds')\n",
    "plt.ylabel('Model Size (in MB)')\n",
    "plt.title('Model Size vs Pruning Rounds')\n",
    "plt.show()\n"
   ]
  },
  {
   "cell_type": "code",
   "execution_count": 140,
   "id": "d90f2de8",
   "metadata": {
    "scrolled": false
   },
   "outputs": [
    {
     "data": {
      "image/png": "[encoded data removed]",
      "text/plain": [
       "<Figure size 864x576 with 1 Axes>"
      ]
     },
     "metadata": {
      "needs_background": "light"
     },
     "output_type": "display_data"
    }
   ],
   "source": [
    "X = np.arange(1, 21)\n",
    "plt.figure(figsize=(12, 8))\n",
    "# colors = ['g', 'b', 'y', 'm', 'c', 'r']\n",
    "# colors = ['lightcoral', 'teal', 'yellowgreen', 'darkturquoise', 'pink', 'orange']\n",
    "\n",
    "deltas = [-0.3, -0.2, -0.1, 0, 0.1, 0.2]\n",
    "for i in range(len(dicts[0]['out_ch'][0])):\n",
    "    x = [a[i] for a in dicts[0]['out_ch']]\n",
    "    for j in range(len(deltas)):\n",
    "        plt.bar(X[i] + deltas[j], x[j], 0.1)#, color=colors[j])\n",
    "plt.xticks(X)\n",
    "plt.xlabel('Conv Layer Number')\n",
    "plt.ylabel('Number of Filters')\n",
    "plt.title('Round-wise Drop in Filters after Pruning for Each Conv Layer')\n",
    "plt.show()"
   ]
  },
  {
   "cell_type": "code",
   "execution_count": 64,
   "id": "ac9e67c8",
   "metadata": {},
   "outputs": [
    {
     "data": {
      "image/png": "[encoded data removed]",
      "text/plain": [
       "<Figure size 432x288 with 1 Axes>"
      ]
     },
     "metadata": {
      "needs_background": "light"
     },
     "output_type": "display_data"
    }
   ],
   "source": [
    "for i in range(len(dicts[0]['out_ch'])):\n",
    "    plt.plot(dicts[0]['out_ch'][i], label=f'Round {i}')\n",
    "plt.legend()\n",
    "plt.show()"
   ]
  },
  {
   "cell_type": "code",
   "execution_count": 160,
   "id": "43a2ac75",
   "metadata": {},
   "outputs": [
    {
     "data": {
      "image/png": "[encoded data removed]",
      "text/plain": [
       "<Figure size 864x576 with 1 Axes>"
      ]
     },
     "metadata": {
      "needs_background": "light"
     },
     "output_type": "display_data"
    }
   ],
   "source": [
    "plt.figure(figsize=(12, 8))\n",
    "deltas = [-0.1, 0, 0.1]\n",
    "X = np.arange(1, 7)\n",
    "for i in range(3):\n",
    "    p = dicts[i]['macs_params']\n",
    "    for j in range(6):\n",
    "        plt.bar(X[j] + deltas[i], p[j], 0.1)\n",
    "plt.xlabel('Rounds')\n",
    "plt.ylabel('FLOPS')\n",
    "plt.title('FLOPS vs Pruning Rounds')\n",
    "plt.show()\n"
   ]
  },
  {
   "cell_type": "code",
   "execution_count": null,
   "id": "bdff079a",
   "metadata": {},
   "outputs": [],
   "source": []
  }
 ],
 "metadata": {
  "kernelspec": {
   "display_name": "Python 3 (ipykernel)",
   "language": "python",
   "name": "python3"
  },
  "language_info": {
   "codemirror_mode": {
    "name": "ipython",
    "version": 3
   },
   "file_extension": ".py",
   "mimetype": "text/x-python",
   "name": "python",
   "nbconvert_exporter": "python",
   "pygments_lexer": "ipython3",
   "version": "3.9.12"
  }
 },
 "nbformat": 4,
 "nbformat_minor": 5
}
